{
  "cells": [
    {
      "cell_type": "markdown",
      "id": "b076bd1a-b236-4fbc-953d-8295b25122ae",
      "metadata": {
        "id": "b076bd1a-b236-4fbc-953d-8295b25122ae"
      },
      "source": [
        "# 🚀 GPT"
      ]
    },
    {
      "cell_type": "markdown",
      "id": "4dca6836-0007-43f3-af65-d12ae1922c02",
      "metadata": {
        "tags": [],
        "id": "4dca6836-0007-43f3-af65-d12ae1922c02"
      },
      "source": [
        "In this notebook, we'll walk through the steps required to train your own GPT model on the wine review dataset"
      ]
    },
    {
      "cell_type": "markdown",
      "id": "3e6cb7c7-d3d5-4b12-b357-1f6118edffe0",
      "metadata": {
        "id": "3e6cb7c7-d3d5-4b12-b357-1f6118edffe0"
      },
      "source": [
        "The code is adapted from the excellent [GPT tutorial](https://keras.io/examples/generative/text_generation_with_miniature_gpt/) created by Apoorv Nandan available on the Keras website."
      ]
    },
    {
      "cell_type": "code",
      "source": [
        "!git clone https://github.com/mxagar/generative_ai_book.git\n",
        "!mkdir notebooks\n",
        "!mkdir checkpoint\n",
        "!mkdir data\n",
        "!mkdir output\n",
        "!mkdir models\n",
        "!mv generative_ai_book/notebooks/utils.py ./notebooks/utils.py\n",
        "!mv generative_ai_book/notebooks/03_vae/03_vae_faces/vae_utils.py ./notebooks/vae_utils.py\n",
        "!pip install python-dotenv"
      ],
      "metadata": {
        "id": "tjI_qpAvmb_a",
        "outputId": "dba0ccfd-e673-45cd-d542-e6851c006c26",
        "colab": {
          "base_uri": "https://localhost:8080/"
        }
      },
      "id": "tjI_qpAvmb_a",
      "execution_count": 1,
      "outputs": [
        {
          "output_type": "stream",
          "name": "stdout",
          "text": [
            "Cloning into 'generative_ai_book'...\n",
            "remote: Enumerating objects: 837, done.\u001b[K\n",
            "remote: Counting objects: 100% (379/379), done.\u001b[K\n",
            "remote: Compressing objects: 100% (184/184), done.\u001b[K\n",
            "remote: Total 837 (delta 239), reused 266 (delta 192), pack-reused 458 (from 1)\u001b[K\n",
            "Receiving objects: 100% (837/837), 57.97 MiB | 13.01 MiB/s, done.\n",
            "Resolving deltas: 100% (474/474), done.\n",
            "Collecting python-dotenv\n",
            "  Downloading python_dotenv-1.0.1-py3-none-any.whl.metadata (23 kB)\n",
            "Downloading python_dotenv-1.0.1-py3-none-any.whl (19 kB)\n",
            "Installing collected packages: python-dotenv\n",
            "Successfully installed python-dotenv-1.0.1\n"
          ]
        }
      ]
    },
    {
      "cell_type": "code",
      "source": [
        "from dotenv import load_dotenv\n",
        "import os\n",
        "\n",
        "# Load environment variables from the .env file\n",
        "load_dotenv()\n",
        "\n",
        "# Set an environment variable\n",
        "# Get values from ./scripts/download.sh\n",
        "# E.g., celebrity faces dataset: jessicali9530, celeba-dataset\n",
        "os.environ['KAGGLE_DATASET_USER'] = 'zynicide'\n",
        "os.environ['KAGGLE_DATASET'] = 'wine-reviews'"
      ],
      "metadata": {
        "id": "jrXugljNmfIY"
      },
      "id": "jrXugljNmfIY",
      "execution_count": 11,
      "outputs": []
    },
    {
      "cell_type": "code",
      "source": [
        "import os\n",
        "\n",
        "# Download dataset\n",
        "os.system(\"cd data/ && kaggle datasets download -d $KAGGLE_DATASET_USER/$KAGGLE_DATASET\")\n",
        "!unzip -q -o data/$KAGGLE_DATASET.zip -d data/$KAGGLE_DATASET\n",
        "!rm data/$KAGGLE_DATASET.zip"
      ],
      "metadata": {
        "id": "M68w2AX1miUJ"
      },
      "id": "M68w2AX1miUJ",
      "execution_count": 3,
      "outputs": []
    },
    {
      "cell_type": "code",
      "execution_count": 12,
      "id": "73350761-bef2-4e96-b3ac-a158eabd2b65",
      "metadata": {
        "tags": [],
        "id": "73350761-bef2-4e96-b3ac-a158eabd2b65",
        "outputId": "ed94a269-80bd-44e9-a6c1-12e627ab7113",
        "colab": {
          "base_uri": "https://localhost:8080/"
        }
      },
      "outputs": [
        {
          "output_type": "stream",
          "name": "stdout",
          "text": [
            "The autoreload extension is already loaded. To reload it, use:\n",
            "  %reload_ext autoreload\n"
          ]
        }
      ],
      "source": [
        "%load_ext autoreload\n",
        "%autoreload 2\n",
        "import numpy as np\n",
        "import json\n",
        "import re\n",
        "import string\n",
        "from IPython.display import display, HTML\n",
        "\n",
        "import tensorflow as tf\n",
        "from tensorflow.keras import layers, models, losses, callbacks"
      ]
    },
    {
      "cell_type": "markdown",
      "id": "339e6268-ebd7-4feb-86db-1fe7abccdbe5",
      "metadata": {
        "id": "339e6268-ebd7-4feb-86db-1fe7abccdbe5"
      },
      "source": [
        "## 0. Parameters <a name=\"parameters\"></a>"
      ]
    },
    {
      "cell_type": "code",
      "execution_count": 13,
      "id": "2d8352af-343e-4c2e-8c91-95f8bac1c8a1",
      "metadata": {
        "id": "2d8352af-343e-4c2e-8c91-95f8bac1c8a1"
      },
      "outputs": [],
      "source": [
        "VOCAB_SIZE = 10000\n",
        "MAX_LEN = 80\n",
        "EMBEDDING_DIM = 256\n",
        "KEY_DIM = 256\n",
        "N_HEADS = 2\n",
        "FEED_FORWARD_DIM = 256\n",
        "VALIDATION_SPLIT = 0.2\n",
        "SEED = 42\n",
        "LOAD_MODEL = False\n",
        "BATCH_SIZE = 32\n",
        "EPOCHS = 5"
      ]
    },
    {
      "cell_type": "markdown",
      "id": "b7716fac-0010-49b0-b98e-53be2259edde",
      "metadata": {
        "id": "b7716fac-0010-49b0-b98e-53be2259edde"
      },
      "source": [
        "## 1. Load the data <a name=\"load\"></a>"
      ]
    },
    {
      "cell_type": "code",
      "execution_count": 14,
      "id": "93cf6b0f-9667-4146-8911-763a8a2925d3",
      "metadata": {
        "tags": [],
        "id": "93cf6b0f-9667-4146-8911-763a8a2925d3"
      },
      "outputs": [],
      "source": [
        "# Load the full dataset\n",
        "with open(\"./data/wine-reviews/winemag-data-130k-v2.json\") as json_data:\n",
        "    wine_data = json.load(json_data)"
      ]
    },
    {
      "cell_type": "code",
      "execution_count": 15,
      "id": "2db5c0fc-0d5f-42ab-ade1-57e594c416ec",
      "metadata": {
        "tags": [],
        "id": "2db5c0fc-0d5f-42ab-ade1-57e594c416ec",
        "outputId": "300268c2-431d-4cea-ab04-870e71ef7517",
        "colab": {
          "base_uri": "https://localhost:8080/"
        }
      },
      "outputs": [
        {
          "output_type": "execute_result",
          "data": {
            "text/plain": [
              "{'points': '87',\n",
              " 'title': 'Kirkland Signature 2011 Mountain Cuvée Cabernet Sauvignon (Napa Valley)',\n",
              " 'description': 'Soft, supple plum envelopes an oaky structure in this Cabernet, supported by 15% Merlot. Coffee and chocolate complete the picture, finishing strong at the end, resulting in a value-priced wine of attractive flavor and immediate accessibility.',\n",
              " 'taster_name': 'Virginie Boone',\n",
              " 'taster_twitter_handle': '@vboone',\n",
              " 'price': 19,\n",
              " 'designation': 'Mountain Cuvée',\n",
              " 'variety': 'Cabernet Sauvignon',\n",
              " 'region_1': 'Napa Valley',\n",
              " 'region_2': 'Napa',\n",
              " 'province': 'California',\n",
              " 'country': 'US',\n",
              " 'winery': 'Kirkland Signature'}"
            ]
          },
          "metadata": {},
          "execution_count": 15
        }
      ],
      "source": [
        "wine_data[10]"
      ]
    },
    {
      "cell_type": "code",
      "execution_count": 16,
      "id": "23a74eca-f1b7-4a46-9a1f-b5806a4ed361",
      "metadata": {
        "tags": [],
        "id": "23a74eca-f1b7-4a46-9a1f-b5806a4ed361"
      },
      "outputs": [],
      "source": [
        "# Filter the dataset\n",
        "filtered_data = [\n",
        "    \"wine review : \"\n",
        "    + x[\"country\"]\n",
        "    + \" : \"\n",
        "    + x[\"province\"]\n",
        "    + \" : \"\n",
        "    + x[\"variety\"]\n",
        "    + \" : \"\n",
        "    + x[\"description\"]\n",
        "    for x in wine_data\n",
        "    if x[\"country\"] is not None\n",
        "    and x[\"province\"] is not None\n",
        "    and x[\"variety\"] is not None\n",
        "    and x[\"description\"] is not None\n",
        "]"
      ]
    },
    {
      "cell_type": "code",
      "execution_count": 17,
      "id": "389c20de-0422-4c48-a7b4-6ee12a7bf0e2",
      "metadata": {
        "tags": [],
        "id": "389c20de-0422-4c48-a7b4-6ee12a7bf0e2",
        "outputId": "88cf91aa-def0-4f77-bca5-79e5a1e00dac",
        "colab": {
          "base_uri": "https://localhost:8080/"
        }
      },
      "outputs": [
        {
          "output_type": "stream",
          "name": "stdout",
          "text": [
            "129907 recipes loaded\n"
          ]
        }
      ],
      "source": [
        "# Count the recipes\n",
        "n_wines = len(filtered_data)\n",
        "print(f\"{n_wines} recipes loaded\")"
      ]
    },
    {
      "cell_type": "code",
      "execution_count": 18,
      "id": "1b2e3cf7-e416-460e-874a-0dd9637bca36",
      "metadata": {
        "id": "1b2e3cf7-e416-460e-874a-0dd9637bca36",
        "outputId": "339a9e85-9415-4de8-f3d9-f58e766a5cd5",
        "colab": {
          "base_uri": "https://localhost:8080/"
        }
      },
      "outputs": [
        {
          "output_type": "stream",
          "name": "stdout",
          "text": [
            "wine review : US : California : Pinot Noir : Oak and earth intermingle around robust aromas of wet forest floor in this vineyard-designated Pinot that hails from a high-elevation site. Small in production, it offers intense, full-bodied raspberry and blackberry steeped in smoky spice and smooth texture.\n"
          ]
        }
      ],
      "source": [
        "example = filtered_data[25]\n",
        "print(example)"
      ]
    },
    {
      "cell_type": "markdown",
      "id": "3f871aaf-d873-41c7-8946-e4eef7ac17c1",
      "metadata": {
        "id": "3f871aaf-d873-41c7-8946-e4eef7ac17c1"
      },
      "source": [
        "## 2. Tokenize the data <a name=\"tokenize\"></a>"
      ]
    },
    {
      "cell_type": "code",
      "execution_count": 19,
      "id": "5b2064fb-5dcc-4657-b470-0928d10e2ddc",
      "metadata": {
        "tags": [],
        "id": "5b2064fb-5dcc-4657-b470-0928d10e2ddc"
      },
      "outputs": [],
      "source": [
        "# Pad the punctuation, to treat them as separate 'words'\n",
        "def pad_punctuation(s):\n",
        "    s = re.sub(f\"([{string.punctuation}, '\\n'])\", r\" \\1 \", s)\n",
        "    s = re.sub(\" +\", \" \", s)\n",
        "    return s\n",
        "\n",
        "\n",
        "text_data = [pad_punctuation(x) for x in filtered_data]"
      ]
    },
    {
      "cell_type": "code",
      "execution_count": 20,
      "id": "b87d7c65-9a46-492a-a5c0-a043b0d252f3",
      "metadata": {
        "id": "b87d7c65-9a46-492a-a5c0-a043b0d252f3",
        "outputId": "5a0ac389-6fa0-406d-9048-b1a1bf9a4a4d",
        "colab": {
          "base_uri": "https://localhost:8080/",
          "height": 89
        }
      },
      "outputs": [
        {
          "output_type": "execute_result",
          "data": {
            "text/plain": [
              "'wine review : US : California : Pinot Noir : Oak and earth intermingle around robust aromas of wet forest floor in this vineyard - designated Pinot that hails from a high - elevation site . Small in production , it offers intense , full - bodied raspberry and blackberry steeped in smoky spice and smooth texture . '"
            ],
            "application/vnd.google.colaboratory.intrinsic+json": {
              "type": "string"
            }
          },
          "metadata": {},
          "execution_count": 20
        }
      ],
      "source": [
        "# Display an example of a recipe\n",
        "example_data = text_data[25]\n",
        "example_data"
      ]
    },
    {
      "cell_type": "code",
      "execution_count": 21,
      "id": "9834f916-b21a-4104-acc9-f28d3bd7a8c1",
      "metadata": {
        "tags": [],
        "id": "9834f916-b21a-4104-acc9-f28d3bd7a8c1"
      },
      "outputs": [],
      "source": [
        "# Convert to a Tensorflow Dataset\n",
        "text_ds = (\n",
        "    tf.data.Dataset.from_tensor_slices(text_data)\n",
        "    .batch(BATCH_SIZE)\n",
        "    .shuffle(1000)\n",
        ")"
      ]
    },
    {
      "cell_type": "code",
      "execution_count": 22,
      "id": "884c0bcb-0807-45a1-8f7e-a32f2c6fa4de",
      "metadata": {
        "id": "884c0bcb-0807-45a1-8f7e-a32f2c6fa4de"
      },
      "outputs": [],
      "source": [
        "# Create a vectorisation layer\n",
        "vectorize_layer = layers.TextVectorization(\n",
        "    standardize=\"lower\",\n",
        "    max_tokens=VOCAB_SIZE,\n",
        "    output_mode=\"int\",\n",
        "    output_sequence_length=MAX_LEN + 1,\n",
        ")"
      ]
    },
    {
      "cell_type": "code",
      "execution_count": 23,
      "id": "4d6dd34a-d905-497b-926a-405380ebcf98",
      "metadata": {
        "id": "4d6dd34a-d905-497b-926a-405380ebcf98"
      },
      "outputs": [],
      "source": [
        "# Adapt the layer to the training set\n",
        "vectorize_layer.adapt(text_ds)\n",
        "vocab = vectorize_layer.get_vocabulary()"
      ]
    },
    {
      "cell_type": "code",
      "execution_count": 24,
      "id": "f6c1c7ce-3cf0-40d4-a3dc-ab7090f69f2f",
      "metadata": {
        "id": "f6c1c7ce-3cf0-40d4-a3dc-ab7090f69f2f",
        "outputId": "c8208dae-2284-4187-cb38-c1bbd8c02069",
        "colab": {
          "base_uri": "https://localhost:8080/"
        }
      },
      "outputs": [
        {
          "output_type": "stream",
          "name": "stdout",
          "text": [
            "0: \n",
            "1: [UNK]\n",
            "2: :\n",
            "3: ,\n",
            "4: .\n",
            "5: and\n",
            "6: the\n",
            "7: wine\n",
            "8: a\n",
            "9: of\n"
          ]
        }
      ],
      "source": [
        "# Display some token:word mappings\n",
        "for i, word in enumerate(vocab[:10]):\n",
        "    print(f\"{i}: {word}\")"
      ]
    },
    {
      "cell_type": "code",
      "execution_count": 25,
      "id": "1cc30186-7ec6-4eb6-b29a-65df6714d321",
      "metadata": {
        "id": "1cc30186-7ec6-4eb6-b29a-65df6714d321",
        "outputId": "591856fb-bbd9-4294-8cb8-209501690306",
        "colab": {
          "base_uri": "https://localhost:8080/"
        }
      },
      "outputs": [
        {
          "output_type": "stream",
          "name": "stdout",
          "text": [
            "[   7   10    2   20    2   29    2   43   62    2   55    5  243 4145\n",
            "  453  634   26    9  497  499  667   17   12  142   14 2214   43   25\n",
            " 2484   32    8  223   14 2213  948    4  594   17  987    3   15   75\n",
            "  237    3   64   14   82   97    5   74 2633   17  198   49    5  125\n",
            "   77    4    0    0    0    0    0    0    0    0    0    0    0    0\n",
            "    0    0    0    0    0    0    0    0    0    0    0]\n"
          ]
        }
      ],
      "source": [
        "# Display the same example converted to ints\n",
        "example_tokenised = vectorize_layer(example_data)\n",
        "print(example_tokenised.numpy())"
      ]
    },
    {
      "cell_type": "markdown",
      "id": "8c195efb-84c6-4be0-a989-a7542188ad35",
      "metadata": {
        "id": "8c195efb-84c6-4be0-a989-a7542188ad35"
      },
      "source": [
        "## 3. Create the Training Set <a name=\"create\"></a>"
      ]
    },
    {
      "cell_type": "code",
      "execution_count": 26,
      "id": "740294a1-1a6b-4c89-92f2-036d7d1b788b",
      "metadata": {
        "id": "740294a1-1a6b-4c89-92f2-036d7d1b788b"
      },
      "outputs": [],
      "source": [
        "# Create the training set of recipes and the same text shifted by one word\n",
        "def prepare_inputs(text):\n",
        "    text = tf.expand_dims(text, -1)\n",
        "    tokenized_sentences = vectorize_layer(text)\n",
        "    x = tokenized_sentences[:, :-1]\n",
        "    y = tokenized_sentences[:, 1:]\n",
        "    return x, y\n",
        "\n",
        "\n",
        "train_ds = text_ds.map(prepare_inputs)"
      ]
    },
    {
      "cell_type": "code",
      "execution_count": 27,
      "id": "cad80ffb-4298-4249-86b4-9918d62534c5",
      "metadata": {
        "id": "cad80ffb-4298-4249-86b4-9918d62534c5"
      },
      "outputs": [],
      "source": [
        "example_input_output = train_ds.take(1).get_single_element()"
      ]
    },
    {
      "cell_type": "code",
      "execution_count": 28,
      "id": "67ff7263-f62d-44c1-997b-1aa99a393521",
      "metadata": {
        "id": "67ff7263-f62d-44c1-997b-1aa99a393521",
        "outputId": "4d1cb480-2043-4358-9c6d-2ac08505339c",
        "colab": {
          "base_uri": "https://localhost:8080/"
        }
      },
      "outputs": [
        {
          "output_type": "execute_result",
          "data": {
            "text/plain": [
              "<tf.Tensor: shape=(80,), dtype=int64, numpy=\n",
              "array([   7,   10,    2,   20,    2,   29,    2,   45,   44,    2, 1580,\n",
              "        167, 1067,   91, 1778,  774, 2350,    3,   12,  411,   48,  430,\n",
              "          1,   71,    4,   15,   18,   21,  527,  771,   11,   74,  377,\n",
              "         25,   18,   21, 7667,  117,   11,   72,    3,  198,   55,    4,\n",
              "         11,    8,  987,    9,  660,    3, 1686, 1049,    3,   15,   18,\n",
              "         21,  186,   19,  605,   12, 1558,  137,    7,    4,   35,   66,\n",
              "          4,    0,    0,    0,    0,    0,    0,    0,    0,    0,    0,\n",
              "          0,    0,    0])>"
            ]
          },
          "metadata": {},
          "execution_count": 28
        }
      ],
      "source": [
        "# Example Input\n",
        "example_input_output[0][0]"
      ]
    },
    {
      "cell_type": "code",
      "execution_count": 29,
      "id": "ef2e2cad-414c-4e6d-a2ac-6b9598f9dd01",
      "metadata": {
        "id": "ef2e2cad-414c-4e6d-a2ac-6b9598f9dd01",
        "outputId": "f39daa08-e0bf-4d62-c2da-287f00af9da6",
        "colab": {
          "base_uri": "https://localhost:8080/"
        }
      },
      "outputs": [
        {
          "output_type": "execute_result",
          "data": {
            "text/plain": [
              "<tf.Tensor: shape=(80,), dtype=int64, numpy=\n",
              "array([  10,    2,   20,    2,   29,    2,   45,   44,    2, 1580,  167,\n",
              "       1067,   91, 1778,  774, 2350,    3,   12,  411,   48,  430,    1,\n",
              "         71,    4,   15,   18,   21,  527,  771,   11,   74,  377,   25,\n",
              "         18,   21, 7667,  117,   11,   72,    3,  198,   55,    4,   11,\n",
              "          8,  987,    9,  660,    3, 1686, 1049,    3,   15,   18,   21,\n",
              "        186,   19,  605,   12, 1558,  137,    7,    4,   35,   66,    4,\n",
              "          0,    0,    0,    0,    0,    0,    0,    0,    0,    0,    0,\n",
              "          0,    0,    0])>"
            ]
          },
          "metadata": {},
          "execution_count": 29
        }
      ],
      "source": [
        "# Example Output (shifted by one token)\n",
        "example_input_output[1][0]"
      ]
    },
    {
      "cell_type": "markdown",
      "id": "aff50401-3abe-4c10-bba8-b35bc13ad7d5",
      "metadata": {
        "tags": [],
        "id": "aff50401-3abe-4c10-bba8-b35bc13ad7d5"
      },
      "source": [
        "## 5. Create the causal attention mask function <a name=\"causal\"></a>"
      ]
    },
    {
      "cell_type": "code",
      "execution_count": 30,
      "id": "554a4184-61c2-4eb7-a063-d965586a8188",
      "metadata": {
        "id": "554a4184-61c2-4eb7-a063-d965586a8188",
        "outputId": "0a6027df-674c-471a-a7f0-5cd72b854fad",
        "colab": {
          "base_uri": "https://localhost:8080/"
        }
      },
      "outputs": [
        {
          "output_type": "execute_result",
          "data": {
            "text/plain": [
              "array([[1, 1, 1, 1, 1, 1, 1, 1, 1, 1],\n",
              "       [0, 1, 1, 1, 1, 1, 1, 1, 1, 1],\n",
              "       [0, 0, 1, 1, 1, 1, 1, 1, 1, 1],\n",
              "       [0, 0, 0, 1, 1, 1, 1, 1, 1, 1],\n",
              "       [0, 0, 0, 0, 1, 1, 1, 1, 1, 1],\n",
              "       [0, 0, 0, 0, 0, 1, 1, 1, 1, 1],\n",
              "       [0, 0, 0, 0, 0, 0, 1, 1, 1, 1],\n",
              "       [0, 0, 0, 0, 0, 0, 0, 1, 1, 1],\n",
              "       [0, 0, 0, 0, 0, 0, 0, 0, 1, 1],\n",
              "       [0, 0, 0, 0, 0, 0, 0, 0, 0, 1]], dtype=int32)"
            ]
          },
          "metadata": {},
          "execution_count": 30
        }
      ],
      "source": [
        "def causal_attention_mask(batch_size, n_dest, n_src, dtype):\n",
        "    i = tf.range(n_dest)[:, None]\n",
        "    j = tf.range(n_src)\n",
        "    m = i >= j - n_src + n_dest\n",
        "    mask = tf.cast(m, dtype)\n",
        "    mask = tf.reshape(mask, [1, n_dest, n_src])\n",
        "    mult = tf.concat(\n",
        "        [tf.expand_dims(batch_size, -1), tf.constant([1, 1], dtype=tf.int32)], 0\n",
        "    )\n",
        "    return tf.tile(mask, mult)\n",
        "\n",
        "\n",
        "np.transpose(causal_attention_mask(1, 10, 10, dtype=tf.int32)[0])"
      ]
    },
    {
      "cell_type": "markdown",
      "id": "3501dbad-0860-40ad-b7d6-47950e37858f",
      "metadata": {
        "id": "3501dbad-0860-40ad-b7d6-47950e37858f"
      },
      "source": [
        "## 6. Create a Transformer Block layer <a name=\"transformer\"></a>"
      ]
    },
    {
      "cell_type": "code",
      "execution_count": 31,
      "id": "5285a1cb-fce1-46b1-b088-b596002fa9ae",
      "metadata": {
        "id": "5285a1cb-fce1-46b1-b088-b596002fa9ae"
      },
      "outputs": [],
      "source": [
        "class TransformerBlock(layers.Layer):\n",
        "    def __init__(self, num_heads, key_dim, embed_dim, ff_dim, dropout_rate=0.1):\n",
        "        super(TransformerBlock, self).__init__()\n",
        "        self.num_heads = num_heads\n",
        "        self.key_dim = key_dim\n",
        "        self.embed_dim = embed_dim\n",
        "        self.ff_dim = ff_dim\n",
        "        self.dropout_rate = dropout_rate\n",
        "        self.attn = layers.MultiHeadAttention(\n",
        "            num_heads, key_dim, output_shape=embed_dim\n",
        "        )\n",
        "        self.dropout_1 = layers.Dropout(self.dropout_rate)\n",
        "        self.ln_1 = layers.LayerNormalization(epsilon=1e-6)\n",
        "        self.ffn_1 = layers.Dense(self.ff_dim, activation=\"relu\")\n",
        "        self.ffn_2 = layers.Dense(self.embed_dim)\n",
        "        self.dropout_2 = layers.Dropout(self.dropout_rate)\n",
        "        self.ln_2 = layers.LayerNormalization(epsilon=1e-6)\n",
        "\n",
        "    def call(self, inputs):\n",
        "        input_shape = tf.shape(inputs)\n",
        "        batch_size = input_shape[0]\n",
        "        seq_len = input_shape[1]\n",
        "        causal_mask = causal_attention_mask(\n",
        "            batch_size, seq_len, seq_len, tf.bool\n",
        "        )\n",
        "        attention_output, attention_scores = self.attn(\n",
        "            inputs,\n",
        "            inputs,\n",
        "            attention_mask=causal_mask,\n",
        "            return_attention_scores=True,\n",
        "        )\n",
        "        attention_output = self.dropout_1(attention_output)\n",
        "        out1 = self.ln_1(inputs + attention_output)\n",
        "        ffn_1 = self.ffn_1(out1)\n",
        "        ffn_2 = self.ffn_2(ffn_1)\n",
        "        ffn_output = self.dropout_2(ffn_2)\n",
        "        return (self.ln_2(out1 + ffn_output), attention_scores)\n",
        "\n",
        "    def get_config(self):\n",
        "        config = super().get_config()\n",
        "        config.update(\n",
        "            {\n",
        "                \"key_dim\": self.key_dim,\n",
        "                \"embed_dim\": self.embed_dim,\n",
        "                \"num_heads\": self.num_heads,\n",
        "                \"ff_dim\": self.ff_dim,\n",
        "                \"dropout_rate\": self.dropout_rate,\n",
        "            }\n",
        "        )\n",
        "        return config"
      ]
    },
    {
      "cell_type": "markdown",
      "id": "076a6be0-9796-4974-9bcd-6ebbcfe7514e",
      "metadata": {
        "tags": [],
        "id": "076a6be0-9796-4974-9bcd-6ebbcfe7514e"
      },
      "source": [
        "## 7. Create the Token and Position Embedding <a name=\"embedder\"></a>"
      ]
    },
    {
      "cell_type": "code",
      "execution_count": 32,
      "id": "fdf5cb25-88ae-4026-9e21-c1e6b5094a2c",
      "metadata": {
        "id": "fdf5cb25-88ae-4026-9e21-c1e6b5094a2c"
      },
      "outputs": [],
      "source": [
        "class TokenAndPositionEmbedding(layers.Layer):\n",
        "    def __init__(self, max_len, vocab_size, embed_dim):\n",
        "        super(TokenAndPositionEmbedding, self).__init__()\n",
        "        self.max_len = max_len\n",
        "        self.vocab_size = vocab_size\n",
        "        self.embed_dim = embed_dim\n",
        "        self.token_emb = layers.Embedding(\n",
        "            input_dim=vocab_size, output_dim=embed_dim\n",
        "        )\n",
        "        self.pos_emb = layers.Embedding(input_dim=max_len, output_dim=embed_dim)\n",
        "\n",
        "    def call(self, x):\n",
        "        maxlen = tf.shape(x)[-1]\n",
        "        positions = tf.range(start=0, limit=maxlen, delta=1)\n",
        "        positions = self.pos_emb(positions)\n",
        "        x = self.token_emb(x)\n",
        "        return x + positions\n",
        "\n",
        "    def get_config(self):\n",
        "        config = super().get_config()\n",
        "        config.update(\n",
        "            {\n",
        "                \"max_len\": self.max_len,\n",
        "                \"vocab_size\": self.vocab_size,\n",
        "                \"embed_dim\": self.embed_dim,\n",
        "            }\n",
        "        )\n",
        "        return config"
      ]
    },
    {
      "cell_type": "markdown",
      "id": "aac2e2d4-5980-47e3-b5b0-6c41c0c2d152",
      "metadata": {
        "id": "aac2e2d4-5980-47e3-b5b0-6c41c0c2d152"
      },
      "source": [
        "## 8. Build the Transformer model <a name=\"transformer_decoder\"></a>"
      ]
    },
    {
      "cell_type": "code",
      "execution_count": 33,
      "id": "8c57596e-e17d-4959-b6e8-7581b0bace3a",
      "metadata": {
        "id": "8c57596e-e17d-4959-b6e8-7581b0bace3a"
      },
      "outputs": [],
      "source": [
        "inputs = layers.Input(shape=(None,), dtype=tf.int32)\n",
        "x = TokenAndPositionEmbedding(MAX_LEN, VOCAB_SIZE, EMBEDDING_DIM)(inputs)\n",
        "x, attention_scores = TransformerBlock(\n",
        "    N_HEADS, KEY_DIM, EMBEDDING_DIM, FEED_FORWARD_DIM\n",
        ")(x)\n",
        "outputs = layers.Dense(VOCAB_SIZE, activation=\"softmax\")(x)\n",
        "gpt = models.Model(inputs=inputs, outputs=[outputs, attention_scores])\n",
        "gpt.compile(\"adam\", loss=[losses.SparseCategoricalCrossentropy(), None])"
      ]
    },
    {
      "cell_type": "code",
      "execution_count": 34,
      "id": "1a1c3b0f-3382-444d-bb04-bae143ae5d61",
      "metadata": {
        "id": "1a1c3b0f-3382-444d-bb04-bae143ae5d61",
        "outputId": "0bf7a9c3-e516-4ba9-f0a3-76e8557ae741",
        "colab": {
          "base_uri": "https://localhost:8080/",
          "height": 289
        }
      },
      "outputs": [
        {
          "output_type": "display_data",
          "data": {
            "text/plain": [
              "\u001b[1mModel: \"functional\"\u001b[0m\n"
            ],
            "text/html": [
              "<pre style=\"white-space:pre;overflow-x:auto;line-height:normal;font-family:Menlo,'DejaVu Sans Mono',consolas,'Courier New',monospace\"><span style=\"font-weight: bold\">Model: \"functional\"</span>\n",
              "</pre>\n"
            ]
          },
          "metadata": {}
        },
        {
          "output_type": "display_data",
          "data": {
            "text/plain": [
              "┏━━━━━━━━━━━━━━━━━━━━━━━━━━━━━━━━━━━━━━┳━━━━━━━━━━━━━━━━━━━━━━━━━━━━━┳━━━━━━━━━━━━━━━━━┓\n",
              "┃\u001b[1m \u001b[0m\u001b[1mLayer (type)                        \u001b[0m\u001b[1m \u001b[0m┃\u001b[1m \u001b[0m\u001b[1mOutput Shape               \u001b[0m\u001b[1m \u001b[0m┃\u001b[1m \u001b[0m\u001b[1m        Param #\u001b[0m\u001b[1m \u001b[0m┃\n",
              "┡━━━━━━━━━━━━━━━━━━━━━━━━━━━━━━━━━━━━━━╇━━━━━━━━━━━━━━━━━━━━━━━━━━━━━╇━━━━━━━━━━━━━━━━━┩\n",
              "│ input_layer (\u001b[38;5;33mInputLayer\u001b[0m)             │ (\u001b[38;5;45mNone\u001b[0m, \u001b[38;5;45mNone\u001b[0m)                │               \u001b[38;5;34m0\u001b[0m │\n",
              "├──────────────────────────────────────┼─────────────────────────────┼─────────────────┤\n",
              "│ token_and_position_embedding         │ (\u001b[38;5;45mNone\u001b[0m, \u001b[38;5;45mNone\u001b[0m, \u001b[38;5;34m256\u001b[0m)           │       \u001b[38;5;34m2,580,480\u001b[0m │\n",
              "│ (\u001b[38;5;33mTokenAndPositionEmbedding\u001b[0m)          │                             │                 │\n",
              "├──────────────────────────────────────┼─────────────────────────────┼─────────────────┤\n",
              "│ transformer_block (\u001b[38;5;33mTransformerBlock\u001b[0m) │ [(\u001b[38;5;45mNone\u001b[0m, \u001b[38;5;45mNone\u001b[0m, \u001b[38;5;34m256\u001b[0m), (\u001b[38;5;45mNone\u001b[0m,  │         \u001b[38;5;34m658,688\u001b[0m │\n",
              "│                                      │ \u001b[38;5;34m2\u001b[0m, \u001b[38;5;45mNone\u001b[0m, \u001b[38;5;45mNone\u001b[0m)]             │                 │\n",
              "├──────────────────────────────────────┼─────────────────────────────┼─────────────────┤\n",
              "│ dense_2 (\u001b[38;5;33mDense\u001b[0m)                      │ (\u001b[38;5;45mNone\u001b[0m, \u001b[38;5;45mNone\u001b[0m, \u001b[38;5;34m10000\u001b[0m)         │       \u001b[38;5;34m2,570,000\u001b[0m │\n",
              "└──────────────────────────────────────┴─────────────────────────────┴─────────────────┘\n"
            ],
            "text/html": [
              "<pre style=\"white-space:pre;overflow-x:auto;line-height:normal;font-family:Menlo,'DejaVu Sans Mono',consolas,'Courier New',monospace\">┏━━━━━━━━━━━━━━━━━━━━━━━━━━━━━━━━━━━━━━┳━━━━━━━━━━━━━━━━━━━━━━━━━━━━━┳━━━━━━━━━━━━━━━━━┓\n",
              "┃<span style=\"font-weight: bold\"> Layer (type)                         </span>┃<span style=\"font-weight: bold\"> Output Shape                </span>┃<span style=\"font-weight: bold\">         Param # </span>┃\n",
              "┡━━━━━━━━━━━━━━━━━━━━━━━━━━━━━━━━━━━━━━╇━━━━━━━━━━━━━━━━━━━━━━━━━━━━━╇━━━━━━━━━━━━━━━━━┩\n",
              "│ input_layer (<span style=\"color: #0087ff; text-decoration-color: #0087ff\">InputLayer</span>)             │ (<span style=\"color: #00d7ff; text-decoration-color: #00d7ff\">None</span>, <span style=\"color: #00d7ff; text-decoration-color: #00d7ff\">None</span>)                │               <span style=\"color: #00af00; text-decoration-color: #00af00\">0</span> │\n",
              "├──────────────────────────────────────┼─────────────────────────────┼─────────────────┤\n",
              "│ token_and_position_embedding         │ (<span style=\"color: #00d7ff; text-decoration-color: #00d7ff\">None</span>, <span style=\"color: #00d7ff; text-decoration-color: #00d7ff\">None</span>, <span style=\"color: #00af00; text-decoration-color: #00af00\">256</span>)           │       <span style=\"color: #00af00; text-decoration-color: #00af00\">2,580,480</span> │\n",
              "│ (<span style=\"color: #0087ff; text-decoration-color: #0087ff\">TokenAndPositionEmbedding</span>)          │                             │                 │\n",
              "├──────────────────────────────────────┼─────────────────────────────┼─────────────────┤\n",
              "│ transformer_block (<span style=\"color: #0087ff; text-decoration-color: #0087ff\">TransformerBlock</span>) │ [(<span style=\"color: #00d7ff; text-decoration-color: #00d7ff\">None</span>, <span style=\"color: #00d7ff; text-decoration-color: #00d7ff\">None</span>, <span style=\"color: #00af00; text-decoration-color: #00af00\">256</span>), (<span style=\"color: #00d7ff; text-decoration-color: #00d7ff\">None</span>,  │         <span style=\"color: #00af00; text-decoration-color: #00af00\">658,688</span> │\n",
              "│                                      │ <span style=\"color: #00af00; text-decoration-color: #00af00\">2</span>, <span style=\"color: #00d7ff; text-decoration-color: #00d7ff\">None</span>, <span style=\"color: #00d7ff; text-decoration-color: #00d7ff\">None</span>)]             │                 │\n",
              "├──────────────────────────────────────┼─────────────────────────────┼─────────────────┤\n",
              "│ dense_2 (<span style=\"color: #0087ff; text-decoration-color: #0087ff\">Dense</span>)                      │ (<span style=\"color: #00d7ff; text-decoration-color: #00d7ff\">None</span>, <span style=\"color: #00d7ff; text-decoration-color: #00d7ff\">None</span>, <span style=\"color: #00af00; text-decoration-color: #00af00\">10000</span>)         │       <span style=\"color: #00af00; text-decoration-color: #00af00\">2,570,000</span> │\n",
              "└──────────────────────────────────────┴─────────────────────────────┴─────────────────┘\n",
              "</pre>\n"
            ]
          },
          "metadata": {}
        },
        {
          "output_type": "display_data",
          "data": {
            "text/plain": [
              "\u001b[1m Total params: \u001b[0m\u001b[38;5;34m5,809,168\u001b[0m (22.16 MB)\n"
            ],
            "text/html": [
              "<pre style=\"white-space:pre;overflow-x:auto;line-height:normal;font-family:Menlo,'DejaVu Sans Mono',consolas,'Courier New',monospace\"><span style=\"font-weight: bold\"> Total params: </span><span style=\"color: #00af00; text-decoration-color: #00af00\">5,809,168</span> (22.16 MB)\n",
              "</pre>\n"
            ]
          },
          "metadata": {}
        },
        {
          "output_type": "display_data",
          "data": {
            "text/plain": [
              "\u001b[1m Trainable params: \u001b[0m\u001b[38;5;34m5,809,168\u001b[0m (22.16 MB)\n"
            ],
            "text/html": [
              "<pre style=\"white-space:pre;overflow-x:auto;line-height:normal;font-family:Menlo,'DejaVu Sans Mono',consolas,'Courier New',monospace\"><span style=\"font-weight: bold\"> Trainable params: </span><span style=\"color: #00af00; text-decoration-color: #00af00\">5,809,168</span> (22.16 MB)\n",
              "</pre>\n"
            ]
          },
          "metadata": {}
        },
        {
          "output_type": "display_data",
          "data": {
            "text/plain": [
              "\u001b[1m Non-trainable params: \u001b[0m\u001b[38;5;34m0\u001b[0m (0.00 B)\n"
            ],
            "text/html": [
              "<pre style=\"white-space:pre;overflow-x:auto;line-height:normal;font-family:Menlo,'DejaVu Sans Mono',consolas,'Courier New',monospace\"><span style=\"font-weight: bold\"> Non-trainable params: </span><span style=\"color: #00af00; text-decoration-color: #00af00\">0</span> (0.00 B)\n",
              "</pre>\n"
            ]
          },
          "metadata": {}
        }
      ],
      "source": [
        "gpt.summary()"
      ]
    },
    {
      "cell_type": "code",
      "execution_count": 35,
      "id": "800a3c6e-fb11-4792-b6bc-9a43a7c977ad",
      "metadata": {
        "tags": [],
        "id": "800a3c6e-fb11-4792-b6bc-9a43a7c977ad"
      },
      "outputs": [],
      "source": [
        "if LOAD_MODEL:\n",
        "    # model.load_weights('./models/model.weights.h5')\n",
        "    gpt = models.load_model(\"./models/gpt.weights.h5\", compile=True)"
      ]
    },
    {
      "cell_type": "markdown",
      "id": "35b14665-4359-447b-be58-3fd58ba69084",
      "metadata": {
        "id": "35b14665-4359-447b-be58-3fd58ba69084"
      },
      "source": [
        "## 9. Train the Transformer <a name=\"train\"></a>"
      ]
    },
    {
      "cell_type": "code",
      "execution_count": 36,
      "id": "3ddcff5f-829d-4449-99d2-9a3cb68f7d72",
      "metadata": {
        "id": "3ddcff5f-829d-4449-99d2-9a3cb68f7d72"
      },
      "outputs": [],
      "source": [
        "# Create a TextGenerator checkpoint\n",
        "class TextGenerator(callbacks.Callback):\n",
        "    def __init__(self, index_to_word, top_k=10):\n",
        "        self.index_to_word = index_to_word\n",
        "        self.word_to_index = {\n",
        "            word: index for index, word in enumerate(index_to_word)\n",
        "        }\n",
        "\n",
        "    def sample_from(self, probs, temperature):\n",
        "        probs = probs ** (1 / temperature)\n",
        "        probs = probs / np.sum(probs)\n",
        "        return np.random.choice(len(probs), p=probs), probs\n",
        "\n",
        "    def generate(self, start_prompt, max_tokens, temperature):\n",
        "        start_tokens = [\n",
        "            self.word_to_index.get(x, 1) for x in start_prompt.split()\n",
        "        ]\n",
        "        sample_token = None\n",
        "        info = []\n",
        "        while len(start_tokens) < max_tokens and sample_token != 0:\n",
        "            x = np.array([start_tokens])\n",
        "            y, att = self.model.predict(x, verbose=0)\n",
        "            sample_token, probs = self.sample_from(y[0][-1], temperature)\n",
        "            info.append(\n",
        "                {\n",
        "                    \"prompt\": start_prompt,\n",
        "                    \"word_probs\": probs,\n",
        "                    \"atts\": att[0, :, -1, :],\n",
        "                }\n",
        "            )\n",
        "            start_tokens.append(sample_token)\n",
        "            start_prompt = start_prompt + \" \" + self.index_to_word[sample_token]\n",
        "        print(f\"\\ngenerated text:\\n{start_prompt}\\n\")\n",
        "        return info\n",
        "\n",
        "    def on_epoch_end(self, epoch, logs=None):\n",
        "        self.generate(\"wine review\", max_tokens=80, temperature=1.0)"
      ]
    },
    {
      "cell_type": "code",
      "execution_count": 37,
      "id": "349865fe-ffbe-450e-97be-043ae1740e78",
      "metadata": {
        "id": "349865fe-ffbe-450e-97be-043ae1740e78"
      },
      "outputs": [],
      "source": [
        "# Create a model save checkpoint\n",
        "model_checkpoint_callback = callbacks.ModelCheckpoint(\n",
        "    filepath=\"./checkpoint/checkpoint.weights.h5\",\n",
        "    save_weights_only=True,\n",
        "    save_freq=\"epoch\",\n",
        "    verbose=0,\n",
        ")\n",
        "\n",
        "tensorboard_callback = callbacks.TensorBoard(log_dir=\"./logs\")\n",
        "\n",
        "# Tokenize starting prompt\n",
        "text_generator = TextGenerator(vocab)"
      ]
    },
    {
      "cell_type": "code",
      "execution_count": 38,
      "id": "461c2b3e-b5ae-4def-8bd9-e7bab8c63d8e",
      "metadata": {
        "tags": [],
        "id": "461c2b3e-b5ae-4def-8bd9-e7bab8c63d8e",
        "outputId": "11fb2de4-cb85-4c60-d3a0-ad53cf4151f5",
        "colab": {
          "base_uri": "https://localhost:8080/"
        }
      },
      "outputs": [
        {
          "output_type": "stream",
          "name": "stdout",
          "text": [
            "Epoch 1/5\n",
            "\u001b[1m4059/4060\u001b[0m \u001b[32m━━━━━━━━━━━━━━━━━━━\u001b[0m\u001b[37m━\u001b[0m \u001b[1m0s\u001b[0m 22ms/step - loss: 2.5953\n",
            "generated text:\n",
            "wine review : portugal : vinho verde : portuguese white : this is a soft , fruity wine . it ' s fresh , almost as a crisper side of the [UNK] , high altitude . with blackberry - currant and acidity and the lightest tannins the white - peach elements still make for a tangy citrus edge . drink now . \n",
            "\n",
            "\u001b[1m4060/4060\u001b[0m \u001b[32m━━━━━━━━━━━━━━━━━━━━\u001b[0m\u001b[37m\u001b[0m \u001b[1m153s\u001b[0m 35ms/step - loss: 2.5951\n",
            "Epoch 2/5\n",
            "\u001b[1m4060/4060\u001b[0m \u001b[32m━━━━━━━━━━━━━━━━━━━━\u001b[0m\u001b[37m\u001b[0m \u001b[1m0s\u001b[0m 20ms/step - loss: 1.9746\n",
            "generated text:\n",
            "wine review : france : bordeaux : bordeaux - style white blend : the sweetened wine is smooth and fruity all the place . it ' s not [UNK] layers of ripe fruit and layers of rich firm tannins , fruity wine . a powerful , wine par excellence , concentrated and balanced with a generous finish . \n",
            "\n",
            "\u001b[1m4060/4060\u001b[0m \u001b[32m━━━━━━━━━━━━━━━━━━━━\u001b[0m\u001b[37m\u001b[0m \u001b[1m87s\u001b[0m 21ms/step - loss: 1.9746\n",
            "Epoch 3/5\n",
            "\u001b[1m4058/4060\u001b[0m \u001b[32m━━━━━━━━━━━━━━━━━━━\u001b[0m\u001b[37m━\u001b[0m \u001b[1m0s\u001b[0m 20ms/step - loss: 1.8953\n",
            "generated text:\n",
            "wine review : spain : central spain : cleaner red blend : blackberry and kirsch aromas are attractive and fall upon airing . this is choppy and austere ; the palate brings bitterness to its core cassis and vanilla flavors . a little spicy , sweet on the finish . drink through 2021 . \n",
            "\n",
            "\u001b[1m4060/4060\u001b[0m \u001b[32m━━━━━━━━━━━━━━━━━━━━\u001b[0m\u001b[37m\u001b[0m \u001b[1m85s\u001b[0m 21ms/step - loss: 1.8953\n",
            "Epoch 4/5\n",
            "\u001b[1m4060/4060\u001b[0m \u001b[32m━━━━━━━━━━━━━━━━━━━━\u001b[0m\u001b[37m\u001b[0m \u001b[1m0s\u001b[0m 20ms/step - loss: 1.8475\n",
            "generated text:\n",
            "wine review : portugal : vinho verde : portuguese white : a blend of the crispest version , this has a fine , chalky , riper wine . it is light , full of ripe apple flavors and weight , while the acidity is ripe with a lemon zest element . drink now . \n",
            "\n",
            "\u001b[1m4060/4060\u001b[0m \u001b[32m━━━━━━━━━━━━━━━━━━━━\u001b[0m\u001b[37m\u001b[0m \u001b[1m86s\u001b[0m 21ms/step - loss: 1.8475\n",
            "Epoch 5/5\n",
            "\u001b[1m4060/4060\u001b[0m \u001b[32m━━━━━━━━━━━━━━━━━━━━\u001b[0m\u001b[37m\u001b[0m \u001b[1m0s\u001b[0m 20ms/step - loss: 1.8151\n",
            "generated text:\n",
            "wine review : germany : mosel : riesling : while intensely sweet with honey , intensely floral , it wraps it up ripe in plush sweet peach and ripe apricot flavors with orange zest and yellow fruit . brisk acidity freshens the midpalate , poised and breathlessly mouth filling out with elegance and grace . high - wire anise and honeycomb , its mouthfeel will round out fine balance out if the . \n",
            "\n",
            "\u001b[1m4060/4060\u001b[0m \u001b[32m━━━━━━━━━━━━━━━━━━━━\u001b[0m\u001b[37m\u001b[0m \u001b[1m100s\u001b[0m 25ms/step - loss: 1.8151\n"
          ]
        },
        {
          "output_type": "execute_result",
          "data": {
            "text/plain": [
              "<keras.src.callbacks.history.History at 0x784ebeb748e0>"
            ]
          },
          "metadata": {},
          "execution_count": 38
        }
      ],
      "source": [
        "gpt.fit(\n",
        "    train_ds,\n",
        "    epochs=EPOCHS,\n",
        "    callbacks=[model_checkpoint_callback, tensorboard_callback, text_generator],\n",
        ")"
      ]
    },
    {
      "cell_type": "code",
      "execution_count": 39,
      "id": "369bde44-2e39-4bc6-8549-a3a27ecce55c",
      "metadata": {
        "tags": [],
        "id": "369bde44-2e39-4bc6-8549-a3a27ecce55c",
        "outputId": "654935f7-ad9f-43e8-df9b-f12a769336ec",
        "colab": {
          "base_uri": "https://localhost:8080/"
        }
      },
      "outputs": [
        {
          "output_type": "stream",
          "name": "stderr",
          "text": [
            "WARNING:absl:You are saving your model as an HDF5 file via `model.save()` or `keras.saving.save_model(model)`. This file format is considered legacy. We recommend using instead the native Keras format, e.g. `model.save('my_model.keras')` or `keras.saving.save_model(model, 'my_model.keras')`. \n"
          ]
        }
      ],
      "source": [
        "# Save the final model\n",
        "gpt.save(\"./models/gpt.weights.h5\")"
      ]
    },
    {
      "cell_type": "markdown",
      "id": "d64e02d2-84dc-40c8-8446-40c09adf1e20",
      "metadata": {
        "id": "d64e02d2-84dc-40c8-8446-40c09adf1e20"
      },
      "source": [
        "# 3. Generate text using the Transformer"
      ]
    },
    {
      "cell_type": "code",
      "execution_count": 40,
      "id": "4ad23adb-3ec9-4e9a-9a59-b9f9bafca649",
      "metadata": {
        "id": "4ad23adb-3ec9-4e9a-9a59-b9f9bafca649"
      },
      "outputs": [],
      "source": [
        "def print_probs(info, vocab, top_k=5):\n",
        "    for i in info:\n",
        "        highlighted_text = []\n",
        "        for word, att_score in zip(\n",
        "            i[\"prompt\"].split(), np.mean(i[\"atts\"], axis=0)\n",
        "        ):\n",
        "            highlighted_text.append(\n",
        "                '<span style=\"background-color:rgba(135,206,250,'\n",
        "                + str(att_score / max(np.mean(i[\"atts\"], axis=0)))\n",
        "                + ');\">'\n",
        "                + word\n",
        "                + \"</span>\"\n",
        "            )\n",
        "        highlighted_text = \" \".join(highlighted_text)\n",
        "        display(HTML(highlighted_text))\n",
        "\n",
        "        word_probs = i[\"word_probs\"]\n",
        "        p_sorted = np.sort(word_probs)[::-1][:top_k]\n",
        "        i_sorted = np.argsort(word_probs)[::-1][:top_k]\n",
        "        for p, i in zip(p_sorted, i_sorted):\n",
        "            print(f\"{vocab[i]}:   \\t{np.round(100*p,2)}%\")\n",
        "        print(\"--------\\n\")"
      ]
    },
    {
      "cell_type": "code",
      "execution_count": 41,
      "id": "3cf25578-d47c-4b26-8252-fcdf2316a4ac",
      "metadata": {
        "id": "3cf25578-d47c-4b26-8252-fcdf2316a4ac",
        "outputId": "8318080b-bd8c-4db1-85db-e208e95669db",
        "colab": {
          "base_uri": "https://localhost:8080/"
        }
      },
      "outputs": [
        {
          "output_type": "stream",
          "name": "stdout",
          "text": [
            "\n",
            "generated text:\n",
            "wine review : us : washington : merlot : this wine is all varietal , blended together in that give a few burgundy to smooth out dry creek , forward drinking over fine juicy fruit . it should be balanced , exhibiting generous chocolate and integrated tannins , with a touch of earthy . \n",
            "\n"
          ]
        }
      ],
      "source": [
        "info = text_generator.generate(\n",
        "    \"wine review : us\", max_tokens=80, temperature=1.0\n",
        ")"
      ]
    },
    {
      "cell_type": "code",
      "execution_count": 42,
      "id": "4ae2da8e-9b7c-4b71-b37b-021115b3d7ea",
      "metadata": {
        "id": "4ae2da8e-9b7c-4b71-b37b-021115b3d7ea",
        "outputId": "3a1265a6-3f2e-4813-f6db-946b434f9632",
        "colab": {
          "base_uri": "https://localhost:8080/"
        }
      },
      "outputs": [
        {
          "output_type": "stream",
          "name": "stdout",
          "text": [
            "\n",
            "generated text:\n",
            "wine review : italy : tuscany : sangiovese : aromas of scorched earth , underbrush , scorched earth , leather , leather and a balsamic note lead the nose on this full - bodied red . the palate is still closed but the rather evolved palate offers raisin , roasted coffee bean , espresso , licorice and licorice alongside firm , fine - grained tannins . drink sooner rather than later to capture the remaining fruit . \n",
            "\n"
          ]
        }
      ],
      "source": [
        "info = text_generator.generate(\n",
        "    \"wine review : italy\", max_tokens=80, temperature=0.5\n",
        ")"
      ]
    },
    {
      "cell_type": "code",
      "execution_count": 43,
      "id": "5cae6d5d-263d-4455-b96c-f315cbe284ee",
      "metadata": {
        "id": "5cae6d5d-263d-4455-b96c-f315cbe284ee",
        "outputId": "8aff25ab-df9d-4b73-aae9-7883ec25f067",
        "colab": {
          "base_uri": "https://localhost:8080/",
          "height": 1000
        }
      },
      "outputs": [
        {
          "output_type": "stream",
          "name": "stdout",
          "text": [
            "\n",
            "generated text:\n",
            "wine review : germany : mosel : riesling : while intensely floral , with hints of honey , this off - dry riesling is chock full of succulent pineapple and mango flavors . it ' s rich and concentrated , but finishes with a bristle of lemon - lime acidity . drink now through 2020 . \n",
            "\n"
          ]
        },
        {
          "output_type": "display_data",
          "data": {
            "text/plain": [
              "<IPython.core.display.HTML object>"
            ],
            "text/html": [
              "<span style=\"background-color:rgba(135,206,250,0.9859762);\">wine</span> <span style=\"background-color:rgba(135,206,250,1.0);\">review</span> <span style=\"background-color:rgba(135,206,250,0.51615876);\">:</span> <span style=\"background-color:rgba(135,206,250,0.21359201);\">germany</span>"
            ]
          },
          "metadata": {}
        },
        {
          "output_type": "stream",
          "name": "stdout",
          "text": [
            "::   \t100.0%\n",
            "grosso:   \t0.0%\n",
            "-:   \t0.0%\n",
            "blend:   \t0.0%\n",
            ",:   \t0.0%\n",
            "--------\n",
            "\n"
          ]
        },
        {
          "output_type": "display_data",
          "data": {
            "text/plain": [
              "<IPython.core.display.HTML object>"
            ],
            "text/html": [
              "<span style=\"background-color:rgba(135,206,250,0.3715612);\">wine</span> <span style=\"background-color:rgba(135,206,250,0.45487076);\">review</span> <span style=\"background-color:rgba(135,206,250,0.25493658);\">:</span> <span style=\"background-color:rgba(135,206,250,1.0);\">germany</span> <span style=\"background-color:rgba(135,206,250,0.217482);\">:</span>"
            ]
          },
          "metadata": {}
        },
        {
          "output_type": "stream",
          "name": "stdout",
          "text": [
            "mosel:   \t82.38%\n",
            "rheinhessen:   \t9.09%\n",
            "rheingau:   \t7.56%\n",
            "pfalz:   \t0.82%\n",
            "nahe:   \t0.09%\n",
            "--------\n",
            "\n"
          ]
        },
        {
          "output_type": "display_data",
          "data": {
            "text/plain": [
              "<IPython.core.display.HTML object>"
            ],
            "text/html": [
              "<span style=\"background-color:rgba(135,206,250,1.0);\">wine</span> <span style=\"background-color:rgba(135,206,250,0.7680562);\">review</span> <span style=\"background-color:rgba(135,206,250,0.32821167);\">:</span> <span style=\"background-color:rgba(135,206,250,0.1862325);\">germany</span> <span style=\"background-color:rgba(135,206,250,0.2822811);\">:</span> <span style=\"background-color:rgba(135,206,250,0.24634233);\">mosel</span>"
            ]
          },
          "metadata": {}
        },
        {
          "output_type": "stream",
          "name": "stdout",
          "text": [
            "::   \t99.92%\n",
            "-:   \t0.08%\n",
            ",:   \t0.0%\n",
            "blanca:   \t0.0%\n",
            "grosso:   \t0.0%\n",
            "--------\n",
            "\n"
          ]
        },
        {
          "output_type": "display_data",
          "data": {
            "text/plain": [
              "<IPython.core.display.HTML object>"
            ],
            "text/html": [
              "<span style=\"background-color:rgba(135,206,250,0.3643383);\">wine</span> <span style=\"background-color:rgba(135,206,250,0.38801497);\">review</span> <span style=\"background-color:rgba(135,206,250,0.1261031);\">:</span> <span style=\"background-color:rgba(135,206,250,0.39971963);\">germany</span> <span style=\"background-color:rgba(135,206,250,0.10910896);\">:</span> <span style=\"background-color:rgba(135,206,250,1.0);\">mosel</span> <span style=\"background-color:rgba(135,206,250,0.1302332);\">:</span>"
            ]
          },
          "metadata": {}
        },
        {
          "output_type": "stream",
          "name": "stdout",
          "text": [
            "riesling:   \t99.99%\n",
            "pinot:   \t0.01%\n",
            "weissburgunder:   \t0.0%\n",
            "gewürztraminer:   \t0.0%\n",
            "chardonnay:   \t0.0%\n",
            "--------\n",
            "\n"
          ]
        },
        {
          "output_type": "display_data",
          "data": {
            "text/plain": [
              "<IPython.core.display.HTML object>"
            ],
            "text/html": [
              "<span style=\"background-color:rgba(135,206,250,1.0);\">wine</span> <span style=\"background-color:rgba(135,206,250,0.9074092);\">review</span> <span style=\"background-color:rgba(135,206,250,0.36581615);\">:</span> <span style=\"background-color:rgba(135,206,250,0.17621896);\">germany</span> <span style=\"background-color:rgba(135,206,250,0.32983324);\">:</span> <span style=\"background-color:rgba(135,206,250,0.35066953);\">mosel</span> <span style=\"background-color:rgba(135,206,250,0.33323002);\">:</span> <span style=\"background-color:rgba(135,206,250,0.16549897);\">riesling</span>"
            ]
          },
          "metadata": {}
        },
        {
          "output_type": "stream",
          "name": "stdout",
          "text": [
            "::   \t100.0%\n",
            "-:   \t0.0%\n",
            "grosso:   \t0.0%\n",
            "blanc:   \t0.0%\n",
            "blend:   \t0.0%\n",
            "--------\n",
            "\n"
          ]
        },
        {
          "output_type": "display_data",
          "data": {
            "text/plain": [
              "<IPython.core.display.HTML object>"
            ],
            "text/html": [
              "<span style=\"background-color:rgba(135,206,250,0.62962526);\">wine</span> <span style=\"background-color:rgba(135,206,250,0.7370905);\">review</span> <span style=\"background-color:rgba(135,206,250,0.24050127);\">:</span> <span style=\"background-color:rgba(135,206,250,0.6858062);\">germany</span> <span style=\"background-color:rgba(135,206,250,0.23847973);\">:</span> <span style=\"background-color:rgba(135,206,250,1.0);\">mosel</span> <span style=\"background-color:rgba(135,206,250,0.33996397);\">:</span> <span style=\"background-color:rgba(135,206,250,0.56835216);\">riesling</span> <span style=\"background-color:rgba(135,206,250,0.34829262);\">:</span>"
            ]
          },
          "metadata": {}
        },
        {
          "output_type": "stream",
          "name": "stdout",
          "text": [
            "a:   \t39.29%\n",
            "while:   \t12.74%\n",
            "whiffs:   \t7.56%\n",
            "this:   \t5.57%\n",
            "dusty:   \t4.01%\n",
            "--------\n",
            "\n"
          ]
        },
        {
          "output_type": "display_data",
          "data": {
            "text/plain": [
              "<IPython.core.display.HTML object>"
            ],
            "text/html": [
              "<span style=\"background-color:rgba(135,206,250,0.8173387);\">wine</span> <span style=\"background-color:rgba(135,206,250,1.0);\">review</span> <span style=\"background-color:rgba(135,206,250,0.13440618);\">:</span> <span style=\"background-color:rgba(135,206,250,0.34851742);\">germany</span> <span style=\"background-color:rgba(135,206,250,0.1346042);\">:</span> <span style=\"background-color:rgba(135,206,250,0.36937726);\">mosel</span> <span style=\"background-color:rgba(135,206,250,0.1512094);\">:</span> <span style=\"background-color:rgba(135,206,250,0.23580405);\">riesling</span> <span style=\"background-color:rgba(135,206,250,0.23182853);\">:</span> <span style=\"background-color:rgba(135,206,250,0.25775635);\">while</span>"
            ]
          },
          "metadata": {}
        },
        {
          "output_type": "stream",
          "name": "stdout",
          "text": [
            "intensely:   \t44.38%\n",
            "a:   \t10.09%\n",
            "demure:   \t9.38%\n",
            "the:   \t8.06%\n",
            "exuberantly:   \t3.85%\n",
            "--------\n",
            "\n"
          ]
        },
        {
          "output_type": "display_data",
          "data": {
            "text/plain": [
              "<IPython.core.display.HTML object>"
            ],
            "text/html": [
              "<span style=\"background-color:rgba(135,206,250,1.0);\">wine</span> <span style=\"background-color:rgba(135,206,250,0.9051261);\">review</span> <span style=\"background-color:rgba(135,206,250,0.2706035);\">:</span> <span style=\"background-color:rgba(135,206,250,0.21703802);\">germany</span> <span style=\"background-color:rgba(135,206,250,0.22640602);\">:</span> <span style=\"background-color:rgba(135,206,250,0.40014267);\">mosel</span> <span style=\"background-color:rgba(135,206,250,0.23540792);\">:</span> <span style=\"background-color:rgba(135,206,250,0.34427944);\">riesling</span> <span style=\"background-color:rgba(135,206,250,0.29564315);\">:</span> <span style=\"background-color:rgba(135,206,250,0.3874268);\">while</span> <span style=\"background-color:rgba(135,206,250,0.3901348);\">intensely</span>"
            ]
          },
          "metadata": {}
        },
        {
          "output_type": "stream",
          "name": "stdout",
          "text": [
            "floral:   \t43.99%\n",
            "mineral:   \t14.32%\n",
            "ripe:   \t10.51%\n",
            "perfumed:   \t8.33%\n",
            "fruity:   \t7.18%\n",
            "--------\n",
            "\n"
          ]
        },
        {
          "output_type": "display_data",
          "data": {
            "text/plain": [
              "<IPython.core.display.HTML object>"
            ],
            "text/html": [
              "<span style=\"background-color:rgba(135,206,250,1.0);\">wine</span> <span style=\"background-color:rgba(135,206,250,0.9180223);\">review</span> <span style=\"background-color:rgba(135,206,250,0.14430186);\">:</span> <span style=\"background-color:rgba(135,206,250,0.3337061);\">germany</span> <span style=\"background-color:rgba(135,206,250,0.12607184);\">:</span> <span style=\"background-color:rgba(135,206,250,0.32592818);\">mosel</span> <span style=\"background-color:rgba(135,206,250,0.13373879);\">:</span> <span style=\"background-color:rgba(135,206,250,0.24231389);\">riesling</span> <span style=\"background-color:rgba(135,206,250,0.21686926);\">:</span> <span style=\"background-color:rgba(135,206,250,0.6399495);\">while</span> <span style=\"background-color:rgba(135,206,250,0.8073214);\">intensely</span> <span style=\"background-color:rgba(135,206,250,0.35857227);\">floral</span>"
            ]
          },
          "metadata": {}
        },
        {
          "output_type": "stream",
          "name": "stdout",
          "text": [
            ",:   \t90.8%\n",
            "and:   \t4.43%\n",
            "on:   \t4.23%\n",
            "in:   \t0.41%\n",
            "with:   \t0.08%\n",
            "--------\n",
            "\n"
          ]
        },
        {
          "output_type": "display_data",
          "data": {
            "text/plain": [
              "<IPython.core.display.HTML object>"
            ],
            "text/html": [
              "<span style=\"background-color:rgba(135,206,250,0.5167473);\">wine</span> <span style=\"background-color:rgba(135,206,250,0.5860619);\">review</span> <span style=\"background-color:rgba(135,206,250,0.15336362);\">:</span> <span style=\"background-color:rgba(135,206,250,0.39834973);\">germany</span> <span style=\"background-color:rgba(135,206,250,0.13086532);\">:</span> <span style=\"background-color:rgba(135,206,250,0.282994);\">mosel</span> <span style=\"background-color:rgba(135,206,250,0.12164164);\">:</span> <span style=\"background-color:rgba(135,206,250,0.34557247);\">riesling</span> <span style=\"background-color:rgba(135,206,250,0.19830431);\">:</span> <span style=\"background-color:rgba(135,206,250,0.9595568);\">while</span> <span style=\"background-color:rgba(135,206,250,0.7951661);\">intensely</span> <span style=\"background-color:rgba(135,206,250,1.0);\">floral</span> <span style=\"background-color:rgba(135,206,250,0.382729);\">,</span>"
            ]
          },
          "metadata": {}
        },
        {
          "output_type": "stream",
          "name": "stdout",
          "text": [
            "this:   \t47.35%\n",
            "with:   \t32.77%\n",
            "it:   \t9.78%\n",
            "wafting:   \t5.6%\n",
            "the:   \t1.9%\n",
            "--------\n",
            "\n"
          ]
        },
        {
          "output_type": "display_data",
          "data": {
            "text/plain": [
              "<IPython.core.display.HTML object>"
            ],
            "text/html": [
              "<span style=\"background-color:rgba(135,206,250,0.7534199);\">wine</span> <span style=\"background-color:rgba(135,206,250,0.90946156);\">review</span> <span style=\"background-color:rgba(135,206,250,0.20890114);\">:</span> <span style=\"background-color:rgba(135,206,250,0.5088221);\">germany</span> <span style=\"background-color:rgba(135,206,250,0.17522663);\">:</span> <span style=\"background-color:rgba(135,206,250,0.46785903);\">mosel</span> <span style=\"background-color:rgba(135,206,250,0.18794973);\">:</span> <span style=\"background-color:rgba(135,206,250,0.42252573);\">riesling</span> <span style=\"background-color:rgba(135,206,250,0.2457664);\">:</span> <span style=\"background-color:rgba(135,206,250,0.46218765);\">while</span> <span style=\"background-color:rgba(135,206,250,0.4862078);\">intensely</span> <span style=\"background-color:rgba(135,206,250,1.0);\">floral</span> <span style=\"background-color:rgba(135,206,250,0.93998843);\">,</span> <span style=\"background-color:rgba(135,206,250,0.6164551);\">with</span>"
            ]
          },
          "metadata": {}
        },
        {
          "output_type": "stream",
          "name": "stdout",
          "text": [
            "hints:   \t30.07%\n",
            "notes:   \t29.61%\n",
            "a:   \t25.42%\n",
            "honey:   \t2.71%\n",
            "scents:   \t2.6%\n",
            "--------\n",
            "\n"
          ]
        },
        {
          "output_type": "display_data",
          "data": {
            "text/plain": [
              "<IPython.core.display.HTML object>"
            ],
            "text/html": [
              "<span style=\"background-color:rgba(135,206,250,0.7299846);\">wine</span> <span style=\"background-color:rgba(135,206,250,1.0);\">review</span> <span style=\"background-color:rgba(135,206,250,0.18146043);\">:</span> <span style=\"background-color:rgba(135,206,250,0.17080995);\">germany</span> <span style=\"background-color:rgba(135,206,250,0.18925594);\">:</span> <span style=\"background-color:rgba(135,206,250,0.16033648);\">mosel</span> <span style=\"background-color:rgba(135,206,250,0.11776044);\">:</span> <span style=\"background-color:rgba(135,206,250,0.10959273);\">riesling</span> <span style=\"background-color:rgba(135,206,250,0.18276978);\">:</span> <span style=\"background-color:rgba(135,206,250,0.36716437);\">while</span> <span style=\"background-color:rgba(135,206,250,0.14977226);\">intensely</span> <span style=\"background-color:rgba(135,206,250,0.3458877);\">floral</span> <span style=\"background-color:rgba(135,206,250,0.423626);\">,</span> <span style=\"background-color:rgba(135,206,250,0.95129263);\">with</span> <span style=\"background-color:rgba(135,206,250,0.26263642);\">hints</span>"
            ]
          },
          "metadata": {}
        },
        {
          "output_type": "stream",
          "name": "stdout",
          "text": [
            "of:   \t100.0%\n",
            "at:   \t0.0%\n",
            ",:   \t0.0%\n",
            "on:   \t0.0%\n",
            "and:   \t0.0%\n",
            "--------\n",
            "\n"
          ]
        },
        {
          "output_type": "display_data",
          "data": {
            "text/plain": [
              "<IPython.core.display.HTML object>"
            ],
            "text/html": [
              "<span style=\"background-color:rgba(135,206,250,0.32835558);\">wine</span> <span style=\"background-color:rgba(135,206,250,0.4115101);\">review</span> <span style=\"background-color:rgba(135,206,250,0.1008331);\">:</span> <span style=\"background-color:rgba(135,206,250,0.34281176);\">germany</span> <span style=\"background-color:rgba(135,206,250,0.07179285);\">:</span> <span style=\"background-color:rgba(135,206,250,0.2910025);\">mosel</span> <span style=\"background-color:rgba(135,206,250,0.085938185);\">:</span> <span style=\"background-color:rgba(135,206,250,0.32736665);\">riesling</span> <span style=\"background-color:rgba(135,206,250,0.11010954);\">:</span> <span style=\"background-color:rgba(135,206,250,0.21232535);\">while</span> <span style=\"background-color:rgba(135,206,250,0.18856978);\">intensely</span> <span style=\"background-color:rgba(135,206,250,0.6734832);\">floral</span> <span style=\"background-color:rgba(135,206,250,0.27419528);\">,</span> <span style=\"background-color:rgba(135,206,250,0.4971782);\">with</span> <span style=\"background-color:rgba(135,206,250,1.0);\">hints</span> <span style=\"background-color:rgba(135,206,250,0.16784947);\">of</span>"
            ]
          },
          "metadata": {}
        },
        {
          "output_type": "stream",
          "name": "stdout",
          "text": [
            "honey:   \t81.38%\n",
            "blossom:   \t9.83%\n",
            "honeysuckle:   \t3.61%\n",
            "saffron:   \t1.03%\n",
            "wax:   \t0.67%\n",
            "--------\n",
            "\n"
          ]
        },
        {
          "output_type": "display_data",
          "data": {
            "text/plain": [
              "<IPython.core.display.HTML object>"
            ],
            "text/html": [
              "<span style=\"background-color:rgba(135,206,250,0.6009678);\">wine</span> <span style=\"background-color:rgba(135,206,250,0.89415026);\">review</span> <span style=\"background-color:rgba(135,206,250,0.0879512);\">:</span> <span style=\"background-color:rgba(135,206,250,0.46507052);\">germany</span> <span style=\"background-color:rgba(135,206,250,0.11068452);\">:</span> <span style=\"background-color:rgba(135,206,250,0.1272157);\">mosel</span> <span style=\"background-color:rgba(135,206,250,0.09662146);\">:</span> <span style=\"background-color:rgba(135,206,250,0.10091202);\">riesling</span> <span style=\"background-color:rgba(135,206,250,0.122148305);\">:</span> <span style=\"background-color:rgba(135,206,250,0.5692886);\">while</span> <span style=\"background-color:rgba(135,206,250,0.14167264);\">intensely</span> <span style=\"background-color:rgba(135,206,250,0.26598704);\">floral</span> <span style=\"background-color:rgba(135,206,250,0.27414945);\">,</span> <span style=\"background-color:rgba(135,206,250,0.8890746);\">with</span> <span style=\"background-color:rgba(135,206,250,1.0);\">hints</span> <span style=\"background-color:rgba(135,206,250,0.58404636);\">of</span> <span style=\"background-color:rgba(135,206,250,0.37989765);\">honey</span>"
            ]
          },
          "metadata": {}
        },
        {
          "output_type": "stream",
          "name": "stdout",
          "text": [
            "and:   \t66.07%\n",
            ",:   \t33.92%\n",
            "on:   \t0.01%\n",
            "[UNK]:   \t0.0%\n",
            "-:   \t0.0%\n",
            "--------\n",
            "\n"
          ]
        },
        {
          "output_type": "display_data",
          "data": {
            "text/plain": [
              "<IPython.core.display.HTML object>"
            ],
            "text/html": [
              "<span style=\"background-color:rgba(135,206,250,0.23858647);\">wine</span> <span style=\"background-color:rgba(135,206,250,0.37821984);\">review</span> <span style=\"background-color:rgba(135,206,250,0.07421705);\">:</span> <span style=\"background-color:rgba(135,206,250,0.32024568);\">germany</span> <span style=\"background-color:rgba(135,206,250,0.068528876);\">:</span> <span style=\"background-color:rgba(135,206,250,0.1667872);\">mosel</span> <span style=\"background-color:rgba(135,206,250,0.062261768);\">:</span> <span style=\"background-color:rgba(135,206,250,0.2448569);\">riesling</span> <span style=\"background-color:rgba(135,206,250,0.09524278);\">:</span> <span style=\"background-color:rgba(135,206,250,0.60726374);\">while</span> <span style=\"background-color:rgba(135,206,250,0.18136407);\">intensely</span> <span style=\"background-color:rgba(135,206,250,0.23363954);\">floral</span> <span style=\"background-color:rgba(135,206,250,0.091682464);\">,</span> <span style=\"background-color:rgba(135,206,250,0.5139634);\">with</span> <span style=\"background-color:rgba(135,206,250,0.4890936);\">hints</span> <span style=\"background-color:rgba(135,206,250,0.38403672);\">of</span> <span style=\"background-color:rgba(135,206,250,1.0);\">honey</span> <span style=\"background-color:rgba(135,206,250,0.3387925);\">,</span>"
            ]
          },
          "metadata": {}
        },
        {
          "output_type": "stream",
          "name": "stdout",
          "text": [
            "this:   \t41.98%\n",
            "it:   \t14.85%\n",
            "honey:   \t7.57%\n",
            "wax:   \t5.67%\n",
            "saffron:   \t3.27%\n",
            "--------\n",
            "\n"
          ]
        },
        {
          "output_type": "display_data",
          "data": {
            "text/plain": [
              "<IPython.core.display.HTML object>"
            ],
            "text/html": [
              "<span style=\"background-color:rgba(135,206,250,0.510945);\">wine</span> <span style=\"background-color:rgba(135,206,250,1.0);\">review</span> <span style=\"background-color:rgba(135,206,250,0.15919083);\">:</span> <span style=\"background-color:rgba(135,206,250,0.6148822);\">germany</span> <span style=\"background-color:rgba(135,206,250,0.16064721);\">:</span> <span style=\"background-color:rgba(135,206,250,0.39941272);\">mosel</span> <span style=\"background-color:rgba(135,206,250,0.1399766);\">:</span> <span style=\"background-color:rgba(135,206,250,0.5497897);\">riesling</span> <span style=\"background-color:rgba(135,206,250,0.19841087);\">:</span> <span style=\"background-color:rgba(135,206,250,0.3021871);\">while</span> <span style=\"background-color:rgba(135,206,250,0.2697628);\">intensely</span> <span style=\"background-color:rgba(135,206,250,0.25137287);\">floral</span> <span style=\"background-color:rgba(135,206,250,0.2887693);\">,</span> <span style=\"background-color:rgba(135,206,250,0.36467543);\">with</span> <span style=\"background-color:rgba(135,206,250,0.37090102);\">hints</span> <span style=\"background-color:rgba(135,206,250,0.25912657);\">of</span> <span style=\"background-color:rgba(135,206,250,0.35033518);\">honey</span> <span style=\"background-color:rgba(135,206,250,0.8327494);\">,</span> <span style=\"background-color:rgba(135,206,250,0.372721);\">this</span>"
            ]
          },
          "metadata": {}
        },
        {
          "output_type": "stream",
          "name": "stdout",
          "text": [
            "off:   \t32.33%\n",
            "dry:   \t24.6%\n",
            "riesling:   \t13.95%\n",
            "is:   \t10.86%\n",
            "wine:   \t3.77%\n",
            "--------\n",
            "\n"
          ]
        },
        {
          "output_type": "display_data",
          "data": {
            "text/plain": [
              "<IPython.core.display.HTML object>"
            ],
            "text/html": [
              "<span style=\"background-color:rgba(135,206,250,0.4028744);\">wine</span> <span style=\"background-color:rgba(135,206,250,1.0);\">review</span> <span style=\"background-color:rgba(135,206,250,0.12368416);\">:</span> <span style=\"background-color:rgba(135,206,250,0.23762205);\">germany</span> <span style=\"background-color:rgba(135,206,250,0.12230658);\">:</span> <span style=\"background-color:rgba(135,206,250,0.15408017);\">mosel</span> <span style=\"background-color:rgba(135,206,250,0.0933504);\">:</span> <span style=\"background-color:rgba(135,206,250,0.13787858);\">riesling</span> <span style=\"background-color:rgba(135,206,250,0.108735286);\">:</span> <span style=\"background-color:rgba(135,206,250,0.11152846);\">while</span> <span style=\"background-color:rgba(135,206,250,0.06330831);\">intensely</span> <span style=\"background-color:rgba(135,206,250,0.1325833);\">floral</span> <span style=\"background-color:rgba(135,206,250,0.18272187);\">,</span> <span style=\"background-color:rgba(135,206,250,0.23326974);\">with</span> <span style=\"background-color:rgba(135,206,250,0.22128335);\">hints</span> <span style=\"background-color:rgba(135,206,250,0.16076623);\">of</span> <span style=\"background-color:rgba(135,206,250,0.27363563);\">honey</span> <span style=\"background-color:rgba(135,206,250,0.49926448);\">,</span> <span style=\"background-color:rgba(135,206,250,0.60422206);\">this</span> <span style=\"background-color:rgba(135,206,250,0.19018197);\">off</span>"
            ]
          },
          "metadata": {}
        },
        {
          "output_type": "stream",
          "name": "stdout",
          "text": [
            "-:   \t99.98%\n",
            "dry:   \t0.02%\n",
            "kabinett:   \t0.0%\n",
            "riesling:   \t0.0%\n",
            "the:   \t0.0%\n",
            "--------\n",
            "\n"
          ]
        },
        {
          "output_type": "display_data",
          "data": {
            "text/plain": [
              "<IPython.core.display.HTML object>"
            ],
            "text/html": [
              "<span style=\"background-color:rgba(135,206,250,0.15085673);\">wine</span> <span style=\"background-color:rgba(135,206,250,0.23387347);\">review</span> <span style=\"background-color:rgba(135,206,250,0.05807057);\">:</span> <span style=\"background-color:rgba(135,206,250,0.14568044);\">germany</span> <span style=\"background-color:rgba(135,206,250,0.056604013);\">:</span> <span style=\"background-color:rgba(135,206,250,0.092259526);\">mosel</span> <span style=\"background-color:rgba(135,206,250,0.044693947);\">:</span> <span style=\"background-color:rgba(135,206,250,0.13477266);\">riesling</span> <span style=\"background-color:rgba(135,206,250,0.062196005);\">:</span> <span style=\"background-color:rgba(135,206,250,0.07802844);\">while</span> <span style=\"background-color:rgba(135,206,250,0.04315044);\">intensely</span> <span style=\"background-color:rgba(135,206,250,0.059005447);\">floral</span> <span style=\"background-color:rgba(135,206,250,0.048909795);\">,</span> <span style=\"background-color:rgba(135,206,250,0.09295942);\">with</span> <span style=\"background-color:rgba(135,206,250,0.06906339);\">hints</span> <span style=\"background-color:rgba(135,206,250,0.07768223);\">of</span> <span style=\"background-color:rgba(135,206,250,0.23338689);\">honey</span> <span style=\"background-color:rgba(135,206,250,0.14116529);\">,</span> <span style=\"background-color:rgba(135,206,250,0.25761077);\">this</span> <span style=\"background-color:rgba(135,206,250,1.0);\">off</span> <span style=\"background-color:rgba(135,206,250,0.05383506);\">-</span>"
            ]
          },
          "metadata": {}
        },
        {
          "output_type": "stream",
          "name": "stdout",
          "text": [
            "dry:   \t100.0%\n",
            "sweet:   \t0.0%\n",
            "[UNK]:   \t0.0%\n",
            "ripe:   \t0.0%\n",
            "label:   \t0.0%\n",
            "--------\n",
            "\n"
          ]
        },
        {
          "output_type": "display_data",
          "data": {
            "text/plain": [
              "<IPython.core.display.HTML object>"
            ],
            "text/html": [
              "<span style=\"background-color:rgba(135,206,250,0.2557911);\">wine</span> <span style=\"background-color:rgba(135,206,250,0.42158663);\">review</span> <span style=\"background-color:rgba(135,206,250,0.072812326);\">:</span> <span style=\"background-color:rgba(135,206,250,0.3332599);\">germany</span> <span style=\"background-color:rgba(135,206,250,0.08133774);\">:</span> <span style=\"background-color:rgba(135,206,250,0.17928731);\">mosel</span> <span style=\"background-color:rgba(135,206,250,0.08179935);\">:</span> <span style=\"background-color:rgba(135,206,250,0.390897);\">riesling</span> <span style=\"background-color:rgba(135,206,250,0.11692888);\">:</span> <span style=\"background-color:rgba(135,206,250,0.24362648);\">while</span> <span style=\"background-color:rgba(135,206,250,0.104930684);\">intensely</span> <span style=\"background-color:rgba(135,206,250,0.13596205);\">floral</span> <span style=\"background-color:rgba(135,206,250,0.09833182);\">,</span> <span style=\"background-color:rgba(135,206,250,0.22344518);\">with</span> <span style=\"background-color:rgba(135,206,250,0.23311165);\">hints</span> <span style=\"background-color:rgba(135,206,250,0.20070007);\">of</span> <span style=\"background-color:rgba(135,206,250,0.29126313);\">honey</span> <span style=\"background-color:rgba(135,206,250,0.2672937);\">,</span> <span style=\"background-color:rgba(135,206,250,1.0);\">this</span> <span style=\"background-color:rgba(135,206,250,0.5351155);\">off</span> <span style=\"background-color:rgba(135,206,250,0.23182304);\">-</span> <span style=\"background-color:rgba(135,206,250,0.29868034);\">dry</span>"
            ]
          },
          "metadata": {}
        },
        {
          "output_type": "stream",
          "name": "stdout",
          "text": [
            "riesling:   \t98.85%\n",
            "kabinett:   \t0.46%\n",
            "wine:   \t0.28%\n",
            ",:   \t0.26%\n",
            "spätlese:   \t0.13%\n",
            "--------\n",
            "\n"
          ]
        },
        {
          "output_type": "display_data",
          "data": {
            "text/plain": [
              "<IPython.core.display.HTML object>"
            ],
            "text/html": [
              "<span style=\"background-color:rgba(135,206,250,0.40171486);\">wine</span> <span style=\"background-color:rgba(135,206,250,1.0);\">review</span> <span style=\"background-color:rgba(135,206,250,0.13518482);\">:</span> <span style=\"background-color:rgba(135,206,250,0.2804089);\">germany</span> <span style=\"background-color:rgba(135,206,250,0.14213161);\">:</span> <span style=\"background-color:rgba(135,206,250,0.11722199);\">mosel</span> <span style=\"background-color:rgba(135,206,250,0.13150908);\">:</span> <span style=\"background-color:rgba(135,206,250,0.10901381);\">riesling</span> <span style=\"background-color:rgba(135,206,250,0.18931526);\">:</span> <span style=\"background-color:rgba(135,206,250,0.4837891);\">while</span> <span style=\"background-color:rgba(135,206,250,0.1363118);\">intensely</span> <span style=\"background-color:rgba(135,206,250,0.12491253);\">floral</span> <span style=\"background-color:rgba(135,206,250,0.16742127);\">,</span> <span style=\"background-color:rgba(135,206,250,0.4310599);\">with</span> <span style=\"background-color:rgba(135,206,250,0.33800945);\">hints</span> <span style=\"background-color:rgba(135,206,250,0.21160412);\">of</span> <span style=\"background-color:rgba(135,206,250,0.14768027);\">honey</span> <span style=\"background-color:rgba(135,206,250,0.37795344);\">,</span> <span style=\"background-color:rgba(135,206,250,0.9322054);\">this</span> <span style=\"background-color:rgba(135,206,250,0.35640436);\">off</span> <span style=\"background-color:rgba(135,206,250,0.30800894);\">-</span> <span style=\"background-color:rgba(135,206,250,0.5169407);\">dry</span> <span style=\"background-color:rgba(135,206,250,0.3707521);\">riesling</span>"
            ]
          },
          "metadata": {}
        },
        {
          "output_type": "stream",
          "name": "stdout",
          "text": [
            "is:   \t90.52%\n",
            "balances:   \t6.46%\n",
            "has:   \t0.95%\n",
            "should:   \t0.46%\n",
            "builds:   \t0.4%\n",
            "--------\n",
            "\n"
          ]
        },
        {
          "output_type": "display_data",
          "data": {
            "text/plain": [
              "<IPython.core.display.HTML object>"
            ],
            "text/html": [
              "<span style=\"background-color:rgba(135,206,250,0.32626995);\">wine</span> <span style=\"background-color:rgba(135,206,250,1.0);\">review</span> <span style=\"background-color:rgba(135,206,250,0.246653);\">:</span> <span style=\"background-color:rgba(135,206,250,0.598025);\">germany</span> <span style=\"background-color:rgba(135,206,250,0.2483345);\">:</span> <span style=\"background-color:rgba(135,206,250,0.32891685);\">mosel</span> <span style=\"background-color:rgba(135,206,250,0.15053171);\">:</span> <span style=\"background-color:rgba(135,206,250,0.31727847);\">riesling</span> <span style=\"background-color:rgba(135,206,250,0.1860753);\">:</span> <span style=\"background-color:rgba(135,206,250,0.40094268);\">while</span> <span style=\"background-color:rgba(135,206,250,0.24051715);\">intensely</span> <span style=\"background-color:rgba(135,206,250,0.19667812);\">floral</span> <span style=\"background-color:rgba(135,206,250,0.14493556);\">,</span> <span style=\"background-color:rgba(135,206,250,0.24815181);\">with</span> <span style=\"background-color:rgba(135,206,250,0.2440836);\">hints</span> <span style=\"background-color:rgba(135,206,250,0.14134511);\">of</span> <span style=\"background-color:rgba(135,206,250,0.30978507);\">honey</span> <span style=\"background-color:rgba(135,206,250,0.2571284);\">,</span> <span style=\"background-color:rgba(135,206,250,0.44293964);\">this</span> <span style=\"background-color:rgba(135,206,250,0.29435012);\">off</span> <span style=\"background-color:rgba(135,206,250,0.2632937);\">-</span> <span style=\"background-color:rgba(135,206,250,0.6437317);\">dry</span> <span style=\"background-color:rgba(135,206,250,0.9876673);\">riesling</span> <span style=\"background-color:rgba(135,206,250,0.5164061);\">is</span>"
            ]
          },
          "metadata": {}
        },
        {
          "output_type": "stream",
          "name": "stdout",
          "text": [
            "remarkably:   \t35.98%\n",
            "a:   \t25.98%\n",
            "intensely:   \t14.65%\n",
            "surprisingly:   \t4.65%\n",
            "delicately:   \t3.1%\n",
            "--------\n",
            "\n"
          ]
        },
        {
          "output_type": "display_data",
          "data": {
            "text/plain": [
              "<IPython.core.display.HTML object>"
            ],
            "text/html": [
              "<span style=\"background-color:rgba(135,206,250,0.30993783);\">wine</span> <span style=\"background-color:rgba(135,206,250,1.0);\">review</span> <span style=\"background-color:rgba(135,206,250,0.20542514);\">:</span> <span style=\"background-color:rgba(135,206,250,0.2320523);\">germany</span> <span style=\"background-color:rgba(135,206,250,0.23260592);\">:</span> <span style=\"background-color:rgba(135,206,250,0.11447821);\">mosel</span> <span style=\"background-color:rgba(135,206,250,0.16325028);\">:</span> <span style=\"background-color:rgba(135,206,250,0.08850777);\">riesling</span> <span style=\"background-color:rgba(135,206,250,0.14475212);\">:</span> <span style=\"background-color:rgba(135,206,250,0.104572065);\">while</span> <span style=\"background-color:rgba(135,206,250,0.06592946);\">intensely</span> <span style=\"background-color:rgba(135,206,250,0.07926962);\">floral</span> <span style=\"background-color:rgba(135,206,250,0.10789451);\">,</span> <span style=\"background-color:rgba(135,206,250,0.15652367);\">with</span> <span style=\"background-color:rgba(135,206,250,0.12770744);\">hints</span> <span style=\"background-color:rgba(135,206,250,0.08807005);\">of</span> <span style=\"background-color:rgba(135,206,250,0.090707496);\">honey</span> <span style=\"background-color:rgba(135,206,250,0.12611967);\">,</span> <span style=\"background-color:rgba(135,206,250,0.15160523);\">this</span> <span style=\"background-color:rgba(135,206,250,0.08603339);\">off</span> <span style=\"background-color:rgba(135,206,250,0.121863015);\">-</span> <span style=\"background-color:rgba(135,206,250,0.08816613);\">dry</span> <span style=\"background-color:rgba(135,206,250,0.1353196);\">riesling</span> <span style=\"background-color:rgba(135,206,250,0.21768446);\">is</span> <span style=\"background-color:rgba(135,206,250,0.19034357);\">chock</span>"
            ]
          },
          "metadata": {}
        },
        {
          "output_type": "stream",
          "name": "stdout",
          "text": [
            "full:   \t99.88%\n",
            "-:   \t0.12%\n",
            "medium:   \t0.0%\n",
            "that:   \t0.0%\n",
            "flush:   \t0.0%\n",
            "--------\n",
            "\n"
          ]
        },
        {
          "output_type": "display_data",
          "data": {
            "text/plain": [
              "<IPython.core.display.HTML object>"
            ],
            "text/html": [
              "<span style=\"background-color:rgba(135,206,250,0.11873608);\">wine</span> <span style=\"background-color:rgba(135,206,250,0.2276308);\">review</span> <span style=\"background-color:rgba(135,206,250,0.08497617);\">:</span> <span style=\"background-color:rgba(135,206,250,0.15092957);\">germany</span> <span style=\"background-color:rgba(135,206,250,0.099145986);\">:</span> <span style=\"background-color:rgba(135,206,250,0.10339476);\">mosel</span> <span style=\"background-color:rgba(135,206,250,0.074998304);\">:</span> <span style=\"background-color:rgba(135,206,250,0.11319966);\">riesling</span> <span style=\"background-color:rgba(135,206,250,0.07846989);\">:</span> <span style=\"background-color:rgba(135,206,250,0.060874376);\">while</span> <span style=\"background-color:rgba(135,206,250,0.03244396);\">intensely</span> <span style=\"background-color:rgba(135,206,250,0.044850707);\">floral</span> <span style=\"background-color:rgba(135,206,250,0.040093083);\">,</span> <span style=\"background-color:rgba(135,206,250,0.06271457);\">with</span> <span style=\"background-color:rgba(135,206,250,0.059036024);\">hints</span> <span style=\"background-color:rgba(135,206,250,0.06369089);\">of</span> <span style=\"background-color:rgba(135,206,250,0.071655236);\">honey</span> <span style=\"background-color:rgba(135,206,250,0.05951802);\">,</span> <span style=\"background-color:rgba(135,206,250,0.11412674);\">this</span> <span style=\"background-color:rgba(135,206,250,0.075991556);\">off</span> <span style=\"background-color:rgba(135,206,250,0.042964432);\">-</span> <span style=\"background-color:rgba(135,206,250,0.087870546);\">dry</span> <span style=\"background-color:rgba(135,206,250,0.24886763);\">riesling</span> <span style=\"background-color:rgba(135,206,250,0.3431757);\">is</span> <span style=\"background-color:rgba(135,206,250,1.0);\">chock</span> <span style=\"background-color:rgba(135,206,250,0.10968182);\">full</span>"
            ]
          },
          "metadata": {}
        },
        {
          "output_type": "stream",
          "name": "stdout",
          "text": [
            "of:   \t99.97%\n",
            ",:   \t0.01%\n",
            "and:   \t0.01%\n",
            "-:   \t0.01%\n",
            "bodied:   \t0.0%\n",
            "--------\n",
            "\n"
          ]
        },
        {
          "output_type": "display_data",
          "data": {
            "text/plain": [
              "<IPython.core.display.HTML object>"
            ],
            "text/html": [
              "<span style=\"background-color:rgba(135,206,250,0.15185656);\">wine</span> <span style=\"background-color:rgba(135,206,250,0.3189378);\">review</span> <span style=\"background-color:rgba(135,206,250,0.11529648);\">:</span> <span style=\"background-color:rgba(135,206,250,0.47752336);\">germany</span> <span style=\"background-color:rgba(135,206,250,0.0939346);\">:</span> <span style=\"background-color:rgba(135,206,250,0.25412264);\">mosel</span> <span style=\"background-color:rgba(135,206,250,0.08511137);\">:</span> <span style=\"background-color:rgba(135,206,250,0.34613603);\">riesling</span> <span style=\"background-color:rgba(135,206,250,0.089396715);\">:</span> <span style=\"background-color:rgba(135,206,250,0.14760539);\">while</span> <span style=\"background-color:rgba(135,206,250,0.090311356);\">intensely</span> <span style=\"background-color:rgba(135,206,250,0.2006731);\">floral</span> <span style=\"background-color:rgba(135,206,250,0.07641638);\">,</span> <span style=\"background-color:rgba(135,206,250,0.09552673);\">with</span> <span style=\"background-color:rgba(135,206,250,0.1012361);\">hints</span> <span style=\"background-color:rgba(135,206,250,0.035927907);\">of</span> <span style=\"background-color:rgba(135,206,250,0.15609048);\">honey</span> <span style=\"background-color:rgba(135,206,250,0.10394011);\">,</span> <span style=\"background-color:rgba(135,206,250,0.17530958);\">this</span> <span style=\"background-color:rgba(135,206,250,0.14003389);\">off</span> <span style=\"background-color:rgba(135,206,250,0.12852623);\">-</span> <span style=\"background-color:rgba(135,206,250,0.28447297);\">dry</span> <span style=\"background-color:rgba(135,206,250,0.22581355);\">riesling</span> <span style=\"background-color:rgba(135,206,250,0.38362762);\">is</span> <span style=\"background-color:rgba(135,206,250,0.62726796);\">chock</span> <span style=\"background-color:rgba(135,206,250,1.0);\">full</span> <span style=\"background-color:rgba(135,206,250,0.27366692);\">of</span>"
            ]
          },
          "metadata": {}
        },
        {
          "output_type": "stream",
          "name": "stdout",
          "text": [
            "sweet:   \t35.79%\n",
            "ripe:   \t23.86%\n",
            "juicy:   \t16.23%\n",
            "fresh:   \t3.66%\n",
            "yellow:   \t1.58%\n",
            "--------\n",
            "\n"
          ]
        },
        {
          "output_type": "display_data",
          "data": {
            "text/plain": [
              "<IPython.core.display.HTML object>"
            ],
            "text/html": [
              "<span style=\"background-color:rgba(135,206,250,0.09298383);\">wine</span> <span style=\"background-color:rgba(135,206,250,0.17941134);\">review</span> <span style=\"background-color:rgba(135,206,250,0.04620456);\">:</span> <span style=\"background-color:rgba(135,206,250,0.22531852);\">germany</span> <span style=\"background-color:rgba(135,206,250,0.04923488);\">:</span> <span style=\"background-color:rgba(135,206,250,0.10380465);\">mosel</span> <span style=\"background-color:rgba(135,206,250,0.051842593);\">:</span> <span style=\"background-color:rgba(135,206,250,0.20668611);\">riesling</span> <span style=\"background-color:rgba(135,206,250,0.064709015);\">:</span> <span style=\"background-color:rgba(135,206,250,0.109248064);\">while</span> <span style=\"background-color:rgba(135,206,250,0.0350585);\">intensely</span> <span style=\"background-color:rgba(135,206,250,0.06721704);\">floral</span> <span style=\"background-color:rgba(135,206,250,0.035133574);\">,</span> <span style=\"background-color:rgba(135,206,250,0.0504706);\">with</span> <span style=\"background-color:rgba(135,206,250,0.0670913);\">hints</span> <span style=\"background-color:rgba(135,206,250,0.038028188);\">of</span> <span style=\"background-color:rgba(135,206,250,0.06391207);\">honey</span> <span style=\"background-color:rgba(135,206,250,0.04171389);\">,</span> <span style=\"background-color:rgba(135,206,250,0.09195864);\">this</span> <span style=\"background-color:rgba(135,206,250,0.05387282);\">off</span> <span style=\"background-color:rgba(135,206,250,0.029297855);\">-</span> <span style=\"background-color:rgba(135,206,250,0.078408256);\">dry</span> <span style=\"background-color:rgba(135,206,250,0.23508297);\">riesling</span> <span style=\"background-color:rgba(135,206,250,0.29549932);\">is</span> <span style=\"background-color:rgba(135,206,250,1.0);\">chock</span> <span style=\"background-color:rgba(135,206,250,0.18747263);\">full</span> <span style=\"background-color:rgba(135,206,250,0.52629644);\">of</span> <span style=\"background-color:rgba(135,206,250,0.1552805);\">succulent</span>"
            ]
          },
          "metadata": {}
        },
        {
          "output_type": "stream",
          "name": "stdout",
          "text": [
            "yellow:   \t50.71%\n",
            "peach:   \t24.41%\n",
            "white:   \t7.33%\n",
            "pineapple:   \t3.68%\n",
            "mango:   \t3.29%\n",
            "--------\n",
            "\n"
          ]
        },
        {
          "output_type": "display_data",
          "data": {
            "text/plain": [
              "<IPython.core.display.HTML object>"
            ],
            "text/html": [
              "<span style=\"background-color:rgba(135,206,250,0.2811868);\">wine</span> <span style=\"background-color:rgba(135,206,250,0.6794612);\">review</span> <span style=\"background-color:rgba(135,206,250,0.31072038);\">:</span> <span style=\"background-color:rgba(135,206,250,0.733107);\">germany</span> <span style=\"background-color:rgba(135,206,250,0.26682925);\">:</span> <span style=\"background-color:rgba(135,206,250,0.13263986);\">mosel</span> <span style=\"background-color:rgba(135,206,250,0.18660386);\">:</span> <span style=\"background-color:rgba(135,206,250,0.17423326);\">riesling</span> <span style=\"background-color:rgba(135,206,250,0.1558286);\">:</span> <span style=\"background-color:rgba(135,206,250,0.39068684);\">while</span> <span style=\"background-color:rgba(135,206,250,0.09233337);\">intensely</span> <span style=\"background-color:rgba(135,206,250,0.20493801);\">floral</span> <span style=\"background-color:rgba(135,206,250,0.096725635);\">,</span> <span style=\"background-color:rgba(135,206,250,0.23764509);\">with</span> <span style=\"background-color:rgba(135,206,250,0.23878773);\">hints</span> <span style=\"background-color:rgba(135,206,250,0.13979554);\">of</span> <span style=\"background-color:rgba(135,206,250,0.14580655);\">honey</span> <span style=\"background-color:rgba(135,206,250,0.11147157);\">,</span> <span style=\"background-color:rgba(135,206,250,0.27265868);\">this</span> <span style=\"background-color:rgba(135,206,250,0.11975226);\">off</span> <span style=\"background-color:rgba(135,206,250,0.11986813);\">-</span> <span style=\"background-color:rgba(135,206,250,0.22200155);\">dry</span> <span style=\"background-color:rgba(135,206,250,0.20457253);\">riesling</span> <span style=\"background-color:rgba(135,206,250,0.5293704);\">is</span> <span style=\"background-color:rgba(135,206,250,0.9200664);\">chock</span> <span style=\"background-color:rgba(135,206,250,1.0);\">full</span> <span style=\"background-color:rgba(135,206,250,0.91104496);\">of</span> <span style=\"background-color:rgba(135,206,250,0.84995264);\">succulent</span> <span style=\"background-color:rgba(135,206,250,0.52554864);\">pineapple</span>"
            ]
          },
          "metadata": {}
        },
        {
          "output_type": "stream",
          "name": "stdout",
          "text": [
            "and:   \t81.88%\n",
            ",:   \t17.96%\n",
            "flavors:   \t0.1%\n",
            ".:   \t0.03%\n",
            "fruit:   \t0.02%\n",
            "--------\n",
            "\n"
          ]
        },
        {
          "output_type": "display_data",
          "data": {
            "text/plain": [
              "<IPython.core.display.HTML object>"
            ],
            "text/html": [
              "<span style=\"background-color:rgba(135,206,250,0.094203405);\">wine</span> <span style=\"background-color:rgba(135,206,250,0.19062836);\">review</span> <span style=\"background-color:rgba(135,206,250,0.066686764);\">:</span> <span style=\"background-color:rgba(135,206,250,0.305457);\">germany</span> <span style=\"background-color:rgba(135,206,250,0.06041722);\">:</span> <span style=\"background-color:rgba(135,206,250,0.18014194);\">mosel</span> <span style=\"background-color:rgba(135,206,250,0.04669102);\">:</span> <span style=\"background-color:rgba(135,206,250,0.23114952);\">riesling</span> <span style=\"background-color:rgba(135,206,250,0.066208266);\">:</span> <span style=\"background-color:rgba(135,206,250,0.11680853);\">while</span> <span style=\"background-color:rgba(135,206,250,0.07719149);\">intensely</span> <span style=\"background-color:rgba(135,206,250,0.08541253);\">floral</span> <span style=\"background-color:rgba(135,206,250,0.039730594);\">,</span> <span style=\"background-color:rgba(135,206,250,0.061467823);\">with</span> <span style=\"background-color:rgba(135,206,250,0.06519247);\">hints</span> <span style=\"background-color:rgba(135,206,250,0.03750442);\">of</span> <span style=\"background-color:rgba(135,206,250,0.09134302);\">honey</span> <span style=\"background-color:rgba(135,206,250,0.05112207);\">,</span> <span style=\"background-color:rgba(135,206,250,0.06958797);\">this</span> <span style=\"background-color:rgba(135,206,250,0.05913365);\">off</span> <span style=\"background-color:rgba(135,206,250,0.042007357);\">-</span> <span style=\"background-color:rgba(135,206,250,0.13111255);\">dry</span> <span style=\"background-color:rgba(135,206,250,0.1712436);\">riesling</span> <span style=\"background-color:rgba(135,206,250,0.15032314);\">is</span> <span style=\"background-color:rgba(135,206,250,0.2959706);\">chock</span> <span style=\"background-color:rgba(135,206,250,0.3230468);\">full</span> <span style=\"background-color:rgba(135,206,250,0.39705586);\">of</span> <span style=\"background-color:rgba(135,206,250,0.47628933);\">succulent</span> <span style=\"background-color:rgba(135,206,250,1.0);\">pineapple</span> <span style=\"background-color:rgba(135,206,250,0.2745215);\">and</span>"
            ]
          },
          "metadata": {}
        },
        {
          "output_type": "stream",
          "name": "stdout",
          "text": [
            "mango:   \t36.87%\n",
            "peach:   \t27.86%\n",
            "tangerine:   \t18.16%\n",
            "grapefruit:   \t3.22%\n",
            "orange:   \t2.38%\n",
            "--------\n",
            "\n"
          ]
        },
        {
          "output_type": "display_data",
          "data": {
            "text/plain": [
              "<IPython.core.display.HTML object>"
            ],
            "text/html": [
              "<span style=\"background-color:rgba(135,206,250,0.27594706);\">wine</span> <span style=\"background-color:rgba(135,206,250,0.6622584);\">review</span> <span style=\"background-color:rgba(135,206,250,0.26161417);\">:</span> <span style=\"background-color:rgba(135,206,250,0.5517318);\">germany</span> <span style=\"background-color:rgba(135,206,250,0.21772452);\">:</span> <span style=\"background-color:rgba(135,206,250,0.1060024);\">mosel</span> <span style=\"background-color:rgba(135,206,250,0.16103403);\">:</span> <span style=\"background-color:rgba(135,206,250,0.14372785);\">riesling</span> <span style=\"background-color:rgba(135,206,250,0.14316691);\">:</span> <span style=\"background-color:rgba(135,206,250,0.34250438);\">while</span> <span style=\"background-color:rgba(135,206,250,0.057449777);\">intensely</span> <span style=\"background-color:rgba(135,206,250,0.124974735);\">floral</span> <span style=\"background-color:rgba(135,206,250,0.07267412);\">,</span> <span style=\"background-color:rgba(135,206,250,0.19454427);\">with</span> <span style=\"background-color:rgba(135,206,250,0.18777704);\">hints</span> <span style=\"background-color:rgba(135,206,250,0.14419495);\">of</span> <span style=\"background-color:rgba(135,206,250,0.081172645);\">honey</span> <span style=\"background-color:rgba(135,206,250,0.08267515);\">,</span> <span style=\"background-color:rgba(135,206,250,0.23793116);\">this</span> <span style=\"background-color:rgba(135,206,250,0.08908381);\">off</span> <span style=\"background-color:rgba(135,206,250,0.070372336);\">-</span> <span style=\"background-color:rgba(135,206,250,0.12750156);\">dry</span> <span style=\"background-color:rgba(135,206,250,0.13831294);\">riesling</span> <span style=\"background-color:rgba(135,206,250,0.43398255);\">is</span> <span style=\"background-color:rgba(135,206,250,0.8143255);\">chock</span> <span style=\"background-color:rgba(135,206,250,0.63584024);\">full</span> <span style=\"background-color:rgba(135,206,250,0.828623);\">of</span> <span style=\"background-color:rgba(135,206,250,0.39664015);\">succulent</span> <span style=\"background-color:rgba(135,206,250,0.3868355);\">pineapple</span> <span style=\"background-color:rgba(135,206,250,1.0);\">and</span> <span style=\"background-color:rgba(135,206,250,0.36748672);\">mango</span>"
            ]
          },
          "metadata": {}
        },
        {
          "output_type": "stream",
          "name": "stdout",
          "text": [
            "flavors:   \t98.37%\n",
            ",:   \t1.03%\n",
            "fruit:   \t0.21%\n",
            "and:   \t0.15%\n",
            ".:   \t0.09%\n",
            "--------\n",
            "\n"
          ]
        },
        {
          "output_type": "display_data",
          "data": {
            "text/plain": [
              "<IPython.core.display.HTML object>"
            ],
            "text/html": [
              "<span style=\"background-color:rgba(135,206,250,0.2605768);\">wine</span> <span style=\"background-color:rgba(135,206,250,1.0);\">review</span> <span style=\"background-color:rgba(135,206,250,0.2888532);\">:</span> <span style=\"background-color:rgba(135,206,250,0.57007456);\">germany</span> <span style=\"background-color:rgba(135,206,250,0.307233);\">:</span> <span style=\"background-color:rgba(135,206,250,0.15851925);\">mosel</span> <span style=\"background-color:rgba(135,206,250,0.17661984);\">:</span> <span style=\"background-color:rgba(135,206,250,0.15580766);\">riesling</span> <span style=\"background-color:rgba(135,206,250,0.17196);\">:</span> <span style=\"background-color:rgba(135,206,250,0.3850168);\">while</span> <span style=\"background-color:rgba(135,206,250,0.11813721);\">intensely</span> <span style=\"background-color:rgba(135,206,250,0.13099785);\">floral</span> <span style=\"background-color:rgba(135,206,250,0.08906661);\">,</span> <span style=\"background-color:rgba(135,206,250,0.29154718);\">with</span> <span style=\"background-color:rgba(135,206,250,0.19084167);\">hints</span> <span style=\"background-color:rgba(135,206,250,0.099938996);\">of</span> <span style=\"background-color:rgba(135,206,250,0.106687166);\">honey</span> <span style=\"background-color:rgba(135,206,250,0.09645955);\">,</span> <span style=\"background-color:rgba(135,206,250,0.23738153);\">this</span> <span style=\"background-color:rgba(135,206,250,0.12092786);\">off</span> <span style=\"background-color:rgba(135,206,250,0.06317482);\">-</span> <span style=\"background-color:rgba(135,206,250,0.12265207);\">dry</span> <span style=\"background-color:rgba(135,206,250,0.14132178);\">riesling</span> <span style=\"background-color:rgba(135,206,250,0.36370167);\">is</span> <span style=\"background-color:rgba(135,206,250,0.69148344);\">chock</span> <span style=\"background-color:rgba(135,206,250,0.32299918);\">full</span> <span style=\"background-color:rgba(135,206,250,0.71232784);\">of</span> <span style=\"background-color:rgba(135,206,250,0.468159);\">succulent</span> <span style=\"background-color:rgba(135,206,250,0.71742606);\">pineapple</span> <span style=\"background-color:rgba(135,206,250,0.83826715);\">and</span> <span style=\"background-color:rgba(135,206,250,0.88164026);\">mango</span> <span style=\"background-color:rgba(135,206,250,0.57007045);\">flavors</span>"
            ]
          },
          "metadata": {}
        },
        {
          "output_type": "stream",
          "name": "stdout",
          "text": [
            ".:   \t90.41%\n",
            ",:   \t8.71%\n",
            "that:   \t0.53%\n",
            "and:   \t0.1%\n",
            "accented:   \t0.08%\n",
            "--------\n",
            "\n"
          ]
        },
        {
          "output_type": "display_data",
          "data": {
            "text/plain": [
              "<IPython.core.display.HTML object>"
            ],
            "text/html": [
              "<span style=\"background-color:rgba(135,206,250,0.12755771);\">wine</span> <span style=\"background-color:rgba(135,206,250,0.83962643);\">review</span> <span style=\"background-color:rgba(135,206,250,0.22980279);\">:</span> <span style=\"background-color:rgba(135,206,250,1.0);\">germany</span> <span style=\"background-color:rgba(135,206,250,0.23825395);\">:</span> <span style=\"background-color:rgba(135,206,250,0.21292982);\">mosel</span> <span style=\"background-color:rgba(135,206,250,0.21748571);\">:</span> <span style=\"background-color:rgba(135,206,250,0.27527472);\">riesling</span> <span style=\"background-color:rgba(135,206,250,0.12111477);\">:</span> <span style=\"background-color:rgba(135,206,250,0.09741034);\">while</span> <span style=\"background-color:rgba(135,206,250,0.08572721);\">intensely</span> <span style=\"background-color:rgba(135,206,250,0.094926484);\">floral</span> <span style=\"background-color:rgba(135,206,250,0.060169525);\">,</span> <span style=\"background-color:rgba(135,206,250,0.085046545);\">with</span> <span style=\"background-color:rgba(135,206,250,0.09470132);\">hints</span> <span style=\"background-color:rgba(135,206,250,0.04224339);\">of</span> <span style=\"background-color:rgba(135,206,250,0.10412469);\">honey</span> <span style=\"background-color:rgba(135,206,250,0.057166055);\">,</span> <span style=\"background-color:rgba(135,206,250,0.13989364);\">this</span> <span style=\"background-color:rgba(135,206,250,0.056483988);\">off</span> <span style=\"background-color:rgba(135,206,250,0.041611478);\">-</span> <span style=\"background-color:rgba(135,206,250,0.087087326);\">dry</span> <span style=\"background-color:rgba(135,206,250,0.10071205);\">riesling</span> <span style=\"background-color:rgba(135,206,250,0.097478434);\">is</span> <span style=\"background-color:rgba(135,206,250,0.1933261);\">chock</span> <span style=\"background-color:rgba(135,206,250,0.08460964);\">full</span> <span style=\"background-color:rgba(135,206,250,0.073039025);\">of</span> <span style=\"background-color:rgba(135,206,250,0.13127275);\">succulent</span> <span style=\"background-color:rgba(135,206,250,0.15687877);\">pineapple</span> <span style=\"background-color:rgba(135,206,250,0.12589383);\">and</span> <span style=\"background-color:rgba(135,206,250,0.19002616);\">mango</span> <span style=\"background-color:rgba(135,206,250,0.3737651);\">flavors</span> <span style=\"background-color:rgba(135,206,250,0.38225228);\">.</span>"
            ]
          },
          "metadata": {}
        },
        {
          "output_type": "stream",
          "name": "stdout",
          "text": [
            "it:   \t98.87%\n",
            "the:   \t0.62%\n",
            "there:   \t0.13%\n",
            "a:   \t0.05%\n",
            "off:   \t0.04%\n",
            "--------\n",
            "\n"
          ]
        },
        {
          "output_type": "display_data",
          "data": {
            "text/plain": [
              "<IPython.core.display.HTML object>"
            ],
            "text/html": [
              "<span style=\"background-color:rgba(135,206,250,0.06584999);\">wine</span> <span style=\"background-color:rgba(135,206,250,0.13300411);\">review</span> <span style=\"background-color:rgba(135,206,250,0.096045494);\">:</span> <span style=\"background-color:rgba(135,206,250,0.2673964);\">germany</span> <span style=\"background-color:rgba(135,206,250,0.08924176);\">:</span> <span style=\"background-color:rgba(135,206,250,0.09194479);\">mosel</span> <span style=\"background-color:rgba(135,206,250,0.047097083);\">:</span> <span style=\"background-color:rgba(135,206,250,0.07738);\">riesling</span> <span style=\"background-color:rgba(135,206,250,0.048260264);\">:</span> <span style=\"background-color:rgba(135,206,250,0.09743898);\">while</span> <span style=\"background-color:rgba(135,206,250,0.072096765);\">intensely</span> <span style=\"background-color:rgba(135,206,250,0.047280617);\">floral</span> <span style=\"background-color:rgba(135,206,250,0.029888282);\">,</span> <span style=\"background-color:rgba(135,206,250,0.049026772);\">with</span> <span style=\"background-color:rgba(135,206,250,0.059490014);\">hints</span> <span style=\"background-color:rgba(135,206,250,0.025945177);\">of</span> <span style=\"background-color:rgba(135,206,250,0.048126012);\">honey</span> <span style=\"background-color:rgba(135,206,250,0.029353535);\">,</span> <span style=\"background-color:rgba(135,206,250,0.037922703);\">this</span> <span style=\"background-color:rgba(135,206,250,0.047039136);\">off</span> <span style=\"background-color:rgba(135,206,250,0.020580387);\">-</span> <span style=\"background-color:rgba(135,206,250,0.05396684);\">dry</span> <span style=\"background-color:rgba(135,206,250,0.039229553);\">riesling</span> <span style=\"background-color:rgba(135,206,250,0.05955408);\">is</span> <span style=\"background-color:rgba(135,206,250,0.09623161);\">chock</span> <span style=\"background-color:rgba(135,206,250,0.08155494);\">full</span> <span style=\"background-color:rgba(135,206,250,0.07968834);\">of</span> <span style=\"background-color:rgba(135,206,250,0.11265475);\">succulent</span> <span style=\"background-color:rgba(135,206,250,0.09391025);\">pineapple</span> <span style=\"background-color:rgba(135,206,250,0.12010135);\">and</span> <span style=\"background-color:rgba(135,206,250,0.18322168);\">mango</span> <span style=\"background-color:rgba(135,206,250,0.32782963);\">flavors</span> <span style=\"background-color:rgba(135,206,250,1.0);\">.</span> <span style=\"background-color:rgba(135,206,250,0.25565085);\">it</span>"
            ]
          },
          "metadata": {}
        },
        {
          "output_type": "stream",
          "name": "stdout",
          "text": [
            "':   \t99.98%\n",
            "finishes:   \t0.01%\n",
            "is:   \t0.0%\n",
            "has:   \t0.0%\n",
            "drinks:   \t0.0%\n",
            "--------\n",
            "\n"
          ]
        },
        {
          "output_type": "display_data",
          "data": {
            "text/plain": [
              "<IPython.core.display.HTML object>"
            ],
            "text/html": [
              "<span style=\"background-color:rgba(135,206,250,0.09473718);\">wine</span> <span style=\"background-color:rgba(135,206,250,0.15654312);\">review</span> <span style=\"background-color:rgba(135,206,250,0.08957467);\">:</span> <span style=\"background-color:rgba(135,206,250,0.16595651);\">germany</span> <span style=\"background-color:rgba(135,206,250,0.0775222);\">:</span> <span style=\"background-color:rgba(135,206,250,0.13247174);\">mosel</span> <span style=\"background-color:rgba(135,206,250,0.051540967);\">:</span> <span style=\"background-color:rgba(135,206,250,0.16899525);\">riesling</span> <span style=\"background-color:rgba(135,206,250,0.06214075);\">:</span> <span style=\"background-color:rgba(135,206,250,0.040977236);\">while</span> <span style=\"background-color:rgba(135,206,250,0.034611702);\">intensely</span> <span style=\"background-color:rgba(135,206,250,0.042036287);\">floral</span> <span style=\"background-color:rgba(135,206,250,0.034730084);\">,</span> <span style=\"background-color:rgba(135,206,250,0.038663793);\">with</span> <span style=\"background-color:rgba(135,206,250,0.033203255);\">hints</span> <span style=\"background-color:rgba(135,206,250,0.03343379);\">of</span> <span style=\"background-color:rgba(135,206,250,0.042765252);\">honey</span> <span style=\"background-color:rgba(135,206,250,0.036862604);\">,</span> <span style=\"background-color:rgba(135,206,250,0.032317698);\">this</span> <span style=\"background-color:rgba(135,206,250,0.041952148);\">off</span> <span style=\"background-color:rgba(135,206,250,0.023130473);\">-</span> <span style=\"background-color:rgba(135,206,250,0.044927098);\">dry</span> <span style=\"background-color:rgba(135,206,250,0.0931405);\">riesling</span> <span style=\"background-color:rgba(135,206,250,0.053972114);\">is</span> <span style=\"background-color:rgba(135,206,250,0.13468413);\">chock</span> <span style=\"background-color:rgba(135,206,250,0.047528703);\">full</span> <span style=\"background-color:rgba(135,206,250,0.061213758);\">of</span> <span style=\"background-color:rgba(135,206,250,0.07365408);\">succulent</span> <span style=\"background-color:rgba(135,206,250,0.09660689);\">pineapple</span> <span style=\"background-color:rgba(135,206,250,0.15647705);\">and</span> <span style=\"background-color:rgba(135,206,250,0.1766681);\">mango</span> <span style=\"background-color:rgba(135,206,250,0.4399839);\">flavors</span> <span style=\"background-color:rgba(135,206,250,0.5579373);\">.</span> <span style=\"background-color:rgba(135,206,250,1.0);\">it</span> <span style=\"background-color:rgba(135,206,250,0.07744039);\">'</span>"
            ]
          },
          "metadata": {}
        },
        {
          "output_type": "stream",
          "name": "stdout",
          "text": [
            "s:   \t100.0%\n",
            "ll:   \t0.0%\n",
            "[UNK]:   \t0.0%\n",
            "sweet:   \t0.0%\n",
            "d:   \t0.0%\n",
            "--------\n",
            "\n"
          ]
        },
        {
          "output_type": "display_data",
          "data": {
            "text/plain": [
              "<IPython.core.display.HTML object>"
            ],
            "text/html": [
              "<span style=\"background-color:rgba(135,206,250,0.087585844);\">wine</span> <span style=\"background-color:rgba(135,206,250,0.1795287);\">review</span> <span style=\"background-color:rgba(135,206,250,0.10825045);\">:</span> <span style=\"background-color:rgba(135,206,250,0.32100987);\">germany</span> <span style=\"background-color:rgba(135,206,250,0.09089841);\">:</span> <span style=\"background-color:rgba(135,206,250,0.16439019);\">mosel</span> <span style=\"background-color:rgba(135,206,250,0.04847781);\">:</span> <span style=\"background-color:rgba(135,206,250,0.20403065);\">riesling</span> <span style=\"background-color:rgba(135,206,250,0.06506324);\">:</span> <span style=\"background-color:rgba(135,206,250,0.076021746);\">while</span> <span style=\"background-color:rgba(135,206,250,0.09213514);\">intensely</span> <span style=\"background-color:rgba(135,206,250,0.07281248);\">floral</span> <span style=\"background-color:rgba(135,206,250,0.036367282);\">,</span> <span style=\"background-color:rgba(135,206,250,0.05154223);\">with</span> <span style=\"background-color:rgba(135,206,250,0.056498855);\">hints</span> <span style=\"background-color:rgba(135,206,250,0.029867442);\">of</span> <span style=\"background-color:rgba(135,206,250,0.087271556);\">honey</span> <span style=\"background-color:rgba(135,206,250,0.038522106);\">,</span> <span style=\"background-color:rgba(135,206,250,0.055305958);\">this</span> <span style=\"background-color:rgba(135,206,250,0.051716726);\">off</span> <span style=\"background-color:rgba(135,206,250,0.02864327);\">-</span> <span style=\"background-color:rgba(135,206,250,0.08149027);\">dry</span> <span style=\"background-color:rgba(135,206,250,0.08655557);\">riesling</span> <span style=\"background-color:rgba(135,206,250,0.0460921);\">is</span> <span style=\"background-color:rgba(135,206,250,0.119027376);\">chock</span> <span style=\"background-color:rgba(135,206,250,0.1145542);\">full</span> <span style=\"background-color:rgba(135,206,250,0.06986611);\">of</span> <span style=\"background-color:rgba(135,206,250,0.17041571);\">succulent</span> <span style=\"background-color:rgba(135,206,250,0.12773448);\">pineapple</span> <span style=\"background-color:rgba(135,206,250,0.1387258);\">and</span> <span style=\"background-color:rgba(135,206,250,0.23543507);\">mango</span> <span style=\"background-color:rgba(135,206,250,0.24490817);\">flavors</span> <span style=\"background-color:rgba(135,206,250,1.0);\">.</span> <span style=\"background-color:rgba(135,206,250,0.891818);\">it</span> <span style=\"background-color:rgba(135,206,250,0.10359817);\">'</span> <span style=\"background-color:rgba(135,206,250,0.23193026);\">s</span>"
            ]
          },
          "metadata": {}
        },
        {
          "output_type": "stream",
          "name": "stdout",
          "text": [
            "a:   \t58.39%\n",
            "full:   \t3.58%\n",
            "unabashedly:   \t3.21%\n",
            "an:   \t3.14%\n",
            "rich:   \t3.1%\n",
            "--------\n",
            "\n"
          ]
        },
        {
          "output_type": "display_data",
          "data": {
            "text/plain": [
              "<IPython.core.display.HTML object>"
            ],
            "text/html": [
              "<span style=\"background-color:rgba(135,206,250,0.05797529);\">wine</span> <span style=\"background-color:rgba(135,206,250,0.10807759);\">review</span> <span style=\"background-color:rgba(135,206,250,0.06441294);\">:</span> <span style=\"background-color:rgba(135,206,250,0.23598091);\">germany</span> <span style=\"background-color:rgba(135,206,250,0.060779467);\">:</span> <span style=\"background-color:rgba(135,206,250,0.113539055);\">mosel</span> <span style=\"background-color:rgba(135,206,250,0.055395693);\">:</span> <span style=\"background-color:rgba(135,206,250,0.23033069);\">riesling</span> <span style=\"background-color:rgba(135,206,250,0.05873536);\">:</span> <span style=\"background-color:rgba(135,206,250,0.04558476);\">while</span> <span style=\"background-color:rgba(135,206,250,0.033876315);\">intensely</span> <span style=\"background-color:rgba(135,206,250,0.050992534);\">floral</span> <span style=\"background-color:rgba(135,206,250,0.023206089);\">,</span> <span style=\"background-color:rgba(135,206,250,0.02282099);\">with</span> <span style=\"background-color:rgba(135,206,250,0.033857517);\">hints</span> <span style=\"background-color:rgba(135,206,250,0.017675443);\">of</span> <span style=\"background-color:rgba(135,206,250,0.048839733);\">honey</span> <span style=\"background-color:rgba(135,206,250,0.023732776);\">,</span> <span style=\"background-color:rgba(135,206,250,0.024303207);\">this</span> <span style=\"background-color:rgba(135,206,250,0.02651824);\">off</span> <span style=\"background-color:rgba(135,206,250,0.016081009);\">-</span> <span style=\"background-color:rgba(135,206,250,0.04349848);\">dry</span> <span style=\"background-color:rgba(135,206,250,0.09317235);\">riesling</span> <span style=\"background-color:rgba(135,206,250,0.050531223);\">is</span> <span style=\"background-color:rgba(135,206,250,0.14165114);\">chock</span> <span style=\"background-color:rgba(135,206,250,0.036398683);\">full</span> <span style=\"background-color:rgba(135,206,250,0.040490314);\">of</span> <span style=\"background-color:rgba(135,206,250,0.044952456);\">succulent</span> <span style=\"background-color:rgba(135,206,250,0.12729001);\">pineapple</span> <span style=\"background-color:rgba(135,206,250,0.066720486);\">and</span> <span style=\"background-color:rgba(135,206,250,0.14885734);\">mango</span> <span style=\"background-color:rgba(135,206,250,0.28507644);\">flavors</span> <span style=\"background-color:rgba(135,206,250,0.5519435);\">.</span> <span style=\"background-color:rgba(135,206,250,0.35760537);\">it</span> <span style=\"background-color:rgba(135,206,250,0.080213614);\">'</span> <span style=\"background-color:rgba(135,206,250,1.0);\">s</span> <span style=\"background-color:rgba(135,206,250,0.25646716);\">rich</span>"
            ]
          },
          "metadata": {}
        },
        {
          "output_type": "stream",
          "name": "stdout",
          "text": [
            "and:   \t54.76%\n",
            ",:   \t19.89%\n",
            "in:   \t19.14%\n",
            "with:   \t2.96%\n",
            "but:   \t1.76%\n",
            "--------\n",
            "\n"
          ]
        },
        {
          "output_type": "display_data",
          "data": {
            "text/plain": [
              "<IPython.core.display.HTML object>"
            ],
            "text/html": [
              "<span style=\"background-color:rgba(135,206,250,0.0496708);\">wine</span> <span style=\"background-color:rgba(135,206,250,0.11014015);\">review</span> <span style=\"background-color:rgba(135,206,250,0.0434798);\">:</span> <span style=\"background-color:rgba(135,206,250,0.27510273);\">germany</span> <span style=\"background-color:rgba(135,206,250,0.03748909);\">:</span> <span style=\"background-color:rgba(135,206,250,0.14263684);\">mosel</span> <span style=\"background-color:rgba(135,206,250,0.029924467);\">:</span> <span style=\"background-color:rgba(135,206,250,0.17717144);\">riesling</span> <span style=\"background-color:rgba(135,206,250,0.043084573);\">:</span> <span style=\"background-color:rgba(135,206,250,0.06930501);\">while</span> <span style=\"background-color:rgba(135,206,250,0.058552653);\">intensely</span> <span style=\"background-color:rgba(135,206,250,0.053770926);\">floral</span> <span style=\"background-color:rgba(135,206,250,0.022094734);\">,</span> <span style=\"background-color:rgba(135,206,250,0.03225573);\">with</span> <span style=\"background-color:rgba(135,206,250,0.036479473);\">hints</span> <span style=\"background-color:rgba(135,206,250,0.019088283);\">of</span> <span style=\"background-color:rgba(135,206,250,0.05411681);\">honey</span> <span style=\"background-color:rgba(135,206,250,0.022770071);\">,</span> <span style=\"background-color:rgba(135,206,250,0.03106424);\">this</span> <span style=\"background-color:rgba(135,206,250,0.031199884);\">off</span> <span style=\"background-color:rgba(135,206,250,0.016020909);\">-</span> <span style=\"background-color:rgba(135,206,250,0.05417104);\">dry</span> <span style=\"background-color:rgba(135,206,250,0.06475462);\">riesling</span> <span style=\"background-color:rgba(135,206,250,0.040107146);\">is</span> <span style=\"background-color:rgba(135,206,250,0.073536895);\">chock</span> <span style=\"background-color:rgba(135,206,250,0.055051755);\">full</span> <span style=\"background-color:rgba(135,206,250,0.035779458);\">of</span> <span style=\"background-color:rgba(135,206,250,0.074478865);\">succulent</span> <span style=\"background-color:rgba(135,206,250,0.09655655);\">pineapple</span> <span style=\"background-color:rgba(135,206,250,0.03814095);\">and</span> <span style=\"background-color:rgba(135,206,250,0.19532484);\">mango</span> <span style=\"background-color:rgba(135,206,250,0.22010332);\">flavors</span> <span style=\"background-color:rgba(135,206,250,0.31620884);\">.</span> <span style=\"background-color:rgba(135,206,250,0.18096049);\">it</span> <span style=\"background-color:rgba(135,206,250,0.064655125);\">'</span> <span style=\"background-color:rgba(135,206,250,0.54916817);\">s</span> <span style=\"background-color:rgba(135,206,250,1.0);\">rich</span> <span style=\"background-color:rgba(135,206,250,0.26460615);\">and</span>"
            ]
          },
          "metadata": {}
        },
        {
          "output_type": "stream",
          "name": "stdout",
          "text": [
            "sweet:   \t36.63%\n",
            "concentrated:   \t26.44%\n",
            "full:   \t8.02%\n",
            "ripe:   \t6.35%\n",
            "juicy:   \t5.68%\n",
            "--------\n",
            "\n"
          ]
        },
        {
          "output_type": "display_data",
          "data": {
            "text/plain": [
              "<IPython.core.display.HTML object>"
            ],
            "text/html": [
              "<span style=\"background-color:rgba(135,206,250,0.06899075);\">wine</span> <span style=\"background-color:rgba(135,206,250,0.15856038);\">review</span> <span style=\"background-color:rgba(135,206,250,0.11398582);\">:</span> <span style=\"background-color:rgba(135,206,250,0.488294);\">germany</span> <span style=\"background-color:rgba(135,206,250,0.09919224);\">:</span> <span style=\"background-color:rgba(135,206,250,0.18321049);\">mosel</span> <span style=\"background-color:rgba(135,206,250,0.07764917);\">:</span> <span style=\"background-color:rgba(135,206,250,0.35469022);\">riesling</span> <span style=\"background-color:rgba(135,206,250,0.086282164);\">:</span> <span style=\"background-color:rgba(135,206,250,0.0941004);\">while</span> <span style=\"background-color:rgba(135,206,250,0.04849532);\">intensely</span> <span style=\"background-color:rgba(135,206,250,0.08557493);\">floral</span> <span style=\"background-color:rgba(135,206,250,0.035371482);\">,</span> <span style=\"background-color:rgba(135,206,250,0.045151435);\">with</span> <span style=\"background-color:rgba(135,206,250,0.05098733);\">hints</span> <span style=\"background-color:rgba(135,206,250,0.030654712);\">of</span> <span style=\"background-color:rgba(135,206,250,0.06544631);\">honey</span> <span style=\"background-color:rgba(135,206,250,0.035453163);\">,</span> <span style=\"background-color:rgba(135,206,250,0.03576623);\">this</span> <span style=\"background-color:rgba(135,206,250,0.03700191);\">off</span> <span style=\"background-color:rgba(135,206,250,0.027571272);\">-</span> <span style=\"background-color:rgba(135,206,250,0.07789155);\">dry</span> <span style=\"background-color:rgba(135,206,250,0.14605217);\">riesling</span> <span style=\"background-color:rgba(135,206,250,0.09586724);\">is</span> <span style=\"background-color:rgba(135,206,250,0.2207614);\">chock</span> <span style=\"background-color:rgba(135,206,250,0.048423577);\">full</span> <span style=\"background-color:rgba(135,206,250,0.059795216);\">of</span> <span style=\"background-color:rgba(135,206,250,0.06230639);\">succulent</span> <span style=\"background-color:rgba(135,206,250,0.19287962);\">pineapple</span> <span style=\"background-color:rgba(135,206,250,0.085228465);\">and</span> <span style=\"background-color:rgba(135,206,250,0.20748766);\">mango</span> <span style=\"background-color:rgba(135,206,250,0.47214648);\">flavors</span> <span style=\"background-color:rgba(135,206,250,0.74679494);\">.</span> <span style=\"background-color:rgba(135,206,250,0.48932707);\">it</span> <span style=\"background-color:rgba(135,206,250,0.07942744);\">'</span> <span style=\"background-color:rgba(135,206,250,1.0);\">s</span> <span style=\"background-color:rgba(135,206,250,0.34046802);\">rich</span> <span style=\"background-color:rgba(135,206,250,0.8488646);\">and</span> <span style=\"background-color:rgba(135,206,250,0.8757618);\">concentrated</span>"
            ]
          },
          "metadata": {}
        },
        {
          "output_type": "stream",
          "name": "stdout",
          "text": [
            ",:   \t76.6%\n",
            "in:   \t13.0%\n",
            "with:   \t7.39%\n",
            "on:   \t1.28%\n",
            "but:   \t1.06%\n",
            "--------\n",
            "\n"
          ]
        },
        {
          "output_type": "display_data",
          "data": {
            "text/plain": [
              "<IPython.core.display.HTML object>"
            ],
            "text/html": [
              "<span style=\"background-color:rgba(135,206,250,0.048012782);\">wine</span> <span style=\"background-color:rgba(135,206,250,0.13406792);\">review</span> <span style=\"background-color:rgba(135,206,250,0.068251215);\">:</span> <span style=\"background-color:rgba(135,206,250,0.33656105);\">germany</span> <span style=\"background-color:rgba(135,206,250,0.052448265);\">:</span> <span style=\"background-color:rgba(135,206,250,0.12028017);\">mosel</span> <span style=\"background-color:rgba(135,206,250,0.03597531);\">:</span> <span style=\"background-color:rgba(135,206,250,0.19751817);\">riesling</span> <span style=\"background-color:rgba(135,206,250,0.048832078);\">:</span> <span style=\"background-color:rgba(135,206,250,0.17915866);\">while</span> <span style=\"background-color:rgba(135,206,250,0.07118321);\">intensely</span> <span style=\"background-color:rgba(135,206,250,0.061774004);\">floral</span> <span style=\"background-color:rgba(135,206,250,0.021543724);\">,</span> <span style=\"background-color:rgba(135,206,250,0.07225331);\">with</span> <span style=\"background-color:rgba(135,206,250,0.041250166);\">hints</span> <span style=\"background-color:rgba(135,206,250,0.024904156);\">of</span> <span style=\"background-color:rgba(135,206,250,0.05846762);\">honey</span> <span style=\"background-color:rgba(135,206,250,0.020982966);\">,</span> <span style=\"background-color:rgba(135,206,250,0.063347824);\">this</span> <span style=\"background-color:rgba(135,206,250,0.03388119);\">off</span> <span style=\"background-color:rgba(135,206,250,0.015195633);\">-</span> <span style=\"background-color:rgba(135,206,250,0.05850077);\">dry</span> <span style=\"background-color:rgba(135,206,250,0.07203953);\">riesling</span> <span style=\"background-color:rgba(135,206,250,0.080791526);\">is</span> <span style=\"background-color:rgba(135,206,250,0.09850524);\">chock</span> <span style=\"background-color:rgba(135,206,250,0.05122137);\">full</span> <span style=\"background-color:rgba(135,206,250,0.04326384);\">of</span> <span style=\"background-color:rgba(135,206,250,0.076101564);\">succulent</span> <span style=\"background-color:rgba(135,206,250,0.11695136);\">pineapple</span> <span style=\"background-color:rgba(135,206,250,0.08583598);\">and</span> <span style=\"background-color:rgba(135,206,250,0.14816146);\">mango</span> <span style=\"background-color:rgba(135,206,250,0.15159814);\">flavors</span> <span style=\"background-color:rgba(135,206,250,0.39567757);\">.</span> <span style=\"background-color:rgba(135,206,250,0.2595197);\">it</span> <span style=\"background-color:rgba(135,206,250,0.03382913);\">'</span> <span style=\"background-color:rgba(135,206,250,0.40454155);\">s</span> <span style=\"background-color:rgba(135,206,250,0.522171);\">rich</span> <span style=\"background-color:rgba(135,206,250,0.7683455);\">and</span> <span style=\"background-color:rgba(135,206,250,1.0);\">concentrated</span> <span style=\"background-color:rgba(135,206,250,0.3981877);\">,</span>"
            ]
          },
          "metadata": {}
        },
        {
          "output_type": "stream",
          "name": "stdout",
          "text": [
            "with:   \t42.96%\n",
            "but:   \t30.75%\n",
            "yet:   \t25.52%\n",
            "finishing:   \t0.19%\n",
            "it:   \t0.14%\n",
            "--------\n",
            "\n"
          ]
        },
        {
          "output_type": "display_data",
          "data": {
            "text/plain": [
              "<IPython.core.display.HTML object>"
            ],
            "text/html": [
              "<span style=\"background-color:rgba(135,206,250,0.1065535);\">wine</span> <span style=\"background-color:rgba(135,206,250,0.2679022);\">review</span> <span style=\"background-color:rgba(135,206,250,0.21559997);\">:</span> <span style=\"background-color:rgba(135,206,250,1.0);\">germany</span> <span style=\"background-color:rgba(135,206,250,0.17143933);\">:</span> <span style=\"background-color:rgba(135,206,250,0.18921317);\">mosel</span> <span style=\"background-color:rgba(135,206,250,0.119288065);\">:</span> <span style=\"background-color:rgba(135,206,250,0.19126648);\">riesling</span> <span style=\"background-color:rgba(135,206,250,0.10280177);\">:</span> <span style=\"background-color:rgba(135,206,250,0.16155541);\">while</span> <span style=\"background-color:rgba(135,206,250,0.11238107);\">intensely</span> <span style=\"background-color:rgba(135,206,250,0.07760212);\">floral</span> <span style=\"background-color:rgba(135,206,250,0.05411931);\">,</span> <span style=\"background-color:rgba(135,206,250,0.12932473);\">with</span> <span style=\"background-color:rgba(135,206,250,0.12556536);\">hints</span> <span style=\"background-color:rgba(135,206,250,0.054250684);\">of</span> <span style=\"background-color:rgba(135,206,250,0.085362956);\">honey</span> <span style=\"background-color:rgba(135,206,250,0.048293926);\">,</span> <span style=\"background-color:rgba(135,206,250,0.1261452);\">this</span> <span style=\"background-color:rgba(135,206,250,0.062447164);\">off</span> <span style=\"background-color:rgba(135,206,250,0.034181304);\">-</span> <span style=\"background-color:rgba(135,206,250,0.06165868);\">dry</span> <span style=\"background-color:rgba(135,206,250,0.07103731);\">riesling</span> <span style=\"background-color:rgba(135,206,250,0.09643123);\">is</span> <span style=\"background-color:rgba(135,206,250,0.17816308);\">chock</span> <span style=\"background-color:rgba(135,206,250,0.07942995);\">full</span> <span style=\"background-color:rgba(135,206,250,0.075019285);\">of</span> <span style=\"background-color:rgba(135,206,250,0.0978625);\">succulent</span> <span style=\"background-color:rgba(135,206,250,0.117388815);\">pineapple</span> <span style=\"background-color:rgba(135,206,250,0.0853454);\">and</span> <span style=\"background-color:rgba(135,206,250,0.13903579);\">mango</span> <span style=\"background-color:rgba(135,206,250,0.23262632);\">flavors</span> <span style=\"background-color:rgba(135,206,250,0.46266603);\">.</span> <span style=\"background-color:rgba(135,206,250,0.27234134);\">it</span> <span style=\"background-color:rgba(135,206,250,0.07982062);\">'</span> <span style=\"background-color:rgba(135,206,250,0.481873);\">s</span> <span style=\"background-color:rgba(135,206,250,0.39488026);\">rich</span> <span style=\"background-color:rgba(135,206,250,0.38747737);\">and</span> <span style=\"background-color:rgba(135,206,250,0.75661576);\">concentrated</span> <span style=\"background-color:rgba(135,206,250,0.9584931);\">,</span> <span style=\"background-color:rgba(135,206,250,0.5335993);\">but</span>"
            ]
          },
          "metadata": {}
        },
        {
          "output_type": "stream",
          "name": "stdout",
          "text": [
            "with:   \t23.58%\n",
            "likely:   \t22.27%\n",
            "balanced:   \t13.86%\n",
            "brightened:   \t6.25%\n",
            "elegantly:   \t4.32%\n",
            "--------\n",
            "\n"
          ]
        },
        {
          "output_type": "display_data",
          "data": {
            "text/plain": [
              "<IPython.core.display.HTML object>"
            ],
            "text/html": [
              "<span style=\"background-color:rgba(135,206,250,0.15636851);\">wine</span> <span style=\"background-color:rgba(135,206,250,0.43832132);\">review</span> <span style=\"background-color:rgba(135,206,250,0.5671578);\">:</span> <span style=\"background-color:rgba(135,206,250,0.7136826);\">germany</span> <span style=\"background-color:rgba(135,206,250,0.48001823);\">:</span> <span style=\"background-color:rgba(135,206,250,0.23272425);\">mosel</span> <span style=\"background-color:rgba(135,206,250,0.25042957);\">:</span> <span style=\"background-color:rgba(135,206,250,0.2744059);\">riesling</span> <span style=\"background-color:rgba(135,206,250,0.19780508);\">:</span> <span style=\"background-color:rgba(135,206,250,0.12185957);\">while</span> <span style=\"background-color:rgba(135,206,250,0.10464145);\">intensely</span> <span style=\"background-color:rgba(135,206,250,0.10839947);\">floral</span> <span style=\"background-color:rgba(135,206,250,0.06189603);\">,</span> <span style=\"background-color:rgba(135,206,250,0.07452857);\">with</span> <span style=\"background-color:rgba(135,206,250,0.0722681);\">hints</span> <span style=\"background-color:rgba(135,206,250,0.057621438);\">of</span> <span style=\"background-color:rgba(135,206,250,0.12348879);\">honey</span> <span style=\"background-color:rgba(135,206,250,0.053486);\">,</span> <span style=\"background-color:rgba(135,206,250,0.05585772);\">this</span> <span style=\"background-color:rgba(135,206,250,0.08540098);\">off</span> <span style=\"background-color:rgba(135,206,250,0.029096901);\">-</span> <span style=\"background-color:rgba(135,206,250,0.07229704);\">dry</span> <span style=\"background-color:rgba(135,206,250,0.07689813);\">riesling</span> <span style=\"background-color:rgba(135,206,250,0.04598759);\">is</span> <span style=\"background-color:rgba(135,206,250,0.090359084);\">chock</span> <span style=\"background-color:rgba(135,206,250,0.06858379);\">full</span> <span style=\"background-color:rgba(135,206,250,0.073926926);\">of</span> <span style=\"background-color:rgba(135,206,250,0.13416165);\">succulent</span> <span style=\"background-color:rgba(135,206,250,0.09340142);\">pineapple</span> <span style=\"background-color:rgba(135,206,250,0.14388162);\">and</span> <span style=\"background-color:rgba(135,206,250,0.14258811);\">mango</span> <span style=\"background-color:rgba(135,206,250,0.10464);\">flavors</span> <span style=\"background-color:rgba(135,206,250,0.26389194);\">.</span> <span style=\"background-color:rgba(135,206,250,0.12745203);\">it</span> <span style=\"background-color:rgba(135,206,250,0.07200045);\">'</span> <span style=\"background-color:rgba(135,206,250,0.15819328);\">s</span> <span style=\"background-color:rgba(135,206,250,0.30660662);\">rich</span> <span style=\"background-color:rgba(135,206,250,0.29220045);\">and</span> <span style=\"background-color:rgba(135,206,250,0.4184101);\">concentrated</span> <span style=\"background-color:rgba(135,206,250,0.5373216);\">,</span> <span style=\"background-color:rgba(135,206,250,1.0);\">but</span> <span style=\"background-color:rgba(135,206,250,0.46915326);\">finishes</span>"
            ]
          },
          "metadata": {}
        },
        {
          "output_type": "stream",
          "name": "stdout",
          "text": [
            "with:   \t95.9%\n",
            "long:   \t2.75%\n",
            "elegantly:   \t0.4%\n",
            "briskly:   \t0.36%\n",
            "moderately:   \t0.19%\n",
            "--------\n",
            "\n"
          ]
        },
        {
          "output_type": "display_data",
          "data": {
            "text/plain": [
              "<IPython.core.display.HTML object>"
            ],
            "text/html": [
              "<span style=\"background-color:rgba(135,206,250,0.045616537);\">wine</span> <span style=\"background-color:rgba(135,206,250,0.10774696);\">review</span> <span style=\"background-color:rgba(135,206,250,0.119470336);\">:</span> <span style=\"background-color:rgba(135,206,250,0.4355146);\">germany</span> <span style=\"background-color:rgba(135,206,250,0.09182892);\">:</span> <span style=\"background-color:rgba(135,206,250,0.14151113);\">mosel</span> <span style=\"background-color:rgba(135,206,250,0.05894483);\">:</span> <span style=\"background-color:rgba(135,206,250,0.19057326);\">riesling</span> <span style=\"background-color:rgba(135,206,250,0.05297688);\">:</span> <span style=\"background-color:rgba(135,206,250,0.05594326);\">while</span> <span style=\"background-color:rgba(135,206,250,0.06918464);\">intensely</span> <span style=\"background-color:rgba(135,206,250,0.07096375);\">floral</span> <span style=\"background-color:rgba(135,206,250,0.03130998);\">,</span> <span style=\"background-color:rgba(135,206,250,0.025771052);\">with</span> <span style=\"background-color:rgba(135,206,250,0.043929245);\">hints</span> <span style=\"background-color:rgba(135,206,250,0.018407539);\">of</span> <span style=\"background-color:rgba(135,206,250,0.06994598);\">honey</span> <span style=\"background-color:rgba(135,206,250,0.028391033);\">,</span> <span style=\"background-color:rgba(135,206,250,0.03028086);\">this</span> <span style=\"background-color:rgba(135,206,250,0.026092423);\">off</span> <span style=\"background-color:rgba(135,206,250,0.01814623);\">-</span> <span style=\"background-color:rgba(135,206,250,0.053256717);\">dry</span> <span style=\"background-color:rgba(135,206,250,0.060181618);\">riesling</span> <span style=\"background-color:rgba(135,206,250,0.034577142);\">is</span> <span style=\"background-color:rgba(135,206,250,0.06175622);\">chock</span> <span style=\"background-color:rgba(135,206,250,0.038699508);\">full</span> <span style=\"background-color:rgba(135,206,250,0.023724945);\">of</span> <span style=\"background-color:rgba(135,206,250,0.066203795);\">succulent</span> <span style=\"background-color:rgba(135,206,250,0.088789344);\">pineapple</span> <span style=\"background-color:rgba(135,206,250,0.047177594);\">and</span> <span style=\"background-color:rgba(135,206,250,0.102242775);\">mango</span> <span style=\"background-color:rgba(135,206,250,0.12945636);\">flavors</span> <span style=\"background-color:rgba(135,206,250,0.15414466);\">.</span> <span style=\"background-color:rgba(135,206,250,0.057351127);\">it</span> <span style=\"background-color:rgba(135,206,250,0.023831982);\">'</span> <span style=\"background-color:rgba(135,206,250,0.090407014);\">s</span> <span style=\"background-color:rgba(135,206,250,0.1829805);\">rich</span> <span style=\"background-color:rgba(135,206,250,0.12322147);\">and</span> <span style=\"background-color:rgba(135,206,250,0.2794652);\">concentrated</span> <span style=\"background-color:rgba(135,206,250,0.28821152);\">,</span> <span style=\"background-color:rgba(135,206,250,0.6587927);\">but</span> <span style=\"background-color:rgba(135,206,250,1.0);\">finishes</span> <span style=\"background-color:rgba(135,206,250,0.30908874);\">with</span>"
            ]
          },
          "metadata": {}
        },
        {
          "output_type": "stream",
          "name": "stdout",
          "text": [
            "a:   \t97.98%\n",
            "an:   \t0.75%\n",
            "lingering:   \t0.35%\n",
            "hints:   \t0.24%\n",
            "just:   \t0.18%\n",
            "--------\n",
            "\n"
          ]
        },
        {
          "output_type": "display_data",
          "data": {
            "text/plain": [
              "<IPython.core.display.HTML object>"
            ],
            "text/html": [
              "<span style=\"background-color:rgba(135,206,250,0.0427438);\">wine</span> <span style=\"background-color:rgba(135,206,250,0.08873208);\">review</span> <span style=\"background-color:rgba(135,206,250,0.061570138);\">:</span> <span style=\"background-color:rgba(135,206,250,0.33520406);\">germany</span> <span style=\"background-color:rgba(135,206,250,0.041897565);\">:</span> <span style=\"background-color:rgba(135,206,250,0.15060264);\">mosel</span> <span style=\"background-color:rgba(135,206,250,0.029007955);\">:</span> <span style=\"background-color:rgba(135,206,250,0.14790197);\">riesling</span> <span style=\"background-color:rgba(135,206,250,0.03922541);\">:</span> <span style=\"background-color:rgba(135,206,250,0.043221813);\">while</span> <span style=\"background-color:rgba(135,206,250,0.084400296);\">intensely</span> <span style=\"background-color:rgba(135,206,250,0.04323443);\">floral</span> <span style=\"background-color:rgba(135,206,250,0.020687584);\">,</span> <span style=\"background-color:rgba(135,206,250,0.028923642);\">with</span> <span style=\"background-color:rgba(135,206,250,0.036466416);\">hints</span> <span style=\"background-color:rgba(135,206,250,0.020532444);\">of</span> <span style=\"background-color:rgba(135,206,250,0.056214564);\">honey</span> <span style=\"background-color:rgba(135,206,250,0.019281939);\">,</span> <span style=\"background-color:rgba(135,206,250,0.03136863);\">this</span> <span style=\"background-color:rgba(135,206,250,0.02969726);\">off</span> <span style=\"background-color:rgba(135,206,250,0.011629604);\">-</span> <span style=\"background-color:rgba(135,206,250,0.04633836);\">dry</span> <span style=\"background-color:rgba(135,206,250,0.04867484);\">riesling</span> <span style=\"background-color:rgba(135,206,250,0.025323587);\">is</span> <span style=\"background-color:rgba(135,206,250,0.06704372);\">chock</span> <span style=\"background-color:rgba(135,206,250,0.040160853);\">full</span> <span style=\"background-color:rgba(135,206,250,0.027294949);\">of</span> <span style=\"background-color:rgba(135,206,250,0.06378374);\">succulent</span> <span style=\"background-color:rgba(135,206,250,0.057684176);\">pineapple</span> <span style=\"background-color:rgba(135,206,250,0.028837964);\">and</span> <span style=\"background-color:rgba(135,206,250,0.06076267);\">mango</span> <span style=\"background-color:rgba(135,206,250,0.089031175);\">flavors</span> <span style=\"background-color:rgba(135,206,250,0.11849526);\">.</span> <span style=\"background-color:rgba(135,206,250,0.05841854);\">it</span> <span style=\"background-color:rgba(135,206,250,0.016314976);\">'</span> <span style=\"background-color:rgba(135,206,250,0.08053249);\">s</span> <span style=\"background-color:rgba(135,206,250,0.12551339);\">rich</span> <span style=\"background-color:rgba(135,206,250,0.08234315);\">and</span> <span style=\"background-color:rgba(135,206,250,0.26891434);\">concentrated</span> <span style=\"background-color:rgba(135,206,250,0.20337483);\">,</span> <span style=\"background-color:rgba(135,206,250,0.37351412);\">but</span> <span style=\"background-color:rgba(135,206,250,1.0);\">finishes</span> <span style=\"background-color:rgba(135,206,250,0.8011376);\">with</span> <span style=\"background-color:rgba(135,206,250,0.20347048);\">a</span>"
            ]
          },
          "metadata": {}
        },
        {
          "output_type": "stream",
          "name": "stdout",
          "text": [
            "bristle:   \t82.1%\n",
            "murmur:   \t4.82%\n",
            "hint:   \t3.44%\n",
            "touch:   \t2.54%\n",
            "flurry:   \t1.84%\n",
            "--------\n",
            "\n"
          ]
        },
        {
          "output_type": "display_data",
          "data": {
            "text/plain": [
              "<IPython.core.display.HTML object>"
            ],
            "text/html": [
              "<span style=\"background-color:rgba(135,206,250,0.105277926);\">wine</span> <span style=\"background-color:rgba(135,206,250,0.31021902);\">review</span> <span style=\"background-color:rgba(135,206,250,0.23048145);\">:</span> <span style=\"background-color:rgba(135,206,250,0.3453301);\">germany</span> <span style=\"background-color:rgba(135,206,250,0.227928);\">:</span> <span style=\"background-color:rgba(135,206,250,0.1463004);\">mosel</span> <span style=\"background-color:rgba(135,206,250,0.09580987);\">:</span> <span style=\"background-color:rgba(135,206,250,0.17783359);\">riesling</span> <span style=\"background-color:rgba(135,206,250,0.106223226);\">:</span> <span style=\"background-color:rgba(135,206,250,0.08156393);\">while</span> <span style=\"background-color:rgba(135,206,250,0.030817907);\">intensely</span> <span style=\"background-color:rgba(135,206,250,0.040291075);\">floral</span> <span style=\"background-color:rgba(135,206,250,0.045339648);\">,</span> <span style=\"background-color:rgba(135,206,250,0.045055334);\">with</span> <span style=\"background-color:rgba(135,206,250,0.041296814);\">hints</span> <span style=\"background-color:rgba(135,206,250,0.04034311);\">of</span> <span style=\"background-color:rgba(135,206,250,0.03486611);\">honey</span> <span style=\"background-color:rgba(135,206,250,0.040222652);\">,</span> <span style=\"background-color:rgba(135,206,250,0.035152197);\">this</span> <span style=\"background-color:rgba(135,206,250,0.03166087);\">off</span> <span style=\"background-color:rgba(135,206,250,0.018103108);\">-</span> <span style=\"background-color:rgba(135,206,250,0.03207728);\">dry</span> <span style=\"background-color:rgba(135,206,250,0.05445954);\">riesling</span> <span style=\"background-color:rgba(135,206,250,0.05577522);\">is</span> <span style=\"background-color:rgba(135,206,250,0.12006165);\">chock</span> <span style=\"background-color:rgba(135,206,250,0.026836626);\">full</span> <span style=\"background-color:rgba(135,206,250,0.0573721);\">of</span> <span style=\"background-color:rgba(135,206,250,0.04082423);\">succulent</span> <span style=\"background-color:rgba(135,206,250,0.057661194);\">pineapple</span> <span style=\"background-color:rgba(135,206,250,0.088600695);\">and</span> <span style=\"background-color:rgba(135,206,250,0.06169147);\">mango</span> <span style=\"background-color:rgba(135,206,250,0.107952334);\">flavors</span> <span style=\"background-color:rgba(135,206,250,0.22890833);\">.</span> <span style=\"background-color:rgba(135,206,250,0.12353852);\">it</span> <span style=\"background-color:rgba(135,206,250,0.044577148);\">'</span> <span style=\"background-color:rgba(135,206,250,0.14016144);\">s</span> <span style=\"background-color:rgba(135,206,250,0.08423085);\">rich</span> <span style=\"background-color:rgba(135,206,250,0.19678141);\">and</span> <span style=\"background-color:rgba(135,206,250,0.13019751);\">concentrated</span> <span style=\"background-color:rgba(135,206,250,0.2850742);\">,</span> <span style=\"background-color:rgba(135,206,250,0.53763986);\">but</span> <span style=\"background-color:rgba(135,206,250,0.5973123);\">finishes</span> <span style=\"background-color:rgba(135,206,250,0.7243477);\">with</span> <span style=\"background-color:rgba(135,206,250,1.0);\">a</span> <span style=\"background-color:rgba(135,206,250,0.5622824);\">bristle</span>"
            ]
          },
          "metadata": {}
        },
        {
          "output_type": "stream",
          "name": "stdout",
          "text": [
            "of:   \t100.0%\n",
            "-:   \t0.0%\n",
            ",:   \t0.0%\n",
            "that:   \t0.0%\n",
            "and:   \t0.0%\n",
            "--------\n",
            "\n"
          ]
        },
        {
          "output_type": "display_data",
          "data": {
            "text/plain": [
              "<IPython.core.display.HTML object>"
            ],
            "text/html": [
              "<span style=\"background-color:rgba(135,206,250,0.023437884);\">wine</span> <span style=\"background-color:rgba(135,206,250,0.051403265);\">review</span> <span style=\"background-color:rgba(135,206,250,0.028881185);\">:</span> <span style=\"background-color:rgba(135,206,250,0.19723581);\">germany</span> <span style=\"background-color:rgba(135,206,250,0.020740626);\">:</span> <span style=\"background-color:rgba(135,206,250,0.09470487);\">mosel</span> <span style=\"background-color:rgba(135,206,250,0.020594772);\">:</span> <span style=\"background-color:rgba(135,206,250,0.13197266);\">riesling</span> <span style=\"background-color:rgba(135,206,250,0.022874253);\">:</span> <span style=\"background-color:rgba(135,206,250,0.032120045);\">while</span> <span style=\"background-color:rgba(135,206,250,0.029163443);\">intensely</span> <span style=\"background-color:rgba(135,206,250,0.044722524);\">floral</span> <span style=\"background-color:rgba(135,206,250,0.015612085);\">,</span> <span style=\"background-color:rgba(135,206,250,0.014500861);\">with</span> <span style=\"background-color:rgba(135,206,250,0.016657164);\">hints</span> <span style=\"background-color:rgba(135,206,250,0.006020714);\">of</span> <span style=\"background-color:rgba(135,206,250,0.035366844);\">honey</span> <span style=\"background-color:rgba(135,206,250,0.014496053);\">,</span> <span style=\"background-color:rgba(135,206,250,0.015128355);\">this</span> <span style=\"background-color:rgba(135,206,250,0.011197614);\">off</span> <span style=\"background-color:rgba(135,206,250,0.009102231);\">-</span> <span style=\"background-color:rgba(135,206,250,0.020577025);\">dry</span> <span style=\"background-color:rgba(135,206,250,0.033685688);\">riesling</span> <span style=\"background-color:rgba(135,206,250,0.01332144);\">is</span> <span style=\"background-color:rgba(135,206,250,0.02839298);\">chock</span> <span style=\"background-color:rgba(135,206,250,0.013336784);\">full</span> <span style=\"background-color:rgba(135,206,250,0.0071680616);\">of</span> <span style=\"background-color:rgba(135,206,250,0.02941536);\">succulent</span> <span style=\"background-color:rgba(135,206,250,0.04084803);\">pineapple</span> <span style=\"background-color:rgba(135,206,250,0.019911872);\">and</span> <span style=\"background-color:rgba(135,206,250,0.049950574);\">mango</span> <span style=\"background-color:rgba(135,206,250,0.03984069);\">flavors</span> <span style=\"background-color:rgba(135,206,250,0.05135756);\">.</span> <span style=\"background-color:rgba(135,206,250,0.025612826);\">it</span> <span style=\"background-color:rgba(135,206,250,0.009396161);\">'</span> <span style=\"background-color:rgba(135,206,250,0.033080403);\">s</span> <span style=\"background-color:rgba(135,206,250,0.048479456);\">rich</span> <span style=\"background-color:rgba(135,206,250,0.035067957);\">and</span> <span style=\"background-color:rgba(135,206,250,0.06496301);\">concentrated</span> <span style=\"background-color:rgba(135,206,250,0.054109283);\">,</span> <span style=\"background-color:rgba(135,206,250,0.068436556);\">but</span> <span style=\"background-color:rgba(135,206,250,0.21562983);\">finishes</span> <span style=\"background-color:rgba(135,206,250,0.15189523);\">with</span> <span style=\"background-color:rgba(135,206,250,0.1418081);\">a</span> <span style=\"background-color:rgba(135,206,250,1.0);\">bristle</span> <span style=\"background-color:rgba(135,206,250,0.06588585);\">of</span>"
            ]
          },
          "metadata": {}
        },
        {
          "output_type": "stream",
          "name": "stdout",
          "text": [
            "lime:   \t75.34%\n",
            "acidity:   \t6.54%\n",
            "lemon:   \t5.29%\n",
            "white:   \t2.97%\n",
            "minerality:   \t1.91%\n",
            "--------\n",
            "\n"
          ]
        },
        {
          "output_type": "display_data",
          "data": {
            "text/plain": [
              "<IPython.core.display.HTML object>"
            ],
            "text/html": [
              "<span style=\"background-color:rgba(135,206,250,0.056139436);\">wine</span> <span style=\"background-color:rgba(135,206,250,0.1249563);\">review</span> <span style=\"background-color:rgba(135,206,250,0.11688509);\">:</span> <span style=\"background-color:rgba(135,206,250,0.4352358);\">germany</span> <span style=\"background-color:rgba(135,206,250,0.08285058);\">:</span> <span style=\"background-color:rgba(135,206,250,0.09253602);\">mosel</span> <span style=\"background-color:rgba(135,206,250,0.062684625);\">:</span> <span style=\"background-color:rgba(135,206,250,0.08594659);\">riesling</span> <span style=\"background-color:rgba(135,206,250,0.055765513);\">:</span> <span style=\"background-color:rgba(135,206,250,0.05189668);\">while</span> <span style=\"background-color:rgba(135,206,250,0.04206026);\">intensely</span> <span style=\"background-color:rgba(135,206,250,0.05954283);\">floral</span> <span style=\"background-color:rgba(135,206,250,0.03321271);\">,</span> <span style=\"background-color:rgba(135,206,250,0.03394769);\">with</span> <span style=\"background-color:rgba(135,206,250,0.04374363);\">hints</span> <span style=\"background-color:rgba(135,206,250,0.027108688);\">of</span> <span style=\"background-color:rgba(135,206,250,0.050617695);\">honey</span> <span style=\"background-color:rgba(135,206,250,0.029654052);\">,</span> <span style=\"background-color:rgba(135,206,250,0.021577336);\">this</span> <span style=\"background-color:rgba(135,206,250,0.025566794);\">off</span> <span style=\"background-color:rgba(135,206,250,0.017727628);\">-</span> <span style=\"background-color:rgba(135,206,250,0.032798875);\">dry</span> <span style=\"background-color:rgba(135,206,250,0.034699645);\">riesling</span> <span style=\"background-color:rgba(135,206,250,0.022152329);\">is</span> <span style=\"background-color:rgba(135,206,250,0.069454506);\">chock</span> <span style=\"background-color:rgba(135,206,250,0.031932563);\">full</span> <span style=\"background-color:rgba(135,206,250,0.0327733);\">of</span> <span style=\"background-color:rgba(135,206,250,0.053098854);\">succulent</span> <span style=\"background-color:rgba(135,206,250,0.045582786);\">pineapple</span> <span style=\"background-color:rgba(135,206,250,0.033889037);\">and</span> <span style=\"background-color:rgba(135,206,250,0.06577346);\">mango</span> <span style=\"background-color:rgba(135,206,250,0.14921346);\">flavors</span> <span style=\"background-color:rgba(135,206,250,0.11923559);\">.</span> <span style=\"background-color:rgba(135,206,250,0.03760955);\">it</span> <span style=\"background-color:rgba(135,206,250,0.01961341);\">'</span> <span style=\"background-color:rgba(135,206,250,0.07967639);\">s</span> <span style=\"background-color:rgba(135,206,250,0.07626267);\">rich</span> <span style=\"background-color:rgba(135,206,250,0.0682194);\">and</span> <span style=\"background-color:rgba(135,206,250,0.1264538);\">concentrated</span> <span style=\"background-color:rgba(135,206,250,0.112515554);\">,</span> <span style=\"background-color:rgba(135,206,250,0.15182064);\">but</span> <span style=\"background-color:rgba(135,206,250,0.4949236);\">finishes</span> <span style=\"background-color:rgba(135,206,250,0.39019313);\">with</span> <span style=\"background-color:rgba(135,206,250,0.49186918);\">a</span> <span style=\"background-color:rgba(135,206,250,1.0);\">bristle</span> <span style=\"background-color:rgba(135,206,250,0.42452842);\">of</span> <span style=\"background-color:rgba(135,206,250,0.19880183);\">lemon</span>"
            ]
          },
          "metadata": {}
        },
        {
          "output_type": "stream",
          "name": "stdout",
          "text": [
            "-:   \t81.58%\n",
            "zest:   \t13.46%\n",
            "acidity:   \t2.74%\n",
            "astringency:   \t0.9%\n",
            "pith:   \t0.29%\n",
            "--------\n",
            "\n"
          ]
        },
        {
          "output_type": "display_data",
          "data": {
            "text/plain": [
              "<IPython.core.display.HTML object>"
            ],
            "text/html": [
              "<span style=\"background-color:rgba(135,206,250,0.03350236);\">wine</span> <span style=\"background-color:rgba(135,206,250,0.06725214);\">review</span> <span style=\"background-color:rgba(135,206,250,0.025828414);\">:</span> <span style=\"background-color:rgba(135,206,250,0.13334693);\">germany</span> <span style=\"background-color:rgba(135,206,250,0.026738442);\">:</span> <span style=\"background-color:rgba(135,206,250,0.05606912);\">mosel</span> <span style=\"background-color:rgba(135,206,250,0.019710023);\">:</span> <span style=\"background-color:rgba(135,206,250,0.082252294);\">riesling</span> <span style=\"background-color:rgba(135,206,250,0.024394466);\">:</span> <span style=\"background-color:rgba(135,206,250,0.020099562);\">while</span> <span style=\"background-color:rgba(135,206,250,0.019314144);\">intensely</span> <span style=\"background-color:rgba(135,206,250,0.01880518);\">floral</span> <span style=\"background-color:rgba(135,206,250,0.012888769);\">,</span> <span style=\"background-color:rgba(135,206,250,0.0175631);\">with</span> <span style=\"background-color:rgba(135,206,250,0.015643734);\">hints</span> <span style=\"background-color:rgba(135,206,250,0.010930066);\">of</span> <span style=\"background-color:rgba(135,206,250,0.025536142);\">honey</span> <span style=\"background-color:rgba(135,206,250,0.012216733);\">,</span> <span style=\"background-color:rgba(135,206,250,0.010882123);\">this</span> <span style=\"background-color:rgba(135,206,250,0.013586963);\">off</span> <span style=\"background-color:rgba(135,206,250,0.007853964);\">-</span> <span style=\"background-color:rgba(135,206,250,0.012700609);\">dry</span> <span style=\"background-color:rgba(135,206,250,0.027969489);\">riesling</span> <span style=\"background-color:rgba(135,206,250,0.015686128);\">is</span> <span style=\"background-color:rgba(135,206,250,0.040709075);\">chock</span> <span style=\"background-color:rgba(135,206,250,0.014043262);\">full</span> <span style=\"background-color:rgba(135,206,250,0.01282112);\">of</span> <span style=\"background-color:rgba(135,206,250,0.019611059);\">succulent</span> <span style=\"background-color:rgba(135,206,250,0.02611084);\">pineapple</span> <span style=\"background-color:rgba(135,206,250,0.02856743);\">and</span> <span style=\"background-color:rgba(135,206,250,0.029772107);\">mango</span> <span style=\"background-color:rgba(135,206,250,0.043933064);\">flavors</span> <span style=\"background-color:rgba(135,206,250,0.04656851);\">.</span> <span style=\"background-color:rgba(135,206,250,0.021884797);\">it</span> <span style=\"background-color:rgba(135,206,250,0.008815861);\">'</span> <span style=\"background-color:rgba(135,206,250,0.030861158);\">s</span> <span style=\"background-color:rgba(135,206,250,0.023940029);\">rich</span> <span style=\"background-color:rgba(135,206,250,0.04005604);\">and</span> <span style=\"background-color:rgba(135,206,250,0.03737198);\">concentrated</span> <span style=\"background-color:rgba(135,206,250,0.031171722);\">,</span> <span style=\"background-color:rgba(135,206,250,0.049366675);\">but</span> <span style=\"background-color:rgba(135,206,250,0.10471386);\">finishes</span> <span style=\"background-color:rgba(135,206,250,0.07436704);\">with</span> <span style=\"background-color:rgba(135,206,250,0.059561808);\">a</span> <span style=\"background-color:rgba(135,206,250,0.28696248);\">bristle</span> <span style=\"background-color:rgba(135,206,250,0.13932016);\">of</span> <span style=\"background-color:rgba(135,206,250,1.0);\">lemon</span> <span style=\"background-color:rgba(135,206,250,0.0401418);\">-</span>"
            ]
          },
          "metadata": {}
        },
        {
          "output_type": "stream",
          "name": "stdout",
          "text": [
            "lime:   \t99.84%\n",
            "zest:   \t0.08%\n",
            "tea:   \t0.04%\n",
            "rind:   \t0.02%\n",
            "skin:   \t0.01%\n",
            "--------\n",
            "\n"
          ]
        },
        {
          "output_type": "display_data",
          "data": {
            "text/plain": [
              "<IPython.core.display.HTML object>"
            ],
            "text/html": [
              "<span style=\"background-color:rgba(135,206,250,0.043957613);\">wine</span> <span style=\"background-color:rgba(135,206,250,0.11017933);\">review</span> <span style=\"background-color:rgba(135,206,250,0.09617596);\">:</span> <span style=\"background-color:rgba(135,206,250,0.38317838);\">germany</span> <span style=\"background-color:rgba(135,206,250,0.078841574);\">:</span> <span style=\"background-color:rgba(135,206,250,0.08449113);\">mosel</span> <span style=\"background-color:rgba(135,206,250,0.055565197);\">:</span> <span style=\"background-color:rgba(135,206,250,0.072409414);\">riesling</span> <span style=\"background-color:rgba(135,206,250,0.054528542);\">:</span> <span style=\"background-color:rgba(135,206,250,0.065217964);\">while</span> <span style=\"background-color:rgba(135,206,250,0.05011658);\">intensely</span> <span style=\"background-color:rgba(135,206,250,0.050667055);\">floral</span> <span style=\"background-color:rgba(135,206,250,0.03216197);\">,</span> <span style=\"background-color:rgba(135,206,250,0.04131883);\">with</span> <span style=\"background-color:rgba(135,206,250,0.057487946);\">hints</span> <span style=\"background-color:rgba(135,206,250,0.029157627);\">of</span> <span style=\"background-color:rgba(135,206,250,0.046638016);\">honey</span> <span style=\"background-color:rgba(135,206,250,0.028387072);\">,</span> <span style=\"background-color:rgba(135,206,250,0.033164904);\">this</span> <span style=\"background-color:rgba(135,206,250,0.024087748);\">off</span> <span style=\"background-color:rgba(135,206,250,0.017108249);\">-</span> <span style=\"background-color:rgba(135,206,250,0.036386605);\">dry</span> <span style=\"background-color:rgba(135,206,250,0.033836633);\">riesling</span> <span style=\"background-color:rgba(135,206,250,0.032211978);\">is</span> <span style=\"background-color:rgba(135,206,250,0.0740216);\">chock</span> <span style=\"background-color:rgba(135,206,250,0.042886734);\">full</span> <span style=\"background-color:rgba(135,206,250,0.037285022);\">of</span> <span style=\"background-color:rgba(135,206,250,0.051671885);\">succulent</span> <span style=\"background-color:rgba(135,206,250,0.05531687);\">pineapple</span> <span style=\"background-color:rgba(135,206,250,0.03893305);\">and</span> <span style=\"background-color:rgba(135,206,250,0.06598023);\">mango</span> <span style=\"background-color:rgba(135,206,250,0.15692648);\">flavors</span> <span style=\"background-color:rgba(135,206,250,0.16563135);\">.</span> <span style=\"background-color:rgba(135,206,250,0.064196974);\">it</span> <span style=\"background-color:rgba(135,206,250,0.023272693);\">'</span> <span style=\"background-color:rgba(135,206,250,0.10593906);\">s</span> <span style=\"background-color:rgba(135,206,250,0.08234735);\">rich</span> <span style=\"background-color:rgba(135,206,250,0.07415423);\">and</span> <span style=\"background-color:rgba(135,206,250,0.12717181);\">concentrated</span> <span style=\"background-color:rgba(135,206,250,0.10636197);\">,</span> <span style=\"background-color:rgba(135,206,250,0.20426264);\">but</span> <span style=\"background-color:rgba(135,206,250,0.6152841);\">finishes</span> <span style=\"background-color:rgba(135,206,250,0.39739662);\">with</span> <span style=\"background-color:rgba(135,206,250,0.51213837);\">a</span> <span style=\"background-color:rgba(135,206,250,1.0);\">bristle</span> <span style=\"background-color:rgba(135,206,250,0.49610195);\">of</span> <span style=\"background-color:rgba(135,206,250,0.2422582);\">lemon</span> <span style=\"background-color:rgba(135,206,250,0.5194834);\">-</span> <span style=\"background-color:rgba(135,206,250,0.37667426);\">lime</span>"
            ]
          },
          "metadata": {}
        },
        {
          "output_type": "stream",
          "name": "stdout",
          "text": [
            "acidity:   \t99.55%\n",
            "zest:   \t0.26%\n",
            "astringency:   \t0.08%\n",
            "-:   \t0.05%\n",
            "notes:   \t0.02%\n",
            "--------\n",
            "\n"
          ]
        },
        {
          "output_type": "display_data",
          "data": {
            "text/plain": [
              "<IPython.core.display.HTML object>"
            ],
            "text/html": [
              "<span style=\"background-color:rgba(135,206,250,0.05582156);\">wine</span> <span style=\"background-color:rgba(135,206,250,0.14657141);\">review</span> <span style=\"background-color:rgba(135,206,250,0.226752);\">:</span> <span style=\"background-color:rgba(135,206,250,0.53311914);\">germany</span> <span style=\"background-color:rgba(135,206,250,0.17172836);\">:</span> <span style=\"background-color:rgba(135,206,250,0.096982226);\">mosel</span> <span style=\"background-color:rgba(135,206,250,0.0915163);\">:</span> <span style=\"background-color:rgba(135,206,250,0.122509055);\">riesling</span> <span style=\"background-color:rgba(135,206,250,0.10500101);\">:</span> <span style=\"background-color:rgba(135,206,250,0.14064115);\">while</span> <span style=\"background-color:rgba(135,206,250,0.05875381);\">intensely</span> <span style=\"background-color:rgba(135,206,250,0.06497668);\">floral</span> <span style=\"background-color:rgba(135,206,250,0.035018157);\">,</span> <span style=\"background-color:rgba(135,206,250,0.08329107);\">with</span> <span style=\"background-color:rgba(135,206,250,0.06818973);\">hints</span> <span style=\"background-color:rgba(135,206,250,0.025105564);\">of</span> <span style=\"background-color:rgba(135,206,250,0.04831888);\">honey</span> <span style=\"background-color:rgba(135,206,250,0.027280375);\">,</span> <span style=\"background-color:rgba(135,206,250,0.036676385);\">this</span> <span style=\"background-color:rgba(135,206,250,0.030694911);\">off</span> <span style=\"background-color:rgba(135,206,250,0.021013446);\">-</span> <span style=\"background-color:rgba(135,206,250,0.031608198);\">dry</span> <span style=\"background-color:rgba(135,206,250,0.05149202);\">riesling</span> <span style=\"background-color:rgba(135,206,250,0.05651193);\">is</span> <span style=\"background-color:rgba(135,206,250,0.1348665);\">chock</span> <span style=\"background-color:rgba(135,206,250,0.055652007);\">full</span> <span style=\"background-color:rgba(135,206,250,0.03447903);\">of</span> <span style=\"background-color:rgba(135,206,250,0.051707897);\">succulent</span> <span style=\"background-color:rgba(135,206,250,0.06028322);\">pineapple</span> <span style=\"background-color:rgba(135,206,250,0.04682334);\">and</span> <span style=\"background-color:rgba(135,206,250,0.0910544);\">mango</span> <span style=\"background-color:rgba(135,206,250,0.123501636);\">flavors</span> <span style=\"background-color:rgba(135,206,250,0.2653183);\">.</span> <span style=\"background-color:rgba(135,206,250,0.13358371);\">it</span> <span style=\"background-color:rgba(135,206,250,0.028685082);\">'</span> <span style=\"background-color:rgba(135,206,250,0.14348152);\">s</span> <span style=\"background-color:rgba(135,206,250,0.10517362);\">rich</span> <span style=\"background-color:rgba(135,206,250,0.12263904);\">and</span> <span style=\"background-color:rgba(135,206,250,0.13362071);\">concentrated</span> <span style=\"background-color:rgba(135,206,250,0.19001429);\">,</span> <span style=\"background-color:rgba(135,206,250,0.38160083);\">but</span> <span style=\"background-color:rgba(135,206,250,1.0);\">finishes</span> <span style=\"background-color:rgba(135,206,250,0.7643794);\">with</span> <span style=\"background-color:rgba(135,206,250,0.3956568);\">a</span> <span style=\"background-color:rgba(135,206,250,0.90097725);\">bristle</span> <span style=\"background-color:rgba(135,206,250,0.5351386);\">of</span> <span style=\"background-color:rgba(135,206,250,0.4058352);\">lemon</span> <span style=\"background-color:rgba(135,206,250,0.44484508);\">-</span> <span style=\"background-color:rgba(135,206,250,0.6848429);\">lime</span> <span style=\"background-color:rgba(135,206,250,0.8026217);\">acidity</span>"
            ]
          },
          "metadata": {}
        },
        {
          "output_type": "stream",
          "name": "stdout",
          "text": [
            ".:   \t99.49%\n",
            "that:   \t0.41%\n",
            "and:   \t0.09%\n",
            ",:   \t0.01%\n",
            "on:   \t0.0%\n",
            "--------\n",
            "\n"
          ]
        },
        {
          "output_type": "display_data",
          "data": {
            "text/plain": [
              "<IPython.core.display.HTML object>"
            ],
            "text/html": [
              "<span style=\"background-color:rgba(135,206,250,0.04017626);\">wine</span> <span style=\"background-color:rgba(135,206,250,0.17810471);\">review</span> <span style=\"background-color:rgba(135,206,250,0.26670635);\">:</span> <span style=\"background-color:rgba(135,206,250,1.0);\">germany</span> <span style=\"background-color:rgba(135,206,250,0.22333391);\">:</span> <span style=\"background-color:rgba(135,206,250,0.21298473);\">mosel</span> <span style=\"background-color:rgba(135,206,250,0.21236649);\">:</span> <span style=\"background-color:rgba(135,206,250,0.23416367);\">riesling</span> <span style=\"background-color:rgba(135,206,250,0.10734818);\">:</span> <span style=\"background-color:rgba(135,206,250,0.048606414);\">while</span> <span style=\"background-color:rgba(135,206,250,0.057995725);\">intensely</span> <span style=\"background-color:rgba(135,206,250,0.04555607);\">floral</span> <span style=\"background-color:rgba(135,206,250,0.029060997);\">,</span> <span style=\"background-color:rgba(135,206,250,0.03392303);\">with</span> <span style=\"background-color:rgba(135,206,250,0.0472591);\">hints</span> <span style=\"background-color:rgba(135,206,250,0.016580606);\">of</span> <span style=\"background-color:rgba(135,206,250,0.050973985);\">honey</span> <span style=\"background-color:rgba(135,206,250,0.023568876);\">,</span> <span style=\"background-color:rgba(135,206,250,0.044490095);\">this</span> <span style=\"background-color:rgba(135,206,250,0.0232468);\">off</span> <span style=\"background-color:rgba(135,206,250,0.014855949);\">-</span> <span style=\"background-color:rgba(135,206,250,0.03261615);\">dry</span> <span style=\"background-color:rgba(135,206,250,0.03877025);\">riesling</span> <span style=\"background-color:rgba(135,206,250,0.03102783);\">is</span> <span style=\"background-color:rgba(135,206,250,0.06675886);\">chock</span> <span style=\"background-color:rgba(135,206,250,0.031479873);\">full</span> <span style=\"background-color:rgba(135,206,250,0.018074142);\">of</span> <span style=\"background-color:rgba(135,206,250,0.043436736);\">succulent</span> <span style=\"background-color:rgba(135,206,250,0.04845884);\">pineapple</span> <span style=\"background-color:rgba(135,206,250,0.025690125);\">and</span> <span style=\"background-color:rgba(135,206,250,0.04870333);\">mango</span> <span style=\"background-color:rgba(135,206,250,0.08158507);\">flavors</span> <span style=\"background-color:rgba(135,206,250,0.07579334);\">.</span> <span style=\"background-color:rgba(135,206,250,0.03146543);\">it</span> <span style=\"background-color:rgba(135,206,250,0.013314231);\">'</span> <span style=\"background-color:rgba(135,206,250,0.03786372);\">s</span> <span style=\"background-color:rgba(135,206,250,0.052342255);\">rich</span> <span style=\"background-color:rgba(135,206,250,0.03607043);\">and</span> <span style=\"background-color:rgba(135,206,250,0.056965917);\">concentrated</span> <span style=\"background-color:rgba(135,206,250,0.047984727);\">,</span> <span style=\"background-color:rgba(135,206,250,0.07522904);\">but</span> <span style=\"background-color:rgba(135,206,250,0.34024277);\">finishes</span> <span style=\"background-color:rgba(135,206,250,0.08998236);\">with</span> <span style=\"background-color:rgba(135,206,250,0.06684426);\">a</span> <span style=\"background-color:rgba(135,206,250,0.30213937);\">bristle</span> <span style=\"background-color:rgba(135,206,250,0.067684196);\">of</span> <span style=\"background-color:rgba(135,206,250,0.14325893);\">lemon</span> <span style=\"background-color:rgba(135,206,250,0.068027765);\">-</span> <span style=\"background-color:rgba(135,206,250,0.22497481);\">lime</span> <span style=\"background-color:rgba(135,206,250,0.27334312);\">acidity</span> <span style=\"background-color:rgba(135,206,250,0.39024076);\">.</span>"
            ]
          },
          "metadata": {}
        },
        {
          "output_type": "stream",
          "name": "stdout",
          "text": [
            ":   \t56.14%\n",
            "drink:   \t37.47%\n",
            "it:   \t4.21%\n",
            "drinks:   \t1.44%\n",
            "the:   \t0.33%\n",
            "--------\n",
            "\n"
          ]
        },
        {
          "output_type": "display_data",
          "data": {
            "text/plain": [
              "<IPython.core.display.HTML object>"
            ],
            "text/html": [
              "<span style=\"background-color:rgba(135,206,250,0.03469771);\">wine</span> <span style=\"background-color:rgba(135,206,250,0.068012536);\">review</span> <span style=\"background-color:rgba(135,206,250,0.08804176);\">:</span> <span style=\"background-color:rgba(135,206,250,0.35748795);\">germany</span> <span style=\"background-color:rgba(135,206,250,0.07143724);\">:</span> <span style=\"background-color:rgba(135,206,250,0.1421564);\">mosel</span> <span style=\"background-color:rgba(135,206,250,0.04679956);\">:</span> <span style=\"background-color:rgba(135,206,250,0.0980995);\">riesling</span> <span style=\"background-color:rgba(135,206,250,0.046921756);\">:</span> <span style=\"background-color:rgba(135,206,250,0.042213254);\">while</span> <span style=\"background-color:rgba(135,206,250,0.080758095);\">intensely</span> <span style=\"background-color:rgba(135,206,250,0.033508755);\">floral</span> <span style=\"background-color:rgba(135,206,250,0.02190354);\">,</span> <span style=\"background-color:rgba(135,206,250,0.03389311);\">with</span> <span style=\"background-color:rgba(135,206,250,0.03460829);\">hints</span> <span style=\"background-color:rgba(135,206,250,0.01679039);\">of</span> <span style=\"background-color:rgba(135,206,250,0.025979532);\">honey</span> <span style=\"background-color:rgba(135,206,250,0.017860187);\">,</span> <span style=\"background-color:rgba(135,206,250,0.016226195);\">this</span> <span style=\"background-color:rgba(135,206,250,0.030603666);\">off</span> <span style=\"background-color:rgba(135,206,250,0.008082302);\">-</span> <span style=\"background-color:rgba(135,206,250,0.027086604);\">dry</span> <span style=\"background-color:rgba(135,206,250,0.02577557);\">riesling</span> <span style=\"background-color:rgba(135,206,250,0.019555612);\">is</span> <span style=\"background-color:rgba(135,206,250,0.03862235);\">chock</span> <span style=\"background-color:rgba(135,206,250,0.029115103);\">full</span> <span style=\"background-color:rgba(135,206,250,0.017025145);\">of</span> <span style=\"background-color:rgba(135,206,250,0.03810721);\">succulent</span> <span style=\"background-color:rgba(135,206,250,0.027115375);\">pineapple</span> <span style=\"background-color:rgba(135,206,250,0.028329086);\">and</span> <span style=\"background-color:rgba(135,206,250,0.03978576);\">mango</span> <span style=\"background-color:rgba(135,206,250,0.0355562);\">flavors</span> <span style=\"background-color:rgba(135,206,250,0.057748556);\">.</span> <span style=\"background-color:rgba(135,206,250,0.029845007);\">it</span> <span style=\"background-color:rgba(135,206,250,0.014925408);\">'</span> <span style=\"background-color:rgba(135,206,250,0.04503159);\">s</span> <span style=\"background-color:rgba(135,206,250,0.043756373);\">rich</span> <span style=\"background-color:rgba(135,206,250,0.043349467);\">and</span> <span style=\"background-color:rgba(135,206,250,0.06463508);\">concentrated</span> <span style=\"background-color:rgba(135,206,250,0.049441803);\">,</span> <span style=\"background-color:rgba(135,206,250,0.06782238);\">but</span> <span style=\"background-color:rgba(135,206,250,0.09381441);\">finishes</span> <span style=\"background-color:rgba(135,206,250,0.10748335);\">with</span> <span style=\"background-color:rgba(135,206,250,0.0888925);\">a</span> <span style=\"background-color:rgba(135,206,250,0.1515882);\">bristle</span> <span style=\"background-color:rgba(135,206,250,0.07448926);\">of</span> <span style=\"background-color:rgba(135,206,250,0.13565394);\">lemon</span> <span style=\"background-color:rgba(135,206,250,0.11861123);\">-</span> <span style=\"background-color:rgba(135,206,250,0.21082222);\">lime</span> <span style=\"background-color:rgba(135,206,250,0.37901974);\">acidity</span> <span style=\"background-color:rgba(135,206,250,1.0);\">.</span> <span style=\"background-color:rgba(135,206,250,0.17463413);\">drink</span>"
            ]
          },
          "metadata": {}
        },
        {
          "output_type": "stream",
          "name": "stdout",
          "text": [
            "now:   \t99.98%\n",
            "now–2015:   \t0.01%\n",
            "now–2017:   \t0.0%\n",
            "now–2016:   \t0.0%\n",
            "now–2020:   \t0.0%\n",
            "--------\n",
            "\n"
          ]
        },
        {
          "output_type": "display_data",
          "data": {
            "text/plain": [
              "<IPython.core.display.HTML object>"
            ],
            "text/html": [
              "<span style=\"background-color:rgba(135,206,250,0.034008678);\">wine</span> <span style=\"background-color:rgba(135,206,250,0.05800106);\">review</span> <span style=\"background-color:rgba(135,206,250,0.052225143);\">:</span> <span style=\"background-color:rgba(135,206,250,0.21900348);\">germany</span> <span style=\"background-color:rgba(135,206,250,0.0552339);\">:</span> <span style=\"background-color:rgba(135,206,250,0.07836105);\">mosel</span> <span style=\"background-color:rgba(135,206,250,0.042399965);\">:</span> <span style=\"background-color:rgba(135,206,250,0.059371587);\">riesling</span> <span style=\"background-color:rgba(135,206,250,0.054101836);\">:</span> <span style=\"background-color:rgba(135,206,250,0.055862885);\">while</span> <span style=\"background-color:rgba(135,206,250,0.06386041);\">intensely</span> <span style=\"background-color:rgba(135,206,250,0.041613616);\">floral</span> <span style=\"background-color:rgba(135,206,250,0.021480188);\">,</span> <span style=\"background-color:rgba(135,206,250,0.022037433);\">with</span> <span style=\"background-color:rgba(135,206,250,0.03254517);\">hints</span> <span style=\"background-color:rgba(135,206,250,0.019070022);\">of</span> <span style=\"background-color:rgba(135,206,250,0.034655254);\">honey</span> <span style=\"background-color:rgba(135,206,250,0.018560017);\">,</span> <span style=\"background-color:rgba(135,206,250,0.01203759);\">this</span> <span style=\"background-color:rgba(135,206,250,0.038395006);\">off</span> <span style=\"background-color:rgba(135,206,250,0.010450005);\">-</span> <span style=\"background-color:rgba(135,206,250,0.028432535);\">dry</span> <span style=\"background-color:rgba(135,206,250,0.021522334);\">riesling</span> <span style=\"background-color:rgba(135,206,250,0.020622477);\">is</span> <span style=\"background-color:rgba(135,206,250,0.027366327);\">chock</span> <span style=\"background-color:rgba(135,206,250,0.02304385);\">full</span> <span style=\"background-color:rgba(135,206,250,0.019007869);\">of</span> <span style=\"background-color:rgba(135,206,250,0.051566377);\">succulent</span> <span style=\"background-color:rgba(135,206,250,0.025509251);\">pineapple</span> <span style=\"background-color:rgba(135,206,250,0.023401747);\">and</span> <span style=\"background-color:rgba(135,206,250,0.0456483);\">mango</span> <span style=\"background-color:rgba(135,206,250,0.033121485);\">flavors</span> <span style=\"background-color:rgba(135,206,250,0.056802385);\">.</span> <span style=\"background-color:rgba(135,206,250,0.024806153);\">it</span> <span style=\"background-color:rgba(135,206,250,0.013891135);\">'</span> <span style=\"background-color:rgba(135,206,250,0.04317587);\">s</span> <span style=\"background-color:rgba(135,206,250,0.040430523);\">rich</span> <span style=\"background-color:rgba(135,206,250,0.030675182);\">and</span> <span style=\"background-color:rgba(135,206,250,0.064345695);\">concentrated</span> <span style=\"background-color:rgba(135,206,250,0.035357416);\">,</span> <span style=\"background-color:rgba(135,206,250,0.067146376);\">but</span> <span style=\"background-color:rgba(135,206,250,0.06496405);\">finishes</span> <span style=\"background-color:rgba(135,206,250,0.05493101);\">with</span> <span style=\"background-color:rgba(135,206,250,0.047830738);\">a</span> <span style=\"background-color:rgba(135,206,250,0.118317574);\">bristle</span> <span style=\"background-color:rgba(135,206,250,0.06300002);\">of</span> <span style=\"background-color:rgba(135,206,250,0.072229765);\">lemon</span> <span style=\"background-color:rgba(135,206,250,0.10641462);\">-</span> <span style=\"background-color:rgba(135,206,250,0.11598976);\">lime</span> <span style=\"background-color:rgba(135,206,250,0.19176659);\">acidity</span> <span style=\"background-color:rgba(135,206,250,0.72049683);\">.</span> <span style=\"background-color:rgba(135,206,250,1.0);\">drink</span> <span style=\"background-color:rgba(135,206,250,0.16119984);\">now</span>"
            ]
          },
          "metadata": {}
        },
        {
          "output_type": "stream",
          "name": "stdout",
          "text": [
            "through:   \t94.89%\n",
            ".:   \t4.79%\n",
            "for:   \t0.08%\n",
            ",:   \t0.08%\n",
            "and:   \t0.07%\n",
            "--------\n",
            "\n"
          ]
        },
        {
          "output_type": "display_data",
          "data": {
            "text/plain": [
              "<IPython.core.display.HTML object>"
            ],
            "text/html": [
              "<span style=\"background-color:rgba(135,206,250,0.06923634);\">wine</span> <span style=\"background-color:rgba(135,206,250,0.17729291);\">review</span> <span style=\"background-color:rgba(135,206,250,0.13897242);\">:</span> <span style=\"background-color:rgba(135,206,250,0.5778077);\">germany</span> <span style=\"background-color:rgba(135,206,250,0.13380934);\">:</span> <span style=\"background-color:rgba(135,206,250,0.17693709);\">mosel</span> <span style=\"background-color:rgba(135,206,250,0.09119667);\">:</span> <span style=\"background-color:rgba(135,206,250,0.13621444);\">riesling</span> <span style=\"background-color:rgba(135,206,250,0.07567634);\">:</span> <span style=\"background-color:rgba(135,206,250,0.05113808);\">while</span> <span style=\"background-color:rgba(135,206,250,0.07475682);\">intensely</span> <span style=\"background-color:rgba(135,206,250,0.04537311);\">floral</span> <span style=\"background-color:rgba(135,206,250,0.03832196);\">,</span> <span style=\"background-color:rgba(135,206,250,0.052730978);\">with</span> <span style=\"background-color:rgba(135,206,250,0.06514771);\">hints</span> <span style=\"background-color:rgba(135,206,250,0.029082907);\">of</span> <span style=\"background-color:rgba(135,206,250,0.045578707);\">honey</span> <span style=\"background-color:rgba(135,206,250,0.03169702);\">,</span> <span style=\"background-color:rgba(135,206,250,0.042210225);\">this</span> <span style=\"background-color:rgba(135,206,250,0.027841948);\">off</span> <span style=\"background-color:rgba(135,206,250,0.014415744);\">-</span> <span style=\"background-color:rgba(135,206,250,0.032773323);\">dry</span> <span style=\"background-color:rgba(135,206,250,0.04032467);\">riesling</span> <span style=\"background-color:rgba(135,206,250,0.032727823);\">is</span> <span style=\"background-color:rgba(135,206,250,0.069714576);\">chock</span> <span style=\"background-color:rgba(135,206,250,0.03212977);\">full</span> <span style=\"background-color:rgba(135,206,250,0.033491343);\">of</span> <span style=\"background-color:rgba(135,206,250,0.055613324);\">succulent</span> <span style=\"background-color:rgba(135,206,250,0.0436736);\">pineapple</span> <span style=\"background-color:rgba(135,206,250,0.048261456);\">and</span> <span style=\"background-color:rgba(135,206,250,0.051294994);\">mango</span> <span style=\"background-color:rgba(135,206,250,0.085151926);\">flavors</span> <span style=\"background-color:rgba(135,206,250,0.11183758);\">.</span> <span style=\"background-color:rgba(135,206,250,0.042865727);\">it</span> <span style=\"background-color:rgba(135,206,250,0.018295389);\">'</span> <span style=\"background-color:rgba(135,206,250,0.051008813);\">s</span> <span style=\"background-color:rgba(135,206,250,0.06389292);\">rich</span> <span style=\"background-color:rgba(135,206,250,0.06955131);\">and</span> <span style=\"background-color:rgba(135,206,250,0.087406084);\">concentrated</span> <span style=\"background-color:rgba(135,206,250,0.070512176);\">,</span> <span style=\"background-color:rgba(135,206,250,0.13251366);\">but</span> <span style=\"background-color:rgba(135,206,250,0.28831792);\">finishes</span> <span style=\"background-color:rgba(135,206,250,0.11802995);\">with</span> <span style=\"background-color:rgba(135,206,250,0.08016693);\">a</span> <span style=\"background-color:rgba(135,206,250,0.2672934);\">bristle</span> <span style=\"background-color:rgba(135,206,250,0.10459612);\">of</span> <span style=\"background-color:rgba(135,206,250,0.18607628);\">lemon</span> <span style=\"background-color:rgba(135,206,250,0.075136825);\">-</span> <span style=\"background-color:rgba(135,206,250,0.21646187);\">lime</span> <span style=\"background-color:rgba(135,206,250,0.32669592);\">acidity</span> <span style=\"background-color:rgba(135,206,250,0.915626);\">.</span> <span style=\"background-color:rgba(135,206,250,0.5998063);\">drink</span> <span style=\"background-color:rgba(135,206,250,1.0);\">now</span> <span style=\"background-color:rgba(135,206,250,0.27328447);\">through</span>"
            ]
          },
          "metadata": {}
        },
        {
          "output_type": "stream",
          "name": "stdout",
          "text": [
            "2021:   \t49.78%\n",
            "2020:   \t45.07%\n",
            "2018:   \t2.15%\n",
            "2019:   \t1.34%\n",
            "2025:   \t0.94%\n",
            "--------\n",
            "\n"
          ]
        },
        {
          "output_type": "display_data",
          "data": {
            "text/plain": [
              "<IPython.core.display.HTML object>"
            ],
            "text/html": [
              "<span style=\"background-color:rgba(135,206,250,0.060901787);\">wine</span> <span style=\"background-color:rgba(135,206,250,0.13875645);\">review</span> <span style=\"background-color:rgba(135,206,250,0.09702884);\">:</span> <span style=\"background-color:rgba(135,206,250,0.34401593);\">germany</span> <span style=\"background-color:rgba(135,206,250,0.112552345);\">:</span> <span style=\"background-color:rgba(135,206,250,0.11522562);\">mosel</span> <span style=\"background-color:rgba(135,206,250,0.06470918);\">:</span> <span style=\"background-color:rgba(135,206,250,0.095394365);\">riesling</span> <span style=\"background-color:rgba(135,206,250,0.08957007);\">:</span> <span style=\"background-color:rgba(135,206,250,0.087605834);\">while</span> <span style=\"background-color:rgba(135,206,250,0.04402487);\">intensely</span> <span style=\"background-color:rgba(135,206,250,0.022983307);\">floral</span> <span style=\"background-color:rgba(135,206,250,0.027613163);\">,</span> <span style=\"background-color:rgba(135,206,250,0.03555469);\">with</span> <span style=\"background-color:rgba(135,206,250,0.041306566);\">hints</span> <span style=\"background-color:rgba(135,206,250,0.026914828);\">of</span> <span style=\"background-color:rgba(135,206,250,0.02450112);\">honey</span> <span style=\"background-color:rgba(135,206,250,0.019815875);\">,</span> <span style=\"background-color:rgba(135,206,250,0.012299951);\">this</span> <span style=\"background-color:rgba(135,206,250,0.035725985);\">off</span> <span style=\"background-color:rgba(135,206,250,0.0064361286);\">-</span> <span style=\"background-color:rgba(135,206,250,0.014078283);\">dry</span> <span style=\"background-color:rgba(135,206,250,0.020084906);\">riesling</span> <span style=\"background-color:rgba(135,206,250,0.0290137);\">is</span> <span style=\"background-color:rgba(135,206,250,0.061061915);\">chock</span> <span style=\"background-color:rgba(135,206,250,0.017568804);\">full</span> <span style=\"background-color:rgba(135,206,250,0.023075368);\">of</span> <span style=\"background-color:rgba(135,206,250,0.025058901);\">succulent</span> <span style=\"background-color:rgba(135,206,250,0.01625608);\">pineapple</span> <span style=\"background-color:rgba(135,206,250,0.03159902);\">and</span> <span style=\"background-color:rgba(135,206,250,0.023682449);\">mango</span> <span style=\"background-color:rgba(135,206,250,0.03566216);\">flavors</span> <span style=\"background-color:rgba(135,206,250,0.07624139);\">.</span> <span style=\"background-color:rgba(135,206,250,0.035860404);\">it</span> <span style=\"background-color:rgba(135,206,250,0.010847707);\">'</span> <span style=\"background-color:rgba(135,206,250,0.040553268);\">s</span> <span style=\"background-color:rgba(135,206,250,0.021666404);\">rich</span> <span style=\"background-color:rgba(135,206,250,0.04595564);\">and</span> <span style=\"background-color:rgba(135,206,250,0.034098882);\">concentrated</span> <span style=\"background-color:rgba(135,206,250,0.043729417);\">,</span> <span style=\"background-color:rgba(135,206,250,0.08184204);\">but</span> <span style=\"background-color:rgba(135,206,250,0.10282177);\">finishes</span> <span style=\"background-color:rgba(135,206,250,0.10144395);\">with</span> <span style=\"background-color:rgba(135,206,250,0.0639964);\">a</span> <span style=\"background-color:rgba(135,206,250,0.13572907);\">bristle</span> <span style=\"background-color:rgba(135,206,250,0.0899783);\">of</span> <span style=\"background-color:rgba(135,206,250,0.04717348);\">lemon</span> <span style=\"background-color:rgba(135,206,250,0.04395993);\">-</span> <span style=\"background-color:rgba(135,206,250,0.07774172);\">lime</span> <span style=\"background-color:rgba(135,206,250,0.14894035);\">acidity</span> <span style=\"background-color:rgba(135,206,250,0.708705);\">.</span> <span style=\"background-color:rgba(135,206,250,0.5582083);\">drink</span> <span style=\"background-color:rgba(135,206,250,0.15226588);\">now</span> <span style=\"background-color:rgba(135,206,250,1.0);\">through</span> <span style=\"background-color:rgba(135,206,250,0.12922326);\">2020</span>"
            ]
          },
          "metadata": {}
        },
        {
          "output_type": "stream",
          "name": "stdout",
          "text": [
            ".:   \t100.0%\n",
            "to:   \t0.0%\n",
            ",:   \t0.0%\n",
            "through:   \t0.0%\n",
            "for:   \t0.0%\n",
            "--------\n",
            "\n"
          ]
        },
        {
          "output_type": "display_data",
          "data": {
            "text/plain": [
              "<IPython.core.display.HTML object>"
            ],
            "text/html": [
              "<span style=\"background-color:rgba(135,206,250,0.040622476);\">wine</span> <span style=\"background-color:rgba(135,206,250,0.1443286);\">review</span> <span style=\"background-color:rgba(135,206,250,0.26419574);\">:</span> <span style=\"background-color:rgba(135,206,250,0.9717565);\">germany</span> <span style=\"background-color:rgba(135,206,250,0.21166931);\">:</span> <span style=\"background-color:rgba(135,206,250,0.2772058);\">mosel</span> <span style=\"background-color:rgba(135,206,250,0.22564344);\">:</span> <span style=\"background-color:rgba(135,206,250,0.25975707);\">riesling</span> <span style=\"background-color:rgba(135,206,250,0.1254652);\">:</span> <span style=\"background-color:rgba(135,206,250,0.050642822);\">while</span> <span style=\"background-color:rgba(135,206,250,0.06389617);\">intensely</span> <span style=\"background-color:rgba(135,206,250,0.047581628);\">floral</span> <span style=\"background-color:rgba(135,206,250,0.031688377);\">,</span> <span style=\"background-color:rgba(135,206,250,0.03535945);\">with</span> <span style=\"background-color:rgba(135,206,250,0.050138805);\">hints</span> <span style=\"background-color:rgba(135,206,250,0.017874397);\">of</span> <span style=\"background-color:rgba(135,206,250,0.056941163);\">honey</span> <span style=\"background-color:rgba(135,206,250,0.024551522);\">,</span> <span style=\"background-color:rgba(135,206,250,0.041170422);\">this</span> <span style=\"background-color:rgba(135,206,250,0.024898099);\">off</span> <span style=\"background-color:rgba(135,206,250,0.014776812);\">-</span> <span style=\"background-color:rgba(135,206,250,0.032959215);\">dry</span> <span style=\"background-color:rgba(135,206,250,0.040636368);\">riesling</span> <span style=\"background-color:rgba(135,206,250,0.028439194);\">is</span> <span style=\"background-color:rgba(135,206,250,0.06617211);\">chock</span> <span style=\"background-color:rgba(135,206,250,0.030107668);\">full</span> <span style=\"background-color:rgba(135,206,250,0.017150559);\">of</span> <span style=\"background-color:rgba(135,206,250,0.0412243);\">succulent</span> <span style=\"background-color:rgba(135,206,250,0.046570837);\">pineapple</span> <span style=\"background-color:rgba(135,206,250,0.024838667);\">and</span> <span style=\"background-color:rgba(135,206,250,0.0477907);\">mango</span> <span style=\"background-color:rgba(135,206,250,0.074053645);\">flavors</span> <span style=\"background-color:rgba(135,206,250,0.063282326);\">.</span> <span style=\"background-color:rgba(135,206,250,0.024574053);\">it</span> <span style=\"background-color:rgba(135,206,250,0.012398171);\">'</span> <span style=\"background-color:rgba(135,206,250,0.033362426);\">s</span> <span style=\"background-color:rgba(135,206,250,0.044198565);\">rich</span> <span style=\"background-color:rgba(135,206,250,0.032125898);\">and</span> <span style=\"background-color:rgba(135,206,250,0.04934597);\">concentrated</span> <span style=\"background-color:rgba(135,206,250,0.038722068);\">,</span> <span style=\"background-color:rgba(135,206,250,0.06616858);\">but</span> <span style=\"background-color:rgba(135,206,250,0.30159748);\">finishes</span> <span style=\"background-color:rgba(135,206,250,0.05753251);\">with</span> <span style=\"background-color:rgba(135,206,250,0.03384051);\">a</span> <span style=\"background-color:rgba(135,206,250,0.19526231);\">bristle</span> <span style=\"background-color:rgba(135,206,250,0.038447034);\">of</span> <span style=\"background-color:rgba(135,206,250,0.08364511);\">lemon</span> <span style=\"background-color:rgba(135,206,250,0.038133577);\">-</span> <span style=\"background-color:rgba(135,206,250,0.12575145);\">lime</span> <span style=\"background-color:rgba(135,206,250,0.14838332);\">acidity</span> <span style=\"background-color:rgba(135,206,250,0.16179325);\">.</span> <span style=\"background-color:rgba(135,206,250,0.47494894);\">drink</span> <span style=\"background-color:rgba(135,206,250,0.4020904);\">now</span> <span style=\"background-color:rgba(135,206,250,0.108255096);\">through</span> <span style=\"background-color:rgba(135,206,250,1.0);\">2020</span> <span style=\"background-color:rgba(135,206,250,0.38545617);\">.</span>"
            ]
          },
          "metadata": {}
        },
        {
          "output_type": "stream",
          "name": "stdout",
          "text": [
            ":   \t100.0%\n",
            "imported:   \t0.0%\n",
            "drink:   \t0.0%\n",
            "beyond:   \t0.0%\n",
            "enjoy:   \t0.0%\n",
            "--------\n",
            "\n"
          ]
        }
      ],
      "source": [
        "info = text_generator.generate(\n",
        "    \"wine review : germany\", max_tokens=80, temperature=0.5\n",
        ")\n",
        "print_probs(info, vocab)"
      ]
    },
    {
      "cell_type": "code",
      "execution_count": null,
      "id": "fcc7a7c0-6c64-47d3-acee-96e48f025e01",
      "metadata": {
        "id": "fcc7a7c0-6c64-47d3-acee-96e48f025e01"
      },
      "outputs": [],
      "source": []
    },
    {
      "cell_type": "code",
      "execution_count": null,
      "id": "4122154c-9e41-44ba-8c5f-fe88a55fe977",
      "metadata": {
        "id": "4122154c-9e41-44ba-8c5f-fe88a55fe977"
      },
      "outputs": [],
      "source": []
    }
  ],
  "metadata": {
    "kernelspec": {
      "display_name": "Python 3",
      "name": "python3"
    },
    "language_info": {
      "codemirror_mode": {
        "name": "ipython",
        "version": 3
      },
      "file_extension": ".py",
      "mimetype": "text/x-python",
      "name": "python",
      "nbconvert_exporter": "python",
      "pygments_lexer": "ipython3",
      "version": "3.8.10"
    },
    "vscode": {
      "interpreter": {
        "hash": "31f2aee4e71d21fbe5cf8b01ff0e069b9275f58929596ceb00d14d90e3e16cd6"
      }
    },
    "colab": {
      "provenance": [],
      "gpuType": "T4"
    },
    "accelerator": "GPU"
  },
  "nbformat": 4,
  "nbformat_minor": 5
}